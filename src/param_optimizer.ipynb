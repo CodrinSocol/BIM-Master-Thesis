{
 "cells": [
  {
   "cell_type": "code",
   "id": "initial_id",
   "metadata": {
    "collapsed": true,
    "ExecuteTime": {
     "end_time": "2025-05-24T19:52:29.096065Z",
     "start_time": "2025-05-24T19:52:27.880747Z"
    }
   },
   "source": [
    "# Imports\n",
    "import numpy as np\n",
    "import optuna\n",
    "from hftbacktest import BacktestAsset, HashMapMarketDepthBacktest\n",
    "from hftbacktest import Recorder\n",
    "from hftbacktest.stats import LinearAssetRecord\n",
    "\n",
    "from src.strategies import glft\n",
    "\n",
    "# Data Input paths\n",
    "preprocessed_data_path = \"../data/daily_processed\"\n",
    "daily_eod_snapshots = \"../data/snapshots\" # EOD = End Of Day "
   ],
   "outputs": [
    {
     "name": "stderr",
     "output_type": "stream",
     "text": [
      "C:\\Users\\codri\\AppData\\Local\\Packages\\PythonSoftwareFoundation.Python.3.12_qbz5n2kfra8p0\\LocalCache\\local-packages\\Python312\\site-packages\\tqdm\\auto.py:21: TqdmWarning: IProgress not found. Please update jupyter and ipywidgets. See https://ipywidgets.readthedocs.io/en/stable/user_install.html\n",
      "  from .autonotebook import tqdm as notebook_tqdm\n"
     ]
    }
   ],
   "execution_count": 1
  },
  {
   "metadata": {
    "ExecuteTime": {
     "end_time": "2025-05-24T19:52:29.113240Z",
     "start_time": "2025-05-24T19:52:29.108077Z"
    }
   },
   "cell_type": "code",
   "source": [
    "# Taken from https://support.deribit.com/hc/en-us/articles/25944746248989-Fees\n",
    "MAKER_FEE = -0.0001   \n",
    "TAKER_FEE =  0.0005    "
   ],
   "id": "5dbd3c3d58c7639e",
   "outputs": [],
   "execution_count": 2
  },
  {
   "metadata": {
    "ExecuteTime": {
     "end_time": "2025-05-24T19:52:29.131259Z",
     "start_time": "2025-05-24T19:52:29.120249Z"
    }
   },
   "cell_type": "code",
   "source": [
    "from src.strategies.glft import gridtrading_glft_mm\n",
    "day_start = 2\n",
    "day_end = 22\n",
    "\n",
    "\n",
    "def objective(trial):\n",
    "    data = []\n",
    "    latencies = []\n",
    "    for i in range(day_start, day_end):\n",
    "        day = str(i) if i > 9 else \"0\" + str(i)\n",
    "        day_file = f\"../data/daily_processed/deribit_eth_perp_2025-01-{day}.npz\"\n",
    "        day_latency = f\"../data/latencies/latency_2025-01-{day}_latency.npz\"\n",
    "        data.append(day_file)\n",
    "        # latencies.append(day_latency)\n",
    "    day_start_str = str(day_start - 1) if day_start > 10 else \"0\" + str(day_start - 1)\n",
    "    eod = np.load(f\"../data/snapshots/deribit_eth_perp_2025-01-{day_start_str}_eod.npz\")['data']\n",
    "\n",
    "    gamma = trial.suggest_float(\"gamma\", 0.01, 0.1)\n",
    "    delta = trial.suggest_int(\"delta\", 1, 10)\n",
    "    adj1 = trial.suggest_float(\"adj1\", 0.01, 2)\n",
    "    adj2 = trial.suggest_float(\"adj2\", 0.01, 1)\n",
    "    max_position=50\n",
    "    asset = (\n",
    "    BacktestAsset()\n",
    "        .data(data)\n",
    "        .initial_snapshot(eod)\n",
    "        .linear_asset(1.0)\n",
    "        # .intp_order_latency(latencies, True)\n",
    "        .constant_latency(10000, 10000) # Constant latency model (nanoseconds) values inspired from https://roq-trading.com/docs/blogs/2023-01-12/deribit/\n",
    "        .risk_adverse_queue_model()\n",
    "        # .power_prob_queue_model(2.0)\n",
    "        .no_partial_fill_exchange()\n",
    "        .trading_value_fee_model(MAKER_FEE, TAKER_FEE)\n",
    "        .tick_size(0.01) # Tick size of this asset: minimum price increasement\n",
    "        .lot_size(1) # Lot size of this asset: minimum trading unit\n",
    "        # .roi_lb(0.0) # Sets the lower bound price for the range of interest in the market depth.\n",
    "        # .roi_ub(3000.0) # Sets the upper bound price for the range of interest in the market depth.\n",
    "        .last_trades_capacity(10000)\n",
    "    )\n",
    "    \n",
    "    hbt = HashMapMarketDepthBacktest([asset])\n",
    "\n",
    "  \n",
    "    n_trading_days = day_end - day_start\n",
    "    recorder = Recorder(1, n_trading_days* 1_000_000)\n",
    "    \n",
    "    gridtrading_glft_mm(hbt, recorder.recorder, n_trading_days, gamma, delta, adj1, adj2, max_position)\n",
    "    hbt.close()\n",
    "\n",
    "    stats = LinearAssetRecord(recorder.get(0)).stats()\n",
    "    return stats.summary(pretty=True)['Return'][0]"
   ],
   "id": "c5991a38d38d2ad0",
   "outputs": [],
   "execution_count": 3
  },
  {
   "metadata": {
    "ExecuteTime": {
     "end_time": "2025-05-25T04:36:12.401301Z",
     "start_time": "2025-05-24T19:52:29.142785Z"
    }
   },
   "cell_type": "code",
   "source": [
    "from optuna.samplers import TPESampler\n",
    "\n",
    "sampler = TPESampler(seed=42) # ensures reproducibility\n",
    "study = optuna.create_study(direction='maximize', sampler=sampler)\n",
    "study.optimize(objective, n_trials=100)"
   ],
   "id": "638b6856a3d228e7",
   "outputs": [
    {
     "name": "stderr",
     "output_type": "stream",
     "text": [
      "[I 2025-05-24 21:52:29,147] A new study created in memory with name: no-name-75b22766-8bbc-4897-8228-38a13e8f4bf8\n",
      "[I 2025-05-24 21:57:49,338] Trial 0 finished with value: 176.4133919999971 and parameters: {'gamma': 0.04370861069626263, 'delta': 10, 'adj1': 1.4666679442046962, 'adj2': 0.6026718993550663}. Best is trial 0 with value: 176.4133919999971.\n",
      "[I 2025-05-24 22:03:05,852] Trial 1 finished with value: -39895.76990198647 and parameters: {'gamma': 0.02404167763981929, 'delta': 2, 'adj1': 0.12558638821471693, 'adj2': 0.8675143843171859}. Best is trial 0 with value: 176.4133919999971.\n",
      "[I 2025-05-24 22:08:54,849] Trial 2 finished with value: -10421.198606001853 and parameters: {'gamma': 0.0641003510568888, 'delta': 8, 'adj1': 0.05096314364864687, 'adj2': 0.9702107536403743}. Best is trial 0 with value: 176.4133919999971.\n",
      "[I 2025-05-24 22:14:28,828] Trial 3 finished with value: 342.42575099991654 and parameters: {'gamma': 0.08491983767203796, 'delta': 3, 'adj1': 0.37183168474213024, 'adj2': 0.1915704647548995}. Best is trial 3 with value: 342.42575099991654.\n",
      "[I 2025-05-24 22:21:05,917] Trial 4 finished with value: -1107.8915139999926 and parameters: {'gamma': 0.0373818018663584, 'delta': 6, 'adj1': 0.8695705870978103, 'adj2': 0.2983168487960615}. Best is trial 3 with value: 342.42575099991654.\n",
      "[I 2025-05-24 22:26:46,113] Trial 5 finished with value: 441.5236209999953 and parameters: {'gamma': 0.06506676052501416, 'delta': 2, 'adj1': 0.5913678505850841, 'adj2': 0.37269822486075477}. Best is trial 5 with value: 441.5236209999953.\n",
      "[I 2025-05-24 22:32:20,726] Trial 6 finished with value: -587.0359750000168 and parameters: {'gamma': 0.05104629857953324, 'delta': 8, 'adj1': 0.4073508264951359, 'adj2': 0.5190920940294755}. Best is trial 5 with value: 441.5236209999953.\n",
      "[I 2025-05-24 22:38:03,443] Trial 7 finished with value: 210.09004999995454 and parameters: {'gamma': 0.06331731119758383, 'delta': 1, 'adj1': 1.2190142552838623, 'adj2': 0.17881888245041863}. Best is trial 5 with value: 441.5236209999953.\n",
      "[I 2025-05-24 22:46:01,279] Trial 8 finished with value: -215.89542600000942 and parameters: {'gamma': 0.015854643368675158, 'delta': 10, 'adj1': 1.9316077458183731, 'adj2': 0.8103133746352965}. Best is trial 5 with value: 441.5236209999953.\n",
      "[I 2025-05-24 22:53:18,120] Trial 9 finished with value: 960.7697069999863 and parameters: {'gamma': 0.037415239225603365, 'delta': 1, 'adj1': 1.3716237227591923, 'adj2': 0.44575096880220527}. Best is trial 9 with value: 960.7697069999863.\n",
      "[I 2025-05-24 23:00:08,681] Trial 10 finished with value: -724.8685790000144 and parameters: {'gamma': 0.09506228898073485, 'delta': 4, 'adj1': 1.7084094865007755, 'adj2': 0.027782256858671583}. Best is trial 9 with value: 960.7697069999863.\n",
      "[I 2025-05-24 23:06:43,688] Trial 11 finished with value: 810.1796989999466 and parameters: {'gamma': 0.07436526509771157, 'delta': 1, 'adj1': 0.8512751367887545, 'adj2': 0.38642852535455335}. Best is trial 9 with value: 960.7697069999863.\n",
      "[I 2025-05-24 23:13:28,832] Trial 12 finished with value: 674.1543349999549 and parameters: {'gamma': 0.07934676199093324, 'delta': 1, 'adj1': 0.9855003853431292, 'adj2': 0.66002089129936}. Best is trial 9 with value: 960.7697069999863.\n",
      "[I 2025-05-24 23:22:19,731] Trial 13 finished with value: -885.9321159999802 and parameters: {'gamma': 0.03368631003879738, 'delta': 5, 'adj1': 1.325214272284652, 'adj2': 0.42371260352628864}. Best is trial 9 with value: 960.7697069999863.\n",
      "[I 2025-05-24 23:31:33,252] Trial 14 finished with value: -3.3643579999974236 and parameters: {'gamma': 0.07607698645132428, 'delta': 3, 'adj1': 0.8082901378288219, 'adj2': 0.6726156484507972}. Best is trial 9 with value: 960.7697069999863.\n",
      "[I 2025-05-24 23:40:44,733] Trial 15 finished with value: 430.2944070000275 and parameters: {'gamma': 0.05229225101486072, 'delta': 1, 'adj1': 1.55902275240548, 'adj2': 0.4929531757294534}. Best is trial 9 with value: 960.7697069999863.\n",
      "[I 2025-05-24 23:49:55,827] Trial 16 finished with value: -1113.5190999999934 and parameters: {'gamma': 0.09764981418275953, 'delta': 6, 'adj1': 1.1245838038734637, 'adj2': 0.25919344050270754}. Best is trial 9 with value: 960.7697069999863.\n",
      "[I 2025-05-24 23:55:37,897] Trial 17 finished with value: -3092.6615760001214 and parameters: {'gamma': 0.026877936829003073, 'delta': 3, 'adj1': 0.6651714455548055, 'adj2': 0.040466503116097896}. Best is trial 9 with value: 960.7697069999863.\n",
      "[I 2025-05-25 00:00:48,082] Trial 18 finished with value: -1878.1206470000002 and parameters: {'gamma': 0.012299454532948909, 'delta': 4, 'adj1': 1.8290376701116489, 'adj2': 0.36939558257350863}. Best is trial 9 with value: 960.7697069999863.\n",
      "[I 2025-05-25 00:05:40,515] Trial 19 finished with value: -430.32365300001226 and parameters: {'gamma': 0.07023504828732231, 'delta': 2, 'adj1': 1.359334060809111, 'adj2': 0.5419669590610314}. Best is trial 9 with value: 960.7697069999863.\n",
      "[I 2025-05-25 00:11:37,994] Trial 20 finished with value: 66.85037700001246 and parameters: {'gamma': 0.04417474322107627, 'delta': 7, 'adj1': 1.079857347380885, 'adj2': 0.7729462629373578}. Best is trial 9 with value: 960.7697069999863.\n",
      "[I 2025-05-25 00:17:01,759] Trial 21 finished with value: 672.8100040000368 and parameters: {'gamma': 0.08701188643236828, 'delta': 1, 'adj1': 1.0074972032156426, 'adj2': 0.6573490754327391}. Best is trial 9 with value: 960.7697069999863.\n",
      "[I 2025-05-25 00:22:09,708] Trial 22 finished with value: 605.3147469999931 and parameters: {'gamma': 0.0804346712393347, 'delta': 1, 'adj1': 0.9117026084757547, 'adj2': 0.45406552560420593}. Best is trial 9 with value: 960.7697069999863.\n",
      "[I 2025-05-25 00:27:14,504] Trial 23 finished with value: 532.8511630000153 and parameters: {'gamma': 0.05863673673854498, 'delta': 2, 'adj1': 0.6465464214578065, 'adj2': 0.7224898619249512}. Best is trial 9 with value: 960.7697069999863.\n",
      "[I 2025-05-25 00:32:00,497] Trial 24 finished with value: 387.6487349999939 and parameters: {'gamma': 0.07231603332647865, 'delta': 4, 'adj1': 1.2623640453993328, 'adj2': 0.5811796821507811}. Best is trial 9 with value: 960.7697069999863.\n",
      "[I 2025-05-25 00:36:55,587] Trial 25 finished with value: -72.06889100001985 and parameters: {'gamma': 0.09063156586603174, 'delta': 1, 'adj1': 1.5538915232387547, 'adj2': 0.29223113267583906}. Best is trial 9 with value: 960.7697069999863.\n",
      "[I 2025-05-25 00:41:51,221] Trial 26 finished with value: 418.2915009999955 and parameters: {'gamma': 0.08004348781097952, 'delta': 2, 'adj1': 0.8397537248845065, 'adj2': 0.4053012827605691}. Best is trial 9 with value: 960.7697069999863.\n",
      "[I 2025-05-25 00:46:50,415] Trial 27 finished with value: 73.37562300002196 and parameters: {'gamma': 0.04444594894569792, 'delta': 3, 'adj1': 1.1516420403361285, 'adj2': 0.627866493238809}. Best is trial 9 with value: 960.7697069999863.\n",
      "[I 2025-05-25 00:51:44,359] Trial 28 finished with value: -173.2102419998664 and parameters: {'gamma': 0.07044089343023544, 'delta': 1, 'adj1': 0.48301700544558457, 'adj2': 0.4746528050859601}. Best is trial 9 with value: 960.7697069999863.\n",
      "[I 2025-05-25 00:56:41,996] Trial 29 finished with value: -403.0992030000026 and parameters: {'gamma': 0.05724773508903114, 'delta': 5, 'adj1': 1.4538305030608072, 'adj2': 0.576226450074566}. Best is trial 9 with value: 960.7697069999863.\n",
      "[I 2025-05-25 01:01:37,643] Trial 30 finished with value: -244.87541999998967 and parameters: {'gamma': 0.03543383685941962, 'delta': 10, 'adj1': 1.0299934442773584, 'adj2': 0.11612624026176677}. Best is trial 9 with value: 960.7697069999863.\n",
      "[I 2025-05-25 01:06:31,578] Trial 31 finished with value: 760.4215660000211 and parameters: {'gamma': 0.08725718911700103, 'delta': 1, 'adj1': 0.9565743134216852, 'adj2': 0.652686956013564}. Best is trial 9 with value: 960.7697069999863.\n",
      "[I 2025-05-25 01:11:22,754] Trial 32 finished with value: 286.3856699999601 and parameters: {'gamma': 0.08923622997430915, 'delta': 2, 'adj1': 0.7380231511698112, 'adj2': 0.903908337613869}. Best is trial 9 with value: 960.7697069999863.\n",
      "[I 2025-05-25 01:16:16,226] Trial 33 finished with value: 174.04173100000958 and parameters: {'gamma': 0.08252056118792671, 'delta': 2, 'adj1': 0.9923747227671096, 'adj2': 0.7246919439578167}. Best is trial 9 with value: 960.7697069999863.\n",
      "[I 2025-05-25 01:21:08,225] Trial 34 finished with value: -8959.001716998668 and parameters: {'gamma': 0.07476142701102585, 'delta': 1, 'adj1': 0.2429938828186331, 'adj2': 0.3428837354704721}. Best is trial 9 with value: 960.7697069999863.\n",
      "[I 2025-05-25 01:26:01,829] Trial 35 finished with value: 546.4533720000055 and parameters: {'gamma': 0.0952733453530551, 'delta': 9, 'adj1': 0.9398524297495965, 'adj2': 0.8483130749497643}. Best is trial 9 with value: 960.7697069999863.\n",
      "[I 2025-05-25 01:30:53,526] Trial 36 finished with value: 729.4081230000775 and parameters: {'gamma': 0.023587228579406004, 'delta': 3, 'adj1': 0.5342354959170318, 'adj2': 0.6969531787993595}. Best is trial 9 with value: 960.7697069999863.\n",
      "[I 2025-05-25 01:35:40,228] Trial 37 finished with value: -11776.731207003075 and parameters: {'gamma': 0.02085388924008583, 'delta': 3, 'adj1': 0.24508902960650208, 'adj2': 0.989566642976794}. Best is trial 9 with value: 960.7697069999863.\n",
      "[I 2025-05-25 01:40:29,482] Trial 38 finished with value: 656.4890820000073 and parameters: {'gamma': 0.026766100032591913, 'delta': 2, 'adj1': 0.5555513789852289, 'adj2': 0.5429342045101124}. Best is trial 9 with value: 960.7697069999863.\n",
      "[I 2025-05-25 01:45:21,580] Trial 39 finished with value: 556.6288869999951 and parameters: {'gamma': 0.03899223438786584, 'delta': 4, 'adj1': 0.7503582441878515, 'adj2': 0.7296652392642604}. Best is trial 9 with value: 960.7697069999863.\n",
      "[I 2025-05-25 01:50:14,211] Trial 40 finished with value: 703.2145759999726 and parameters: {'gamma': 0.020838065956232447, 'delta': 2, 'adj1': 1.2236865063974345, 'adj2': 0.6033854578324308}. Best is trial 9 with value: 960.7697069999863.\n",
      "[I 2025-05-25 01:55:07,198] Trial 41 finished with value: 521.1843710000271 and parameters: {'gamma': 0.024061671159866602, 'delta': 2, 'adj1': 1.172152204971816, 'adj2': 0.6069989558341217}. Best is trial 9 with value: 960.7697069999863.\n",
      "[I 2025-05-25 02:00:02,259] Trial 42 finished with value: 355.5804259999912 and parameters: {'gamma': 0.03107817935147318, 'delta': 3, 'adj1': 1.4015892261129073, 'adj2': 0.7848169735248999}. Best is trial 9 with value: 960.7697069999863.\n",
      "[I 2025-05-25 02:04:56,833] Trial 43 finished with value: 1539.621861000045 and parameters: {'gamma': 0.01748223704966246, 'delta': 1, 'adj1': 1.2496793241315, 'adj2': 0.5021266809048304}. Best is trial 43 with value: 1539.621861000045.\n",
      "[I 2025-05-25 02:09:47,849] Trial 44 finished with value: 884.2028769999647 and parameters: {'gamma': 0.010273105538232042, 'delta': 1, 'adj1': 1.5585967674753503, 'adj2': 0.4244036112083599}. Best is trial 43 with value: 1539.621861000045.\n",
      "[I 2025-05-25 02:14:38,706] Trial 45 finished with value: 347.3793129999599 and parameters: {'gamma': 0.011418322958826813, 'delta': 1, 'adj1': 1.622646282691575, 'adj2': 0.4389253261366451}. Best is trial 43 with value: 1539.621861000045.\n",
      "[I 2025-05-25 02:19:28,411] Trial 46 finished with value: 397.4406459998954 and parameters: {'gamma': 0.017556208265000085, 'delta': 1, 'adj1': 1.7836754379379387, 'adj2': 0.2274556770962118}. Best is trial 43 with value: 1539.621861000045.\n",
      "[I 2025-05-25 02:24:23,202] Trial 47 finished with value: 489.4663549999734 and parameters: {'gamma': 0.04895235255924778, 'delta': 1, 'adj1': 1.3129800502440878, 'adj2': 0.3139543183920645}. Best is trial 43 with value: 1539.621861000045.\n",
      "[I 2025-05-25 02:29:15,813] Trial 48 finished with value: 691.8858300000193 and parameters: {'gamma': 0.01647298607732816, 'delta': 2, 'adj1': 1.5243544337352737, 'adj2': 0.385817942944305}. Best is trial 43 with value: 1539.621861000045.\n",
      "[I 2025-05-25 02:34:05,396] Trial 49 finished with value: 696.4154519999915 and parameters: {'gamma': 0.010776465031294261, 'delta': 1, 'adj1': 1.7121435386154362, 'adj2': 0.5119960143646034}. Best is trial 43 with value: 1539.621861000045.\n",
      "[I 2025-05-25 02:39:05,397] Trial 50 finished with value: -532.3377309999951 and parameters: {'gamma': 0.06600642068991269, 'delta': 7, 'adj1': 1.9705634176648439, 'adj2': 0.4771928684148369}. Best is trial 43 with value: 1539.621861000045.\n",
      "[I 2025-05-25 02:43:58,973] Trial 51 finished with value: -67.18430700001147 and parameters: {'gamma': 0.020185333416246516, 'delta': 3, 'adj1': 1.4289187765436184, 'adj2': 0.3438026350748776}. Best is trial 43 with value: 1539.621861000045.\n",
      "[I 2025-05-25 02:48:52,196] Trial 52 finished with value: -6907.147123994539 and parameters: {'gamma': 0.02977431591072597, 'delta': 1, 'adj1': 0.4270633792503288, 'adj2': 0.4148761501441736}. Best is trial 43 with value: 1539.621861000045.\n",
      "[I 2025-05-25 02:53:46,609] Trial 53 finished with value: 1177.468267000033 and parameters: {'gamma': 0.014470178599220779, 'delta': 2, 'adj1': 1.1057221994563595, 'adj2': 0.5572147119562709}. Best is trial 43 with value: 1539.621861000045.\n",
      "[I 2025-05-25 02:58:36,898] Trial 54 finished with value: 1872.5300520001038 and parameters: {'gamma': 0.014521811425276178, 'delta': 1, 'adj1': 1.1002865188535522, 'adj2': 0.5391976890070431}. Best is trial 54 with value: 1872.5300520001038.\n",
      "[I 2025-05-25 03:03:29,809] Trial 55 finished with value: 1056.4238900000773 and parameters: {'gamma': 0.014976018088513201, 'delta': 2, 'adj1': 1.087216847490928, 'adj2': 0.523096916995206}. Best is trial 54 with value: 1872.5300520001038.\n",
      "[I 2025-05-25 03:08:21,729] Trial 56 finished with value: 831.8122249999415 and parameters: {'gamma': 0.014210646744934788, 'delta': 2, 'adj1': 1.1007088417554722, 'adj2': 0.5309619199818998}. Best is trial 54 with value: 1872.5300520001038.\n",
      "[I 2025-05-25 03:13:15,758] Trial 57 finished with value: 319.1183269999792 and parameters: {'gamma': 0.01447751394505379, 'delta': 2, 'adj1': 1.2887300436692701, 'adj2': 0.559499346130599}. Best is trial 54 with value: 1872.5300520001038.\n",
      "[I 2025-05-25 03:18:03,881] Trial 58 finished with value: 1514.8617570000015 and parameters: {'gamma': 0.019286191242230757, 'delta': 1, 'adj1': 1.199345576017782, 'adj2': 0.49036687257868417}. Best is trial 54 with value: 1872.5300520001038.\n",
      "[I 2025-05-25 03:22:58,885] Trial 59 finished with value: 533.268544999989 and parameters: {'gamma': 0.03965228386545401, 'delta': 2, 'adj1': 1.0632327661869905, 'adj2': 0.5099343786795246}. Best is trial 54 with value: 1872.5300520001038.\n",
      "[I 2025-05-25 03:27:50,450] Trial 60 finished with value: 1146.9765659999512 and parameters: {'gamma': 0.019419166522528217, 'delta': 1, 'adj1': 1.2051579709007452, 'adj2': 0.45950163255193216}. Best is trial 54 with value: 1872.5300520001038.\n",
      "[I 2025-05-25 03:32:39,526] Trial 61 finished with value: 1395.7765049999916 and parameters: {'gamma': 0.018142804742479188, 'delta': 1, 'adj1': 1.2190232366453768, 'adj2': 0.46388543271154753}. Best is trial 54 with value: 1872.5300520001038.\n",
      "[I 2025-05-25 03:37:30,955] Trial 62 finished with value: 1753.8170209999703 and parameters: {'gamma': 0.019016399444697234, 'delta': 1, 'adj1': 1.2336191729547565, 'adj2': 0.4690981443631954}. Best is trial 54 with value: 1872.5300520001038.\n",
      "[I 2025-05-25 03:42:20,232] Trial 63 finished with value: 1084.1823560001685 and parameters: {'gamma': 0.018730819743680217, 'delta': 1, 'adj1': 1.2319201904527048, 'adj2': 0.4936844009143663}. Best is trial 54 with value: 1872.5300520001038.\n",
      "[I 2025-05-25 03:47:08,405] Trial 64 finished with value: 1344.4999570000136 and parameters: {'gamma': 0.024817224228074447, 'delta': 1, 'adj1': 1.1776967256209478, 'adj2': 0.4718272989138422}. Best is trial 54 with value: 1872.5300520001038.\n",
      "[I 2025-05-25 03:51:57,932] Trial 65 finished with value: 1159.3256969999957 and parameters: {'gamma': 0.02429864882781594, 'delta': 1, 'adj1': 1.355524177795073, 'adj2': 0.5790160366665152}. Best is trial 54 with value: 1872.5300520001038.\n",
      "[I 2025-05-25 03:56:47,330] Trial 66 finished with value: 1295.1599939999674 and parameters: {'gamma': 0.027723009387169505, 'delta': 1, 'adj1': 1.1628362492887823, 'adj2': 0.4543063765306194}. Best is trial 54 with value: 1872.5300520001038.\n",
      "[I 2025-05-25 04:01:36,727] Trial 67 finished with value: 1068.9222019999875 and parameters: {'gamma': 0.027882894134390598, 'delta': 1, 'adj1': 1.2906506573065872, 'adj2': 0.3636094493089328}. Best is trial 54 with value: 1872.5300520001038.\n",
      "[I 2025-05-25 04:06:24,987] Trial 68 finished with value: 977.2976990000211 and parameters: {'gamma': 0.0335861514289117, 'delta': 1, 'adj1': 1.1649936039203406, 'adj2': 0.4541894348031848}. Best is trial 54 with value: 1872.5300520001038.\n",
      "[I 2025-05-25 04:11:15,624] Trial 69 finished with value: 1296.5224430000999 and parameters: {'gamma': 0.022413339229571533, 'delta': 1, 'adj1': 0.8951905492234404, 'adj2': 0.40466498940902174}. Best is trial 54 with value: 1872.5300520001038.\n",
      "[I 2025-05-25 04:16:03,472] Trial 70 finished with value: 1457.5540509999846 and parameters: {'gamma': 0.022365789215031948, 'delta': 2, 'adj1': 0.8807247904670374, 'adj2': 0.404856450175926}. Best is trial 54 with value: 1872.5300520001038.\n",
      "[I 2025-05-25 04:20:52,362] Trial 71 finished with value: 1802.99767600007 and parameters: {'gamma': 0.02268316351968666, 'delta': 1, 'adj1': 0.873265563130659, 'adj2': 0.41077435031942167}. Best is trial 54 with value: 1872.5300520001038.\n",
      "[I 2025-05-25 04:25:41,339] Trial 72 finished with value: 1598.3294929998901 and parameters: {'gamma': 0.017729183699001512, 'delta': 2, 'adj1': 0.7904703337525658, 'adj2': 0.488328002044082}. Best is trial 54 with value: 1872.5300520001038.\n",
      "[I 2025-05-25 04:30:28,053] Trial 73 finished with value: 1320.903271999974 and parameters: {'gamma': 0.017022534859335244, 'delta': 2, 'adj1': 0.7832450916925826, 'adj2': 0.3143058440393322}. Best is trial 54 with value: 1872.5300520001038.\n",
      "[I 2025-05-25 04:35:16,361] Trial 74 finished with value: 310.592039999141 and parameters: {'gamma': 0.013140086470948838, 'delta': 2, 'adj1': 0.6607606972852182, 'adj2': 0.3970556542907255}. Best is trial 54 with value: 1872.5300520001038.\n",
      "[I 2025-05-25 04:40:11,292] Trial 75 finished with value: 999.9166629999477 and parameters: {'gamma': 0.02155392731945442, 'delta': 2, 'adj1': 1.0405051355991992, 'adj2': 0.6275283505902709}. Best is trial 54 with value: 1872.5300520001038.\n",
      "[I 2025-05-25 04:45:01,018] Trial 76 finished with value: 884.5845409999538 and parameters: {'gamma': 0.017650771597968903, 'delta': 5, 'adj1': 0.8465571841639233, 'adj2': 0.4953051367756633}. Best is trial 54 with value: 1872.5300520001038.\n",
      "[I 2025-05-25 04:49:47,855] Trial 77 finished with value: 1698.596080000013 and parameters: {'gamma': 0.02995251592142035, 'delta': 1, 'adj1': 0.9555557401751851, 'adj2': 0.42585423114162063}. Best is trial 54 with value: 1872.5300520001038.\n",
      "[I 2025-05-25 04:54:40,242] Trial 78 finished with value: 259.3170349999716 and parameters: {'gamma': 0.03175332451733358, 'delta': 3, 'adj1': 0.9596252717257248, 'adj2': 0.28314536621266617}. Best is trial 54 with value: 1872.5300520001038.\n",
      "[I 2025-05-25 04:59:34,862] Trial 79 finished with value: -6.433294000018805 and parameters: {'gamma': 0.02564872589220716, 'delta': 6, 'adj1': 0.7971243911980859, 'adj2': 0.3496933447893866}. Best is trial 54 with value: 1872.5300520001038.\n",
      "[I 2025-05-25 05:04:25,294] Trial 80 finished with value: 1769.5738850000562 and parameters: {'gamma': 0.02154974895247865, 'delta': 1, 'adj1': 0.8972060807670248, 'adj2': 0.43793734058553624}. Best is trial 54 with value: 1872.5300520001038.\n",
      "[I 2025-05-25 05:09:15,674] Trial 81 finished with value: 1611.7836549999593 and parameters: {'gamma': 0.022401101487198326, 'delta': 1, 'adj1': 0.8888967191900907, 'adj2': 0.430148755436407}. Best is trial 54 with value: 1872.5300520001038.\n",
      "[I 2025-05-25 05:14:01,249] Trial 82 finished with value: 1760.2708320000693 and parameters: {'gamma': 0.020056790830858238, 'delta': 1, 'adj1': 0.9951992650858459, 'adj2': 0.4296837573001257}. Best is trial 54 with value: 1872.5300520001038.\n",
      "[I 2025-05-25 05:18:51,136] Trial 83 finished with value: 423.1112379999795 and parameters: {'gamma': 0.02904204256171202, 'delta': 1, 'adj1': 0.7064705886968946, 'adj2': 0.440133633486682}. Best is trial 54 with value: 1872.5300520001038.\n",
      "[I 2025-05-25 05:23:43,213] Trial 84 finished with value: 2141.632754000151 and parameters: {'gamma': 0.012760460216353397, 'delta': 1, 'adj1': 0.9206609164886205, 'adj2': 0.4303566161919933}. Best is trial 84 with value: 2141.632754000151.\n",
      "[I 2025-05-25 05:28:33,586] Trial 85 finished with value: 2153.4649120003014 and parameters: {'gamma': 0.01143319447439636, 'delta': 1, 'adj1': 0.9314120055506834, 'adj2': 0.43081606500331926}. Best is trial 85 with value: 2153.4649120003014.\n",
      "[I 2025-05-25 05:33:22,371] Trial 86 finished with value: 1268.5685860003068 and parameters: {'gamma': 0.012163687448320795, 'delta': 1, 'adj1': 0.9253437945580057, 'adj2': 0.37366945651072986}. Best is trial 85 with value: 2153.4649120003014.\n",
      "[I 2025-05-25 05:38:11,222] Trial 87 finished with value: 2119.681931999652 and parameters: {'gamma': 0.010042837717131558, 'delta': 1, 'adj1': 1.0045386073076978, 'adj2': 0.43107975472384985}. Best is trial 85 with value: 2153.4649120003014.\n",
      "[I 2025-05-25 05:43:01,149] Trial 88 finished with value: 1651.9302590000625 and parameters: {'gamma': 0.012260100120389883, 'delta': 1, 'adj1': 0.9831008234902343, 'adj2': 0.3832545955028746}. Best is trial 85 with value: 2153.4649120003014.\n",
      "[I 2025-05-25 05:47:54,643] Trial 89 finished with value: -1007.1558640000584 and parameters: {'gamma': 0.015867485914015458, 'delta': 8, 'adj1': 1.0186165464609385, 'adj2': 0.3435914903490319}. Best is trial 85 with value: 2153.4649120003014.\n",
      "[I 2025-05-25 05:52:44,142] Trial 90 finished with value: -2765.2621809956763 and parameters: {'gamma': 0.012993918625314146, 'delta': 1, 'adj1': 0.6157126635824222, 'adj2': 0.24900576315163822}. Best is trial 85 with value: 2153.4649120003014.\n",
      "[I 2025-05-25 05:57:31,699] Trial 91 finished with value: 1175.396285999741 and parameters: {'gamma': 0.011360406480840555, 'delta': 1, 'adj1': 1.0141808321069565, 'adj2': 0.3745611209228493}. Best is trial 85 with value: 2153.4649120003014.\n",
      "[I 2025-05-25 06:02:19,682] Trial 92 finished with value: 1521.8952229998704 and parameters: {'gamma': 0.015406477620872426, 'delta': 1, 'adj1': 0.9472608707563459, 'adj2': 0.3268704415356034}. Best is trial 85 with value: 2153.4649120003014.\n",
      "[I 2025-05-25 06:07:09,492] Trial 93 finished with value: 1391.6610490002313 and parameters: {'gamma': 0.01005742042551193, 'delta': 1, 'adj1': 0.9771890447765149, 'adj2': 0.43220411926183216}. Best is trial 85 with value: 2153.4649120003014.\n",
      "[I 2025-05-25 06:11:57,705] Trial 94 finished with value: 1321.2139460001672 and parameters: {'gamma': 0.013476311435941088, 'delta': 1, 'adj1': 0.8472121580071574, 'adj2': 0.39096284119547786}. Best is trial 85 with value: 2153.4649120003014.\n",
      "[I 2025-05-25 06:16:46,441] Trial 95 finished with value: 440.9767490000286 and parameters: {'gamma': 0.010104658443812248, 'delta': 2, 'adj1': 1.128068739222106, 'adj2': 0.4172942785690688}. Best is trial 85 with value: 2153.4649120003014.\n",
      "[I 2025-05-25 06:21:37,898] Trial 96 finished with value: 1406.1035789998932 and parameters: {'gamma': 0.020669135240833966, 'delta': 1, 'adj1': 0.9199758287121965, 'adj2': 0.5524056038608502}. Best is trial 85 with value: 2153.4649120003014.\n",
      "[I 2025-05-25 06:26:28,747] Trial 97 finished with value: 1135.2439750000485 and parameters: {'gamma': 0.013150357453746897, 'delta': 2, 'adj1': 0.745544925690804, 'adj2': 0.5245263654693642}. Best is trial 85 with value: 2153.4649120003014.\n",
      "[I 2025-05-25 06:31:18,604] Trial 98 finished with value: 1945.329429999998 and parameters: {'gamma': 0.01572397068359492, 'delta': 1, 'adj1': 1.0591964115253827, 'adj2': 0.4425182711565499}. Best is trial 85 with value: 2153.4649120003014.\n",
      "[I 2025-05-25 06:36:12,348] Trial 99 finished with value: 1913.6800419999217 and parameters: {'gamma': 0.015869509882807897, 'delta': 1, 'adj1': 1.0449999032749648, 'adj2': 0.441192372146361}. Best is trial 85 with value: 2153.4649120003014.\n"
     ]
    }
   ],
   "execution_count": 4
  },
  {
   "metadata": {
    "ExecuteTime": {
     "end_time": "2025-05-25T04:36:13.310482Z",
     "start_time": "2025-05-25T04:36:13.296772Z"
    }
   },
   "cell_type": "code",
   "source": "study.best_params",
   "id": "9ead9766bae2136e",
   "outputs": [
    {
     "data": {
      "text/plain": [
       "{'gamma': 0.01143319447439636,\n",
       " 'delta': 1,\n",
       " 'adj1': 0.9314120055506834,\n",
       " 'adj2': 0.43081606500331926}"
      ]
     },
     "execution_count": 5,
     "metadata": {},
     "output_type": "execute_result"
    }
   ],
   "execution_count": 5
  }
 ],
 "metadata": {
  "kernelspec": {
   "display_name": "Python 3",
   "language": "python",
   "name": "python3"
  },
  "language_info": {
   "codemirror_mode": {
    "name": "ipython",
    "version": 2
   },
   "file_extension": ".py",
   "mimetype": "text/x-python",
   "name": "python",
   "nbconvert_exporter": "python",
   "pygments_lexer": "ipython2",
   "version": "2.7.6"
  }
 },
 "nbformat": 4,
 "nbformat_minor": 5
}
