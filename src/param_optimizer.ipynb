{
 "cells": [
  {
   "cell_type": "code",
   "id": "initial_id",
   "metadata": {
    "collapsed": true,
    "ExecuteTime": {
     "end_time": "2025-05-16T22:55:37.007321Z",
     "start_time": "2025-05-16T22:55:36.408772Z"
    }
   },
   "source": [
    "# Imports\n",
    "import numpy as np\n",
    "import optuna\n",
    "from hftbacktest import BacktestAsset, HashMapMarketDepthBacktest\n",
    "from hftbacktest import Recorder\n",
    "from hftbacktest.stats import LinearAssetRecord\n",
    "\n",
    "from src.strategies import glft\n",
    "\n",
    "# Data Input paths\n",
    "preprocessed_data_path = \"../data/daily_processed\"\n",
    "daily_eod_snapshots = \"../data/snapshots\" # EOD = End Of Day "
   ],
   "outputs": [
    {
     "name": "stderr",
     "output_type": "stream",
     "text": [
      "C:\\Users\\codri\\AppData\\Local\\Packages\\PythonSoftwareFoundation.Python.3.12_qbz5n2kfra8p0\\LocalCache\\local-packages\\Python312\\site-packages\\tqdm\\auto.py:21: TqdmWarning: IProgress not found. Please update jupyter and ipywidgets. See https://ipywidgets.readthedocs.io/en/stable/user_install.html\n",
      "  from .autonotebook import tqdm as notebook_tqdm\n"
     ]
    }
   ],
   "execution_count": 1
  },
  {
   "metadata": {
    "ExecuteTime": {
     "end_time": "2025-05-16T22:55:37.290655Z",
     "start_time": "2025-05-16T22:55:37.285470Z"
    }
   },
   "cell_type": "code",
   "source": "",
   "id": "1820d838efe85a45",
   "outputs": [],
   "execution_count": null
  },
  {
   "metadata": {
    "ExecuteTime": {
     "end_time": "2025-05-16T22:55:37.309613Z",
     "start_time": "2025-05-16T22:55:37.302549Z"
    }
   },
   "cell_type": "code",
   "source": [
    "# Contract-specific constants (change to match the instrument)\n",
    "TICK_SIZE = 0.05          # min price increment\n",
    "LOT_SIZE  = 10            # contracts per lot\n",
    "NOTIONAL  = 1.0           # linear P&L multiplier (1 for USD-quoted futures)\n",
    "\n",
    "# Taken from https://support.deribit.com/hc/en-us/articles/25944746248989-Fees\n",
    "MAKER_FEE = -0.0001   \n",
    "TAKER_FEE =  0.0005    "
   ],
   "id": "5dbd3c3d58c7639e",
   "outputs": [],
   "execution_count": 2
  },
  {
   "metadata": {
    "ExecuteTime": {
     "end_time": "2025-05-16T22:55:37.362244Z",
     "start_time": "2025-05-16T22:55:37.354439Z"
    }
   },
   "cell_type": "code",
   "source": [
    "from src.strategies.glft import gridtrading_glft_mm\n",
    "day_start = 2\n",
    "day_end = 22\n",
    "\n",
    "\n",
    "def objective(trial):\n",
    "    data = []\n",
    "    latencies = []\n",
    "    for i in range(day_start, day_end):\n",
    "        day = str(i) if i > 9 else \"0\" + str(i)\n",
    "        day_file = f\"../data/daily_processed/deribit_eth_perp_2025-01-{day}.npz\"\n",
    "        day_latency = f\"../data/latencies/latency_2025-01-{day}_latency.npz\"\n",
    "        data.append(day_file)\n",
    "        # latencies.append(day_latency)\n",
    "    day_start_str = str(day_start - 1) if day_start > 10 else \"0\" + str(day_start - 1)\n",
    "    eod = np.load(f\"../data/snapshots/deribit_eth_perp_2025-01-{day_start_str}_eod.npz\")['data']\n",
    "\n",
    "    gamma = trial.suggest_float(\"gamma\", 0.01, 0.1)\n",
    "    delta = trial.suggest_float(\"delta\", 0.5, 2)\n",
    "    adj1 = trial.suggest_float(\"adj1\", 0.01, 2)\n",
    "    adj2 = trial.suggest_float(\"adj2\", 0.01, 1)\n",
    "    max_position = trial.suggest_int(\"max_position\", 1, 100)\n",
    "    asset = (\n",
    "    BacktestAsset()\n",
    "        .data(data)\n",
    "        .initial_snapshot(eod)\n",
    "        .linear_asset(1.0)\n",
    "        # .intp_order_latency(latencies, True)\n",
    "        .constant_latency(0, 0) # Constant latency model (nanoseconds) values inspired from https://roq-trading.com/docs/blogs/2023-01-12/deribit/\n",
    "        .risk_adverse_queue_model()\n",
    "        # .power_prob_queue_model(2.0)\n",
    "        .no_partial_fill_exchange()\n",
    "        .trading_value_fee_model(MAKER_FEE, TAKER_FEE)\n",
    "        .tick_size(0.01) # Tick size of this asset: minimum price increasement\n",
    "        .lot_size(1) # Lot size of this asset: minimum trading unit\n",
    "        # .roi_lb(0.0) # Sets the lower bound price for the range of interest in the market depth.\n",
    "        # .roi_ub(3000.0) # Sets the upper bound price for the range of interest in the market depth.\n",
    "        .last_trades_capacity(10000)\n",
    "    )\n",
    "    \n",
    "    hbt = HashMapMarketDepthBacktest([asset])\n",
    "  \n",
    "    n_trading_days = day_end - day_start\n",
    "    recorder = Recorder(1, n_trading_days* 1_000_000)\n",
    "    \n",
    "    gridtrading_glft_mm(hbt, recorder.recorder, n_trading_days, gamma, delta, adj1, adj2, max_position)\n",
    "    hbt.close()\n",
    "\n",
    "    stats = LinearAssetRecord(recorder.get(0)).stats()\n",
    "    return stats.summary(pretty=True)['Return'][0]"
   ],
   "id": "c5991a38d38d2ad0",
   "outputs": [],
   "execution_count": 3
  },
  {
   "metadata": {
    "ExecuteTime": {
     "end_time": "2025-05-17T06:18:57.351804Z",
     "start_time": "2025-05-16T22:55:37.431305Z"
    }
   },
   "cell_type": "code",
   "source": [
    "from optuna.samplers import TPESampler\n",
    "\n",
    "sampler = TPESampler(seed=42) # ensures reproducibility\n",
    "study = optuna.create_study(direction='maximize', sampler=sampler)\n",
    "study.optimize(objective, n_trials=100)"
   ],
   "id": "638b6856a3d228e7",
   "outputs": [
    {
     "name": "stderr",
     "output_type": "stream",
     "text": [
      "[I 2025-05-17 00:55:37,441] A new study created in memory with name: no-name-989e5358-1042-4f85-a661-e4347e1cd2cb\n",
      "[I 2025-05-17 01:02:23,711] Trial 0 finished with value: 753.6101489999893 and parameters: {'gamma': 0.04370861069626263, 'delta': 1.9260714596148742, 'adj1': 1.4666679442046962, 'adj2': 0.6026718993550663, 'max_position': 16}. Best is trial 0 with value: 753.6101489999893.\n",
      "[I 2025-05-17 01:13:31,281] Trial 1 finished with value: 1191.8996200000006 and parameters: {'gamma': 0.02403950683025824, 'delta': 0.5871254182522991, 'adj1': 1.733690530092121, 'adj2': 0.6051038616257767, 'max_position': 71}. Best is trial 1 with value: 1191.8996200000006.\n",
      "[I 2025-05-17 01:22:33,681] Trial 2 finished with value: 93.97072199998274 and parameters: {'gamma': 0.011852604486622221, 'delta': 1.9548647782429915, 'adj1': 1.6665608551928393, 'adj2': 0.2202157195714934, 'max_position': 19}. Best is trial 1 with value: 1191.8996200000006.\n",
      "[I 2025-05-17 01:34:08,368] Trial 3 finished with value: 1818.8638009999959 and parameters: {'gamma': 0.026506405886809047, 'delta': 0.9563633644393066, 'adj1': 1.0542652989481534, 'adj2': 0.4376255684556946, 'max_position': 30}. Best is trial 3 with value: 1818.8638009999959.\n",
      "[I 2025-05-17 01:43:57,739] Trial 4 finished with value: 238.72690200012585 and parameters: {'gamma': 0.06506676052501416, 'delta': 0.7092407909780627, 'adj1': 0.5913678505850841, 'adj2': 0.37269822486075477, 'max_position': 46}. Best is trial 3 with value: 1818.8638009999959.\n",
      "[I 2025-05-17 01:48:10,186] Trial 5 finished with value: 798.586034000029 and parameters: {'gamma': 0.08066583652537122, 'delta': 0.7995106732375397, 'adj1': 1.0333265324430871, 'adj2': 0.596490423173422, 'max_position': 5}. Best is trial 3 with value: 1818.8638009999959.\n",
      "[I 2025-05-17 01:52:28,218] Trial 6 finished with value: -33582.28010701339 and parameters: {'gamma': 0.06467903667112945, 'delta': 0.7557861855309373, 'adj1': 0.13945267004070624, 'adj2': 0.9493966818808, 'max_position': 97}. Best is trial 3 with value: 1818.8638009999959.\n",
      "[I 2025-05-17 01:56:40,601] Trial 7 finished with value: -11767.22947300355 and parameters: {'gamma': 0.0827557613304815, 'delta': 0.9569206537600561, 'adj1': 0.2043675068727039, 'adj2': 0.6873906962470353, 'max_position': 45}. Best is trial 3 with value: 1818.8638009999959.\n",
      "[I 2025-05-17 02:01:02,423] Trial 8 finished with value: -88369.33720801014 and parameters: {'gamma': 0.020983441136030095, 'delta': 1.2427653651669053, 'adj1': 0.0784331570192846, 'adj2': 0.9102271980579942, 'max_position': 26}. Best is trial 3 with value: 1818.8638009999959.\n",
      "[I 2025-05-17 02:05:12,680] Trial 9 finished with value: 841.9514159999726 and parameters: {'gamma': 0.06962700559185839, 'delta': 0.9675666141341164, 'adj1': 1.0449353621438435, 'adj2': 0.5512431765498469, 'max_position': 19}. Best is trial 3 with value: 1818.8638009999959.\n",
      "[I 2025-05-17 02:09:23,649] Trial 10 finished with value: -1623.078899999813 and parameters: {'gamma': 0.04283023296472402, 'delta': 1.5498125148823962, 'adj1': 0.6589103382209762, 'adj2': 0.027782256858671583, 'max_position': 66}. Best is trial 3 with value: 1818.8638009999959.\n",
      "[I 2025-05-17 02:13:34,970] Trial 11 finished with value: 878.9687520000261 and parameters: {'gamma': 0.03003694138119265, 'delta': 0.514426386784445, 'adj1': 1.9544017314788191, 'adj2': 0.34144722446100406, 'max_position': 72}. Best is trial 3 with value: 1818.8638009999959.\n",
      "[I 2025-05-17 02:17:44,518] Trial 12 finished with value: 1161.349184000056 and parameters: {'gamma': 0.03489483103392404, 'delta': 0.5082913460279704, 'adj1': 1.4140464802250854, 'adj2': 0.7393858051219516, 'max_position': 69}. Best is trial 3 with value: 1818.8638009999959.\n",
      "[I 2025-05-17 02:21:55,725] Trial 13 finished with value: -35.82735000001139 and parameters: {'gamma': 0.011983151190277203, 'delta': 1.2191897987816789, 'adj1': 1.9881403435239058, 'adj2': 0.407139314799263, 'max_position': 90}. Best is trial 3 with value: 1818.8638009999959.\n",
      "[I 2025-05-17 02:26:06,789] Trial 14 finished with value: 865.1115840000039 and parameters: {'gamma': 0.05088617210001074, 'delta': 1.0185406178724001, 'adj1': 1.2220569882331518, 'adj2': 0.79158229565627, 'max_position': 35}. Best is trial 3 with value: 1818.8638009999959.\n",
      "[I 2025-05-17 02:30:18,860] Trial 15 finished with value: 885.3543580000094 and parameters: {'gamma': 0.09691251178977767, 'delta': 1.4908939330633189, 'adj1': 0.6921705836499698, 'adj2': 0.19740742949410933, 'max_position': 56}. Best is trial 3 with value: 1818.8638009999959.\n",
      "[I 2025-05-17 02:34:29,371] Trial 16 finished with value: 1178.5106960000226 and parameters: {'gamma': 0.027256094713689016, 'delta': 0.6613705935710987, 'adj1': 1.7034504408545206, 'adj2': 0.46649656650256266, 'max_position': 81}. Best is trial 3 with value: 1818.8638009999959.\n",
      "[I 2025-05-17 02:38:38,384] Trial 17 finished with value: -7975.851268997867 and parameters: {'gamma': 0.020740470162274108, 'delta': 1.0848996927487664, 'adj1': 0.43513899428214664, 'adj2': 0.22755330015233394, 'max_position': 57}. Best is trial 3 with value: 1818.8638009999959.\n",
      "[I 2025-05-17 02:42:50,036] Trial 18 finished with value: 816.2611389999429 and parameters: {'gamma': 0.04009024784657159, 'delta': 1.4696361348442306, 'adj1': 0.8362611665629673, 'adj2': 0.47870456409496753, 'max_position': 36}. Best is trial 3 with value: 1818.8638009999959.\n",
      "[I 2025-05-17 02:47:02,873] Trial 19 finished with value: 713.7168859999983 and parameters: {'gamma': 0.05233810220829983, 'delta': 0.8551366310451081, 'adj1': 1.1999749340046668, 'adj2': 0.665891927498764, 'max_position': 3}. Best is trial 3 with value: 1818.8638009999959.\n",
      "[I 2025-05-17 02:51:14,535] Trial 20 finished with value: 1187.937000000039 and parameters: {'gamma': 0.020762938150044354, 'delta': 0.6138456526991269, 'adj1': 1.7045484897052925, 'adj2': 0.8516614665595978, 'max_position': 79}. Best is trial 3 with value: 1818.8638009999959.\n",
      "[I 2025-05-17 02:55:25,451] Trial 21 finished with value: 1271.4774440000142 and parameters: {'gamma': 0.02171907107636365, 'delta': 0.6066472047310798, 'adj1': 1.6737849014060362, 'adj2': 0.842131819811029, 'max_position': 86}. Best is trial 3 with value: 1818.8638009999959.\n",
      "[I 2025-05-17 02:59:36,968] Trial 22 finished with value: 1024.527540999998 and parameters: {'gamma': 0.026225015405681583, 'delta': 0.8775823851608462, 'adj1': 1.4180035337559282, 'adj2': 0.8219898316341795, 'max_position': 88}. Best is trial 3 with value: 1818.8638009999959.\n",
      "[I 2025-05-17 03:03:45,769] Trial 23 finished with value: 1085.8328959999817 and parameters: {'gamma': 0.010893203227380048, 'delta': 1.1262254022961402, 'adj1': 1.5486354208513107, 'adj2': 0.6544987442629622, 'max_position': 63}. Best is trial 3 with value: 1818.8638009999959.\n",
      "[I 2025-05-17 03:07:56,313] Trial 24 finished with value: 838.1302290000131 and parameters: {'gamma': 0.03400933362600739, 'delta': 0.6069435086572031, 'adj1': 1.8391585323662958, 'adj2': 0.3001870273119004, 'max_position': 98}. Best is trial 3 with value: 1818.8638009999959.\n",
      "[I 2025-05-17 03:12:05,121] Trial 25 finished with value: 1483.0983170000263 and parameters: {'gamma': 0.018742363293584103, 'delta': 0.7514496781091863, 'adj1': 1.2815163196970547, 'adj2': 0.5197422192177528, 'max_position': 78}. Best is trial 3 with value: 1818.8638009999959.\n",
      "[I 2025-05-17 03:16:13,140] Trial 26 finished with value: -224.23380400018414 and parameters: {'gamma': 0.01595041630601927, 'delta': 0.8420206856818471, 'adj1': 1.2681429405719318, 'adj2': 0.07014711640680865, 'max_position': 81}. Best is trial 3 with value: 1818.8638009999959.\n",
      "[I 2025-05-17 03:20:22,078] Trial 27 finished with value: 1212.2279200000266 and parameters: {'gamma': 0.035354820885797, 'delta': 0.7343298662400928, 'adj1': 0.8547581504593036, 'adj2': 0.9986012647789487, 'max_position': 37}. Best is trial 3 with value: 1818.8638009999959.\n",
      "[I 2025-05-17 03:24:31,716] Trial 28 finished with value: 1499.5312120000358 and parameters: {'gamma': 0.017684683207332803, 'delta': 0.9174942519056535, 'adj1': 1.3069469651904075, 'adj2': 0.43905358322420945, 'max_position': 88}. Best is trial 3 with value: 1818.8638009999959.\n",
      "[I 2025-05-17 03:28:44,029] Trial 29 finished with value: 616.0372709999847 and parameters: {'gamma': 0.046810096396329146, 'delta': 1.7991208388071878, 'adj1': 1.1323181962368158, 'adj2': 0.5251648528848959, 'max_position': 30}. Best is trial 3 with value: 1818.8638009999959.\n",
      "[I 2025-05-17 03:32:52,766] Trial 30 finished with value: 829.3324960001055 and parameters: {'gamma': 0.015866258335205927, 'delta': 1.3955670125591602, 'adj1': 1.3309650393890928, 'adj2': 0.43008787209826693, 'max_position': 12}. Best is trial 3 with value: 1818.8638009999959.\n",
      "[I 2025-05-17 03:37:02,324] Trial 31 finished with value: 729.3442119998658 and parameters: {'gamma': 0.018113584486135016, 'delta': 0.9659642855216536, 'adj1': 1.544725791376048, 'adj2': 0.33909239727080287, 'max_position': 86}. Best is trial 3 with value: 1818.8638009999959.\n",
      "[I 2025-05-17 03:41:11,154] Trial 32 finished with value: 1514.3925580000378 and parameters: {'gamma': 0.026131099909750814, 'delta': 1.1215766989376834, 'adj1': 0.835011022431127, 'adj2': 0.5642227407973265, 'max_position': 92}. Best is trial 3 with value: 1818.8638009999959.\n",
      "[I 2025-05-17 03:45:20,595] Trial 33 finished with value: 1159.885985999892 and parameters: {'gamma': 0.030524298904364998, 'delta': 1.1057892230924784, 'adj1': 0.9259185074774725, 'adj2': 0.5901502872522969, 'max_position': 75}. Best is trial 3 with value: 1818.8638009999959.\n",
      "[I 2025-05-17 03:49:31,342] Trial 34 finished with value: 706.3574909999193 and parameters: {'gamma': 0.04009296380221169, 'delta': 1.3476344881185724, 'adj1': 1.1085257515822227, 'adj2': 0.4915500967415889, 'max_position': 99}. Best is trial 3 with value: 1818.8638009999959.\n",
      "[I 2025-05-17 03:53:39,840] Trial 35 finished with value: 1841.2605509999958 and parameters: {'gamma': 0.027232676964468083, 'delta': 1.1933641889168884, 'adj1': 0.8097995408901455, 'adj2': 0.28323755516225413, 'max_position': 94}. Best is trial 35 with value: 1841.2605509999958.\n",
      "[I 2025-05-17 03:57:49,509] Trial 36 finished with value: 1072.8128099999685 and parameters: {'gamma': 0.05844916432767734, 'delta': 1.1472878356453715, 'adj1': 0.5534578596559093, 'adj2': 0.26817109324026683, 'max_position': 93}. Best is trial 35 with value: 1841.2605509999958.\n",
      "[I 2025-05-17 04:01:57,905] Trial 37 finished with value: 1083.3967320000866 and parameters: {'gamma': 0.030862212143050162, 'delta': 1.3000717235910442, 'adj1': 0.7584852485552315, 'adj2': 0.1549763805107345, 'max_position': 93}. Best is trial 35 with value: 1841.2605509999958.\n",
      "[I 2025-05-17 04:06:06,817] Trial 38 finished with value: -7474.575505997622 and parameters: {'gamma': 0.025655451940904232, 'delta': 1.6491525128752123, 'adj1': 0.3704904934134087, 'adj2': 0.4051709203291845, 'max_position': 46}. Best is trial 35 with value: 1841.2605509999958.\n",
      "[I 2025-05-17 04:10:16,502] Trial 39 finished with value: -578.3393139999389 and parameters: {'gamma': 0.010023590107424173, 'delta': 1.188071633218992, 'adj1': 0.9435589889827445, 'adj2': 0.14189593274671886, 'max_position': 100}. Best is trial 35 with value: 1841.2605509999958.\n",
      "[I 2025-05-17 04:14:27,143] Trial 40 finished with value: 1005.3557590000428 and parameters: {'gamma': 0.037300683844839394, 'delta': 1.0552256799698072, 'adj1': 1.004828298648872, 'adj2': 0.5747006810442962, 'max_position': 24}. Best is trial 35 with value: 1841.2605509999958.\n",
      "[I 2025-05-17 04:18:35,860] Trial 41 finished with value: 1291.7143830000396 and parameters: {'gamma': 0.024726085773928742, 'delta': 0.90052468546203, 'adj1': 1.3094847754223276, 'adj2': 0.44608160080464604, 'max_position': 94}. Best is trial 35 with value: 1841.2605509999958.\n",
      "[I 2025-05-17 04:22:43,411] Trial 42 finished with value: 1912.1639300000643 and parameters: {'gamma': 0.016017964407046153, 'delta': 0.7857447152255339, 'adj1': 1.1166487150888866, 'adj2': 0.5181693236606001, 'max_position': 82}. Best is trial 42 with value: 1912.1639300000643.\n",
      "[I 2025-05-17 04:26:50,862] Trial 43 finished with value: -35.25840800035439 and parameters: {'gamma': 0.01389169121252116, 'delta': 1.0115958100975173, 'adj1': 0.8007195974790512, 'adj2': 0.6225102396908444, 'max_position': 84}. Best is trial 42 with value: 1912.1639300000643.\n",
      "[I 2025-05-17 04:30:59,559] Trial 44 finished with value: 1231.9460009999957 and parameters: {'gamma': 0.02841348632254238, 'delta': 0.7974361374013235, 'adj1': 1.11718934192891, 'adj2': 0.7236475137186165, 'max_position': 90}. Best is trial 42 with value: 1912.1639300000643.\n",
      "[I 2025-05-17 04:35:06,599] Trial 45 finished with value: 1434.1999219998706 and parameters: {'gamma': 0.023866969345732982, 'delta': 0.9309699911581462, 'adj1': 0.913901152953355, 'adj2': 0.3597835039219783, 'max_position': 11}. Best is trial 42 with value: 1912.1639300000643.\n",
      "[I 2025-05-17 04:39:15,012] Trial 46 finished with value: -3497.508559996597 and parameters: {'gamma': 0.015426644305003984, 'delta': 1.1912057171551393, 'adj1': 0.5409880091342836, 'adj2': 0.27694642317804863, 'max_position': 72}. Best is trial 42 with value: 1912.1639300000643.\n",
      "[I 2025-05-17 04:43:24,615] Trial 47 finished with value: 637.0381899997083 and parameters: {'gamma': 0.046307437562277544, 'delta': 1.278079935708863, 'adj1': 0.6942373452050731, 'adj2': 0.5448597137255762, 'max_position': 63}. Best is trial 42 with value: 1912.1639300000643.\n",
      "[I 2025-05-17 04:47:34,339] Trial 48 finished with value: 814.3896850000044 and parameters: {'gamma': 0.0753804216186778, 'delta': 1.0218116055234303, 'adj1': 1.021140012902317, 'adj2': 0.3817048434070421, 'max_position': 94}. Best is trial 42 with value: 1912.1639300000643.\n",
      "[I 2025-05-17 04:51:41,761] Trial 49 finished with value: 995.1278829999583 and parameters: {'gamma': 0.060176810995709984, 'delta': 0.6735623926913243, 'adj1': 1.1437442969624172, 'adj2': 0.6246578689076822, 'max_position': 51}. Best is trial 42 with value: 1912.1639300000643.\n",
      "[I 2025-05-17 04:55:51,934] Trial 50 finished with value: 273.9469359999903 and parameters: {'gamma': 0.09387033550584081, 'delta': 0.8075066157525636, 'adj1': 1.5117837009659252, 'adj2': 0.43021722862485995, 'max_position': 83}. Best is trial 42 with value: 1912.1639300000643.\n",
      "[I 2025-05-17 04:59:59,902] Trial 51 finished with value: 1397.7116939999619 and parameters: {'gamma': 0.01851378296645524, 'delta': 0.7490710170081262, 'adj1': 1.3911847405344835, 'adj2': 0.5145537138050622, 'max_position': 77}. Best is trial 42 with value: 1912.1639300000643.\n",
      "[I 2025-05-17 05:04:07,122] Trial 52 finished with value: 1764.682321999927 and parameters: {'gamma': 0.01943962754489808, 'delta': 0.9192801081954568, 'adj1': 1.232166274125486, 'adj2': 0.5552140838289958, 'max_position': 91}. Best is trial 42 with value: 1912.1639300000643.\n",
      "[I 2025-05-17 05:08:15,873] Trial 53 finished with value: 1492.6564870000457 and parameters: {'gamma': 0.032752406500641436, 'delta': 0.943609605150415, 'adj1': 1.0498774437982035, 'adj2': 0.5640765885731817, 'max_position': 89}. Best is trial 42 with value: 1912.1639300000643.\n",
      "[I 2025-05-17 05:12:24,091] Trial 54 finished with value: 1118.137164000048 and parameters: {'gamma': 0.02468767931872582, 'delta': 1.0598887508096668, 'adj1': 1.2032293905907006, 'adj2': 0.4751792963231496, 'max_position': 96}. Best is trial 42 with value: 1912.1639300000643.\n",
      "[I 2025-05-17 05:16:30,785] Trial 55 finished with value: 949.2900420000806 and parameters: {'gamma': 0.022445462727246568, 'delta': 1.0112351597611673, 'adj1': 0.7536509706604054, 'adj2': 0.39545627363690006, 'max_position': 89}. Best is trial 42 with value: 1912.1639300000643.\n",
      "[I 2025-05-17 05:20:39,098] Trial 56 finished with value: 1755.0953789999257 and parameters: {'gamma': 0.028332525806475668, 'delta': 0.8980557388976808, 'adj1': 0.9786159204587298, 'adj2': 0.30703140079768676, 'max_position': 84}. Best is trial 42 with value: 1912.1639300000643.\n",
      "[I 2025-05-17 05:24:49,031] Trial 57 finished with value: 1252.4031160000313 and parameters: {'gamma': 0.03862146801465895, 'delta': 1.1535759344966128, 'adj1': 0.8540225333936221, 'adj2': 0.3154288418641959, 'max_position': 74}. Best is trial 42 with value: 1912.1639300000643.\n",
      "[I 2025-05-17 05:28:59,416] Trial 58 finished with value: 1544.2600680001506 and parameters: {'gamma': 0.028577866920480848, 'delta': 0.8267333622417913, 'adj1': 0.9638450552741578, 'adj2': 0.20784783740505955, 'max_position': 68}. Best is trial 42 with value: 1912.1639300000643.\n",
      "[I 2025-05-17 05:33:09,301] Trial 59 finished with value: 1628.0186169998105 and parameters: {'gamma': 0.04404199733136195, 'delta': 0.5511610199891263, 'adj1': 0.978133409325742, 'adj2': 0.19975717877309643, 'max_position': 66}. Best is trial 42 with value: 1912.1639300000643.\n",
      "[I 2025-05-17 05:37:18,676] Trial 60 finished with value: 1530.0460880000055 and parameters: {'gamma': 0.046878486101405534, 'delta': 0.5518057269629911, 'adj1': 1.0498194101452125, 'adj2': 0.25869866453124357, 'max_position': 60}. Best is trial 42 with value: 1912.1639300000643.\n",
      "[I 2025-05-17 05:41:27,373] Trial 61 finished with value: 1412.374390999992 and parameters: {'gamma': 0.04315217945335975, 'delta': 0.6521465148713977, 'adj1': 0.9767279350841782, 'adj2': 0.17726409819845465, 'max_position': 68}. Best is trial 42 with value: 1912.1639300000643.\n",
      "[I 2025-05-17 05:45:37,611] Trial 62 finished with value: 1401.6446680001445 and parameters: {'gamma': 0.029347659080893138, 'delta': 0.8084518291393621, 'adj1': 0.9116840601684632, 'adj2': 0.22329419998869288, 'max_position': 53}. Best is trial 42 with value: 1912.1639300000643.\n",
      "[I 2025-05-17 05:49:48,026] Trial 63 finished with value: -669.4065649995937 and parameters: {'gamma': 0.03173661985482343, 'delta': 0.8365903273515412, 'adj1': 0.6299569618273383, 'adj2': 0.09221615947520576, 'max_position': 83}. Best is trial 42 with value: 1912.1639300000643.\n",
      "[I 2025-05-17 05:53:58,646] Trial 64 finished with value: 643.9142550000288 and parameters: {'gamma': 0.012751895153143601, 'delta': 0.5417538475759281, 'adj1': 1.2293969516988352, 'adj2': 0.12104192686979831, 'max_position': 66}. Best is trial 42 with value: 1912.1639300000643.\n",
      "[I 2025-05-17 05:58:08,353] Trial 65 finished with value: 1779.8432089998914 and parameters: {'gamma': 0.021083284754643078, 'delta': 0.6674173962762545, 'adj1': 1.0816641372105302, 'adj2': 0.18911062842723297, 'max_position': 42}. Best is trial 42 with value: 1912.1639300000643.\n",
      "[I 2025-05-17 06:02:17,094] Trial 66 finished with value: 1879.9013470000627 and parameters: {'gamma': 0.02102578572015456, 'delta': 0.6666368783342863, 'adj1': 1.0690998338824504, 'adj2': 0.324015144756554, 'max_position': 33}. Best is trial 42 with value: 1912.1639300000643.\n",
      "[I 2025-05-17 06:06:24,415] Trial 67 finished with value: 1656.5393749998711 and parameters: {'gamma': 0.020634359749127106, 'delta': 0.6934639748593816, 'adj1': 1.1664041968828378, 'adj2': 0.3231307924628908, 'max_position': 40}. Best is trial 42 with value: 1912.1639300000643.\n",
      "[I 2025-05-17 06:10:33,869] Trial 68 finished with value: 1565.6999170001727 and parameters: {'gamma': 0.021135426615664164, 'delta': 0.7667737844365389, 'adj1': 1.0639841001940404, 'adj2': 0.25120308565941896, 'max_position': 31}. Best is trial 42 with value: 1912.1639300000643.\n",
      "[I 2025-05-17 06:14:44,403] Trial 69 finished with value: 908.2332069998602 and parameters: {'gamma': 0.014531596992841055, 'delta': 0.6383630567709029, 'adj1': 1.3852794167531164, 'adj2': 0.28759221394186285, 'max_position': 43}. Best is trial 42 with value: 1912.1639300000643.\n",
      "[I 2025-05-17 06:18:52,533] Trial 70 finished with value: 1677.23112699999 and parameters: {'gamma': 0.018891139002585697, 'delta': 0.724815109513922, 'adj1': 1.0794593659906215, 'adj2': 0.23774842641488356, 'max_position': 23}. Best is trial 42 with value: 1912.1639300000643.\n",
      "[I 2025-05-17 06:23:00,689] Trial 71 finished with value: 1248.7806610000916 and parameters: {'gamma': 0.017970256236662062, 'delta': 0.6991418275144632, 'adj1': 1.0896898987845751, 'adj2': 0.3512481297133988, 'max_position': 23}. Best is trial 42 with value: 1912.1639300000643.\n",
      "[I 2025-05-17 06:27:11,543] Trial 72 finished with value: 1365.2989060000323 and parameters: {'gamma': 0.022148426997638852, 'delta': 0.8628644126357716, 'adj1': 1.2457715095517317, 'adj2': 0.23801220260092243, 'max_position': 30}. Best is trial 42 with value: 1912.1639300000643.\n",
      "[I 2025-05-17 06:31:21,674] Trial 73 finished with value: 854.5117940000637 and parameters: {'gamma': 0.012229096873998804, 'delta': 0.7181771865688996, 'adj1': 0.8817768967345734, 'adj2': 0.287106438541528, 'max_position': 19}. Best is trial 42 with value: 1912.1639300000643.\n",
      "[I 2025-05-17 06:35:33,141] Trial 74 finished with value: 406.5381920000473 and parameters: {'gamma': 0.02752743615046738, 'delta': 0.8788151353951714, 'adj1': 1.1787177605237538, 'adj2': 0.17175086084433241, 'max_position': 34}. Best is trial 42 with value: 1912.1639300000643.\n",
      "[I 2025-05-17 06:39:42,529] Trial 75 finished with value: -2577.7978269998457 and parameters: {'gamma': 0.019358982736601443, 'delta': 0.6024525906936393, 'adj1': 0.7767563205050342, 'adj2': 0.04543390184435714, 'max_position': 38}. Best is trial 42 with value: 1912.1639300000643.\n",
      "[I 2025-05-17 06:43:53,004] Trial 76 finished with value: 785.6438389999839 and parameters: {'gamma': 0.01631481320069042, 'delta': 0.9640701932236546, 'adj1': 1.0939387568847152, 'adj2': 0.31266583249784885, 'max_position': 27}. Best is trial 42 with value: 1912.1639300000643.\n",
      "[I 2025-05-17 06:48:03,653] Trial 77 finished with value: 42.311058999976694 and parameters: {'gamma': 0.03532885016212467, 'delta': 1.9956318082079165, 'adj1': 1.006204044036113, 'adj2': 0.36463460943266446, 'max_position': 21}. Best is trial 42 with value: 1912.1639300000643.\n",
      "[I 2025-05-17 06:52:11,548] Trial 78 finished with value: 1160.02419399998 and parameters: {'gamma': 0.025555362400933482, 'delta': 0.7731094987044037, 'adj1': 1.334990189536775, 'adj2': 0.4641031776448885, 'max_position': 47}. Best is trial 42 with value: 1912.1639300000643.\n",
      "[I 2025-05-17 06:56:20,561] Trial 79 finished with value: 1242.8731000000498 and parameters: {'gamma': 0.02411396783260611, 'delta': 0.9043396646557291, 'adj1': 1.1675614679774557, 'adj2': 0.4156268198891579, 'max_position': 16}. Best is trial 42 with value: 1912.1639300000643.\n",
      "[I 2025-05-17 07:00:31,868] Trial 80 finished with value: 1158.2825580001586 and parameters: {'gamma': 0.022944504689066364, 'delta': 0.6365474306434417, 'adj1': 1.4564236398347685, 'adj2': 0.11453185553087036, 'max_position': 33}. Best is trial 42 with value: 1912.1639300000643.\n",
      "[I 2025-05-17 07:04:40,610] Trial 81 finished with value: 1672.8265859999447 and parameters: {'gamma': 0.019577993304149367, 'delta': 0.7282160879685623, 'adj1': 1.1599655332715924, 'adj2': 0.32914117959156636, 'max_position': 40}. Best is trial 42 with value: 1912.1639300000643.\n",
      "[I 2025-05-17 07:08:48,622] Trial 82 finished with value: 1957.6963710001237 and parameters: {'gamma': 0.010039928350064224, 'delta': 0.6894026008585806, 'adj1': 1.2506758410050014, 'adj2': 0.33532340085419715, 'max_position': 42}. Best is trial 82 with value: 1957.6963710001237.\n",
      "[I 2025-05-17 07:12:57,672] Trial 83 finished with value: 2337.7009060000655 and parameters: {'gamma': 0.012605087973827138, 'delta': 0.584825015105819, 'adj1': 1.2602649003885378, 'adj2': 0.3718907708217256, 'max_position': 42}. Best is trial 83 with value: 2337.7009060000655.\n",
      "[I 2025-05-17 07:17:07,387] Trial 84 finished with value: 1997.010524999847 and parameters: {'gamma': 0.010335448383120786, 'delta': 0.5059835571761274, 'adj1': 1.2582290672754783, 'adj2': 0.37722117298394353, 'max_position': 41}. Best is trial 83 with value: 2337.7009060000655.\n",
      "[I 2025-05-17 07:21:17,141] Trial 85 finished with value: 2014.2201269998259 and parameters: {'gamma': 0.01509742432690248, 'delta': 0.5744875563133075, 'adj1': 1.261735430039712, 'adj2': 0.3792289259833683, 'max_position': 44}. Best is trial 83 with value: 2337.7009060000655.\n",
      "[I 2025-05-17 07:25:26,172] Trial 86 finished with value: 1997.1733659999209 and parameters: {'gamma': 0.01076225288985579, 'delta': 0.5695222347816415, 'adj1': 1.3584243542811831, 'adj2': 0.38780376750634904, 'max_position': 44}. Best is trial 83 with value: 2337.7009060000655.\n",
      "[I 2025-05-17 07:29:33,686] Trial 87 finished with value: 2165.6065380000946 and parameters: {'gamma': 0.011166803540891801, 'delta': 0.5841189604254422, 'adj1': 1.271943862096855, 'adj2': 0.39421733780646934, 'max_position': 48}. Best is trial 83 with value: 2337.7009060000655.\n",
      "[I 2025-05-17 07:33:40,339] Trial 88 finished with value: 1741.630603999994 and parameters: {'gamma': 0.010236269661995798, 'delta': 0.5163911827866647, 'adj1': 1.62988363751101, 'adj2': 0.38143079027450255, 'max_position': 49}. Best is trial 83 with value: 2337.7009060000655.\n",
      "[I 2025-05-17 07:37:48,831] Trial 89 finished with value: 1966.5906549998972 and parameters: {'gamma': 0.012881781700308593, 'delta': 0.5803473858625288, 'adj1': 1.3346039967772503, 'adj2': 0.45719316261672127, 'max_position': 55}. Best is trial 83 with value: 2337.7009060000655.\n",
      "[I 2025-05-17 07:41:54,725] Trial 90 finished with value: 1965.3591540000252 and parameters: {'gamma': 0.013600328240778954, 'delta': 0.5835496709560843, 'adj1': 1.3762350383727586, 'adj2': 0.4065019218028427, 'max_position': 56}. Best is trial 83 with value: 2337.7009060000655.\n",
      "[I 2025-05-17 07:46:00,851] Trial 91 finished with value: 1722.7712439998268 and parameters: {'gamma': 0.013174963728178113, 'delta': 0.5699389154832171, 'adj1': 1.3508833029752425, 'adj2': 0.4481914087705381, 'max_position': 53}. Best is trial 83 with value: 2337.7009060000655.\n",
      "[I 2025-05-17 07:50:07,768] Trial 92 finished with value: 2019.329340000022 and parameters: {'gamma': 0.011560086475666748, 'delta': 0.5144402624440102, 'adj1': 1.4774943591111975, 'adj2': 0.5012072318482965, 'max_position': 44}. Best is trial 83 with value: 2337.7009060000655.\n",
      "[I 2025-05-17 07:54:14,599] Trial 93 finished with value: 1719.932672999892 and parameters: {'gamma': 0.011578596460986195, 'delta': 0.5093995298902594, 'adj1': 1.4486823616997102, 'adj2': 0.4954904133502065, 'max_position': 44}. Best is trial 83 with value: 2337.7009060000655.\n",
      "[I 2025-05-17 07:58:20,916] Trial 94 finished with value: 1819.862704999954 and parameters: {'gamma': 0.01503671954828232, 'delta': 0.592069002829565, 'adj1': 1.565134769274839, 'adj2': 0.4141695637308214, 'max_position': 57}. Best is trial 83 with value: 2337.7009060000655.\n",
      "[I 2025-05-17 08:02:28,944] Trial 95 finished with value: 1700.4056970002002 and parameters: {'gamma': 0.010131318386371692, 'delta': 0.5775867704357927, 'adj1': 1.294597425695764, 'adj2': 0.3947975849320202, 'max_position': 46}. Best is trial 83 with value: 2337.7009060000655.\n",
      "[I 2025-05-17 08:06:37,043] Trial 96 finished with value: 1518.7769459999936 and parameters: {'gamma': 0.016277447364385307, 'delta': 0.6197807774550044, 'adj1': 1.5046133650947384, 'adj2': 0.4585612417506593, 'max_position': 48}. Best is trial 83 with value: 2337.7009060000655.\n",
      "[I 2025-05-17 08:10:42,546] Trial 97 finished with value: 1621.8648539998894 and parameters: {'gamma': 0.013325388581616509, 'delta': 0.5651651993679824, 'adj1': 1.3745705621248496, 'adj2': 0.528992208911531, 'max_position': 51}. Best is trial 83 with value: 2337.7009060000655.\n",
      "[I 2025-05-17 08:14:50,704] Trial 98 finished with value: 1934.5772490002382 and parameters: {'gamma': 0.01228666481458073, 'delta': 0.5281798930479671, 'adj1': 1.27670085744165, 'adj2': 0.3763666800060862, 'max_position': 39}. Best is trial 83 with value: 2337.7009060000655.\n",
      "[I 2025-05-17 08:18:57,342] Trial 99 finished with value: 1666.966429000111 and parameters: {'gamma': 0.011812287047599823, 'delta': 0.5060855471505166, 'adj1': 1.270425331120208, 'adj2': 0.37279901007751, 'max_position': 40}. Best is trial 83 with value: 2337.7009060000655.\n"
     ]
    }
   ],
   "execution_count": 4
  },
  {
   "metadata": {
    "ExecuteTime": {
     "end_time": "2025-05-17T06:18:57.432394Z",
     "start_time": "2025-05-17T06:18:57.415457Z"
    }
   },
   "cell_type": "code",
   "source": "study.best_params",
   "id": "9ead9766bae2136e",
   "outputs": [
    {
     "data": {
      "text/plain": [
       "{'gamma': 0.012605087973827138,\n",
       " 'delta': 0.584825015105819,\n",
       " 'adj1': 1.2602649003885378,\n",
       " 'adj2': 0.3718907708217256,\n",
       " 'max_position': 42}"
      ]
     },
     "execution_count": 5,
     "metadata": {},
     "output_type": "execute_result"
    }
   ],
   "execution_count": 5
  },
  {
   "metadata": {
    "ExecuteTime": {
     "end_time": "2025-05-17T13:28:17.859697Z",
     "start_time": "2025-05-17T06:18:57.678284Z"
    }
   },
   "cell_type": "code",
   "source": [
    "MAKER_FEE = 0.0000\n",
    "sampler = TPESampler(seed=42) # ensures reproducibility\n",
    "study = optuna.create_study(direction='maximize', sampler=sampler)\n",
    "study.optimize(objective, n_trials=100)"
   ],
   "id": "1419bf01bda65fbd",
   "outputs": [
    {
     "name": "stderr",
     "output_type": "stream",
     "text": [
      "[I 2025-05-17 08:18:57,678] A new study created in memory with name: no-name-bbd34e0d-f9e3-4d51-b449-15b1aa648383\n",
      "[I 2025-05-17 08:23:07,942] Trial 0 finished with value: 232.95500000000357 and parameters: {'gamma': 0.04370861069626263, 'delta': 1.9260714596148742, 'adj1': 1.4666679442046962, 'adj2': 0.6026718993550663, 'max_position': 16}. Best is trial 0 with value: 232.95500000000357.\n",
      "[I 2025-05-17 08:27:15,929] Trial 1 finished with value: -1506.740000000018 and parameters: {'gamma': 0.02403950683025824, 'delta': 0.5871254182522991, 'adj1': 1.733690530092121, 'adj2': 0.6051038616257767, 'max_position': 71}. Best is trial 0 with value: 232.95500000000357.\n",
      "[I 2025-05-17 08:31:25,775] Trial 2 finished with value: -1546.0500000000347 and parameters: {'gamma': 0.011852604486622221, 'delta': 1.9548647782429915, 'adj1': 1.6665608551928393, 'adj2': 0.2202157195714934, 'max_position': 19}. Best is trial 0 with value: 232.95500000000357.\n",
      "[I 2025-05-17 08:35:33,947] Trial 3 finished with value: -5302.610000000022 and parameters: {'gamma': 0.026506405886809047, 'delta': 0.9563633644393066, 'adj1': 1.0542652989481534, 'adj2': 0.4376255684556946, 'max_position': 30}. Best is trial 0 with value: 232.95500000000357.\n",
      "[I 2025-05-17 08:39:40,777] Trial 4 finished with value: -20593.574999999804 and parameters: {'gamma': 0.06506676052501416, 'delta': 0.7092407909780627, 'adj1': 0.5913678505850841, 'adj2': 0.37269822486075477, 'max_position': 46}. Best is trial 0 with value: 232.95500000000357.\n",
      "[I 2025-05-17 08:43:50,486] Trial 5 finished with value: -1594.7199999999898 and parameters: {'gamma': 0.08066583652537122, 'delta': 0.7995106732375397, 'adj1': 1.0333265324430871, 'adj2': 0.596490423173422, 'max_position': 5}. Best is trial 0 with value: 232.95500000000357.\n",
      "[I 2025-05-17 08:48:05,189] Trial 6 finished with value: -265859.16000000027 and parameters: {'gamma': 0.06467903667112945, 'delta': 0.7557861855309373, 'adj1': 0.13945267004070624, 'adj2': 0.9493966818808, 'max_position': 97}. Best is trial 0 with value: 232.95500000000357.\n",
      "[I 2025-05-17 08:52:14,220] Trial 7 finished with value: -112284.2350000016 and parameters: {'gamma': 0.0827557613304815, 'delta': 0.9569206537600561, 'adj1': 0.2043675068727039, 'adj2': 0.6873906962470353, 'max_position': 45}. Best is trial 0 with value: 232.95500000000357.\n",
      "[I 2025-05-17 08:56:34,665] Trial 8 finished with value: -633168.0900000306 and parameters: {'gamma': 0.020983441136030095, 'delta': 1.2427653651669053, 'adj1': 0.0784331570192846, 'adj2': 0.9102271980579942, 'max_position': 26}. Best is trial 0 with value: 232.95500000000357.\n",
      "[I 2025-05-17 09:00:43,832] Trial 9 finished with value: -1312.9000000000356 and parameters: {'gamma': 0.06962700559185839, 'delta': 0.9675666141341164, 'adj1': 1.0449353621438435, 'adj2': 0.5512431765498469, 'max_position': 19}. Best is trial 0 with value: 232.95500000000357.\n",
      "[I 2025-05-17 09:04:13,482] Trial 10 finished with value: -3153.184999999997 and parameters: {'gamma': 0.04370289670627556, 'delta': 1.8992929999178336, 'adj1': 1.3952744286830594, 'adj2': 0.027782256858671583, 'max_position': 2}. Best is trial 0 with value: 232.95500000000357.\n",
      "[I 2025-05-17 09:08:23,031] Trial 11 finished with value: -528.8700000000031 and parameters: {'gamma': 0.04602200001526668, 'delta': 1.6411726135864546, 'adj1': 1.2822173594090633, 'adj2': 0.7485573017368341, 'max_position': 18}. Best is trial 0 with value: 232.95500000000357.\n",
      "[I 2025-05-17 09:12:33,635] Trial 12 finished with value: -369.68000000000484 and parameters: {'gamma': 0.04567786252939974, 'delta': 1.6450566463099292, 'adj1': 1.3619847399869338, 'adj2': 0.7380163979196027, 'max_position': 65}. Best is trial 0 with value: 232.95500000000357.\n",
      "[I 2025-05-17 09:16:45,130] Trial 13 finished with value: -511.1950000000179 and parameters: {'gamma': 0.03932862649370377, 'delta': 1.607069863238635, 'adj1': 1.9921240860279723, 'adj2': 0.7893494751571535, 'max_position': 68}. Best is trial 0 with value: 232.95500000000357.\n",
      "[I 2025-05-17 09:20:55,194] Trial 14 finished with value: -4410.359999999997 and parameters: {'gamma': 0.05188584647941584, 'delta': 1.6862536973319178, 'adj1': 0.6744148089186797, 'adj2': 0.8165997956959917, 'max_position': 67}. Best is trial 0 with value: 232.95500000000357.\n",
      "[I 2025-05-17 09:25:08,639] Trial 15 finished with value: 70.78500000003214 and parameters: {'gamma': 0.09691251178977767, 'delta': 1.4231582532340563, 'adj1': 1.4268358264046899, 'adj2': 0.2623995290079435, 'max_position': 86}. Best is trial 0 with value: 232.95500000000357.\n",
      "[I 2025-05-17 09:29:21,121] Trial 16 finished with value: -707.210000000016 and parameters: {'gamma': 0.09994261947773966, 'delta': 1.3496234511685732, 'adj1': 1.6314196008197466, 'adj2': 0.28371586119023295, 'max_position': 100}. Best is trial 0 with value: 232.95500000000357.\n",
      "[I 2025-05-17 09:33:28,578] Trial 17 finished with value: -1782.844999999948 and parameters: {'gamma': 0.09982245670639645, 'delta': 1.352161794196024, 'adj1': 0.7400858406172584, 'adj2': 0.12768918480124444, 'max_position': 84}. Best is trial 0 with value: 232.95500000000357.\n",
      "[I 2025-05-17 09:37:37,997] Trial 18 finished with value: -157.51500000001033 and parameters: {'gamma': 0.03320985832923336, 'delta': 1.8247451416528981, 'adj1': 1.8975058188958516, 'adj2': 0.4059808923898778, 'max_position': 83}. Best is trial 0 with value: 232.95500000000357.\n",
      "[I 2025-05-17 09:41:47,120] Trial 19 finished with value: -394.6699999999846 and parameters: {'gamma': 0.0868200732496287, 'delta': 1.492655321925946, 'adj1': 1.4711739493027969, 'adj2': 0.2868026442305067, 'max_position': 53}. Best is trial 0 with value: 232.95500000000357.\n",
      "[I 2025-05-17 09:45:55,877] Trial 20 finished with value: -1186.4200000000037 and parameters: {'gamma': 0.05636409997084136, 'delta': 1.1962497440674273, 'adj1': 1.22242731285892, 'adj2': 0.5031218690574336, 'max_position': 39}. Best is trial 0 with value: 232.95500000000357.\n",
      "[I 2025-05-17 09:50:06,317] Trial 21 finished with value: -1417.1849999999554 and parameters: {'gamma': 0.03475365731311458, 'delta': 1.8392581161915629, 'adj1': 1.9876292813671157, 'adj2': 0.41075847222212003, 'max_position': 86}. Best is trial 0 with value: 232.95500000000357.\n",
      "[I 2025-05-17 09:54:13,473] Trial 22 finished with value: -1157.8949999999872 and parameters: {'gamma': 0.03154351272799012, 'delta': 1.7935461387597504, 'adj1': 1.8272566203442129, 'adj2': 0.178726421204997, 'max_position': 83}. Best is trial 0 with value: 232.95500000000357.\n",
      "[I 2025-05-17 09:58:22,337] Trial 23 finished with value: -1142.8750000000214 and parameters: {'gamma': 0.05458178846879536, 'delta': 1.9730018490157049, 'adj1': 1.5353818010754092, 'adj2': 0.3342156817663928, 'max_position': 80}. Best is trial 0 with value: 232.95500000000357.\n",
      "[I 2025-05-17 10:02:29,717] Trial 24 finished with value: -637.3899999998989 and parameters: {'gamma': 0.013776861032349541, 'delta': 1.47987929126207, 'adj1': 1.8106929563954064, 'adj2': 0.49520503368887947, 'max_position': 57}. Best is trial 0 with value: 232.95500000000357.\n",
      "[I 2025-05-17 10:06:36,572] Trial 25 finished with value: -1115.4300000000344 and parameters: {'gamma': 0.032806986107047555, 'delta': 1.777474593182458, 'adj1': 1.1871201652814944, 'adj2': 0.6563558226128283, 'max_position': 92}. Best is trial 0 with value: 232.95500000000357.\n",
      "[I 2025-05-17 10:10:44,004] Trial 26 finished with value: -2992.335000000013 and parameters: {'gamma': 0.07191501417267633, 'delta': 1.1061076800213594, 'adj1': 0.8637655236866193, 'adj2': 0.07014711640680865, 'max_position': 75}. Best is trial 0 with value: 232.95500000000357.\n",
      "[I 2025-05-17 10:14:51,686] Trial 27 finished with value: -302.4499999999716 and parameters: {'gamma': 0.0396721827828803, 'delta': 1.489450355279033, 'adj1': 1.4908753266215862, 'adj2': 0.45328580207126234, 'max_position': 60}. Best is trial 0 with value: 232.95500000000357.\n",
      "[I 2025-05-17 10:19:01,542] Trial 28 finished with value: -579.7150000000029 and parameters: {'gamma': 0.05824300113978312, 'delta': 1.9951501325996905, 'adj1': 1.8701820425779732, 'adj2': 0.2513983521817393, 'max_position': 92}. Best is trial 0 with value: 232.95500000000357.\n",
      "[I 2025-05-17 10:23:10,313] Trial 29 finished with value: -311.5699999999615 and parameters: {'gamma': 0.025597246584880193, 'delta': 1.7543908622376443, 'adj1': 1.6719356460252912, 'adj2': 0.349924556647094, 'max_position': 77}. Best is trial 0 with value: 232.95500000000357.\n",
      "[I 2025-05-17 10:27:19,888] Trial 30 finished with value: -1641.9599999999855 and parameters: {'gamma': 0.01837465385600843, 'delta': 1.5624805227724352, 'adj1': 1.5484077189634984, 'adj2': 0.5715181322570737, 'max_position': 11}. Best is trial 0 with value: 232.95500000000357.\n",
      "[I 2025-05-17 10:31:29,994] Trial 31 finished with value: -85.31500000003189 and parameters: {'gamma': 0.03751454754454653, 'delta': 1.4567132224722634, 'adj1': 1.4304403636368401, 'adj2': 0.4310389505571935, 'max_position': 58}. Best is trial 0 with value: 232.95500000000357.\n",
      "[I 2025-05-17 10:35:40,100] Trial 32 finished with value: -968.8750000000168 and parameters: {'gamma': 0.0491942491015578, 'delta': 1.3607560685684, 'adj1': 1.686937641639654, 'adj2': 0.16951772398429446, 'max_position': 35}. Best is trial 0 with value: 232.95500000000357.\n",
      "[I 2025-05-17 10:39:48,439] Trial 33 finished with value: -590.3049999999748 and parameters: {'gamma': 0.03789016855195395, 'delta': 1.888858858007985, 'adj1': 1.1594070184120042, 'adj2': 0.41063981726819465, 'max_position': 72}. Best is trial 0 with value: 232.95500000000357.\n",
      "[I 2025-05-17 10:43:56,474] Trial 34 finished with value: -1893.2600000000043 and parameters: {'gamma': 0.028717294381463865, 'delta': 1.1155954800699657, 'adj1': 1.345691772162487, 'adj2': 0.6486026130174083, 'max_position': 89}. Best is trial 0 with value: 232.95500000000357.\n",
      "[I 2025-05-17 10:48:01,998] Trial 35 finished with value: -13571.94500000015 and parameters: {'gamma': 0.04188979457727478, 'delta': 0.5568336287623135, 'adj1': 0.8845594376277748, 'adj2': 0.4709253313120746, 'max_position': 49}. Best is trial 0 with value: 232.95500000000357.\n",
      "[I 2025-05-17 10:52:11,319] Trial 36 finished with value: -32985.43499999966 and parameters: {'gamma': 0.060948823015870526, 'delta': 1.4139775364621254, 'adj1': 0.3522008128182492, 'adj2': 0.5351975304961651, 'max_position': 62}. Best is trial 0 with value: 232.95500000000357.\n",
      "[I 2025-05-17 10:56:22,864] Trial 37 finished with value: -573.4649999999888 and parameters: {'gamma': 0.08882487388446872, 'delta': 1.7161879358683638, 'adj1': 1.6035673021037287, 'adj2': 0.32239963545319794, 'max_position': 25}. Best is trial 0 with value: 232.95500000000357.\n",
      "[I 2025-05-17 11:00:33,810] Trial 38 finished with value: -1241.4600000000946 and parameters: {'gamma': 0.010165546032028731, 'delta': 1.8675050772865498, 'adj1': 1.7579740256401246, 'adj2': 0.3941283628703504, 'max_position': 42}. Best is trial 0 with value: 232.95500000000357.\n",
      "[I 2025-05-17 11:04:45,010] Trial 39 finished with value: -1597.1149999999848 and parameters: {'gamma': 0.048900582141341076, 'delta': 1.5831788716692372, 'adj1': 1.4331632607049174, 'adj2': 0.2063715763508547, 'max_position': 55}. Best is trial 0 with value: 232.95500000000357.\n",
      "[I 2025-05-17 11:08:53,019] Trial 40 finished with value: -9452.184999999952 and parameters: {'gamma': 0.021387042043411214, 'delta': 0.6506812097888179, 'adj1': 1.1335909270072002, 'adj2': 0.6041570233644024, 'max_position': 12}. Best is trial 0 with value: 232.95500000000357.\n",
      "[I 2025-05-17 11:13:03,846] Trial 41 finished with value: -745.1849999999554 and parameters: {'gamma': 0.03656674274766789, 'delta': 1.5161454614970746, 'adj1': 1.5109738375663608, 'adj2': 0.45063329741626124, 'max_position': 60}. Best is trial 0 with value: 232.95500000000357.\n",
      "[I 2025-05-17 11:17:15,186] Trial 42 finished with value: -720.2199999999825 and parameters: {'gamma': 0.04157617457258587, 'delta': 1.4242878862279322, 'adj1': 1.2937611273236487, 'adj2': 0.4473460318046265, 'max_position': 72}. Best is trial 0 with value: 232.95500000000357.\n",
      "[I 2025-05-17 11:21:24,282] Trial 43 finished with value: -187.9999999999768 and parameters: {'gamma': 0.02723468511211867, 'delta': 1.2704745253732326, 'adj1': 1.8775444122380154, 'adj2': 0.5231909726726871, 'max_position': 32}. Best is trial 0 with value: 232.95500000000357.\n",
      "[I 2025-05-17 11:25:36,152] Trial 44 finished with value: -203.0399999999854 and parameters: {'gamma': 0.029039308245250625, 'delta': 1.2226550209646112, 'adj1': 1.8934046220123102, 'adj2': 0.5425168116893107, 'max_position': 31}. Best is trial 0 with value: 232.95500000000357.\n",
      "[I 2025-05-17 11:29:46,677] Trial 45 finished with value: -1489.6949999999938 and parameters: {'gamma': 0.023102936291711444, 'delta': 0.859162014444953, 'adj1': 1.7649143395271571, 'adj2': 0.36570311536156064, 'max_position': 11}. Best is trial 0 with value: 232.95500000000357.\n",
      "[I 2025-05-17 11:33:56,592] Trial 46 finished with value: -574.8799999999997 and parameters: {'gamma': 0.018062460663109483, 'delta': 1.0711712033764134, 'adj1': 1.9083780629989604, 'adj2': 0.6329401054259031, 'max_position': 24}. Best is trial 0 with value: 232.95500000000357.\n",
      "[I 2025-05-17 11:38:06,329] Trial 47 finished with value: -1154.46 and parameters: {'gamma': 0.07347629292452368, 'delta': 1.2944294409503723, 'adj1': 0.9658300392757144, 'adj2': 0.29625625400133965, 'max_position': 36}. Best is trial 0 with value: 232.95500000000357.\n",
      "[I 2025-05-17 11:42:16,498] Trial 48 finished with value: -626.5100000000357 and parameters: {'gamma': 0.030948161490023333, 'delta': 1.9094515230218423, 'adj1': 1.6091446771543394, 'adj2': 0.689325650420893, 'max_position': 16}. Best is trial 0 with value: 232.95500000000357.\n",
      "[I 2025-05-17 11:46:25,920] Trial 49 finished with value: -265.4000000000224 and parameters: {'gamma': 0.04544792452700888, 'delta': 1.2822127805502226, 'adj1': 1.934352896348634, 'adj2': 0.5917028322363996, 'max_position': 31}. Best is trial 0 with value: 232.95500000000357.\n",
      "[I 2025-05-17 11:50:37,415] Trial 50 finished with value: -67.7399999999966 and parameters: {'gamma': 0.09387033550584081, 'delta': 0.9990499710799695, 'adj1': 1.7491966587207968, 'adj2': 0.8854508781690944, 'max_position': 6}. Best is trial 0 with value: 232.95500000000357.\n",
      "[I 2025-05-17 11:54:49,250] Trial 51 finished with value: -62.9399999999805 and parameters: {'gamma': 0.08963799654700658, 'delta': 0.8636114948741195, 'adj1': 1.7219677072092434, 'adj2': 0.9017496037381499, 'max_position': 22}. Best is trial 0 with value: 232.95500000000357.\n",
      "[I 2025-05-17 11:59:01,509] Trial 52 finished with value: -131.30000000001155 and parameters: {'gamma': 0.09512732044715154, 'delta': 0.8784370366805552, 'adj1': 1.6894332740753017, 'adj2': 0.974482905129866, 'max_position': 5}. Best is trial 0 with value: 232.95500000000357.\n",
      "[I 2025-05-17 12:03:13,572] Trial 53 finished with value: -59.04000000000087 and parameters: {'gamma': 0.09461645184434633, 'delta': 0.8676975182216236, 'adj1': 1.7135097642362784, 'adj2': 0.8959774720032705, 'max_position': 4}. Best is trial 0 with value: 232.95500000000357.\n",
      "[I 2025-05-17 12:07:25,765] Trial 54 finished with value: -261.73000000000593 and parameters: {'gamma': 0.09401933001414309, 'delta': 0.7348651787177785, 'adj1': 1.3625532672234526, 'adj2': 0.9013057313468508, 'max_position': 4}. Best is trial 0 with value: 232.95500000000357.\n",
      "[I 2025-05-17 12:11:37,191] Trial 55 finished with value: -427.71999999999935 and parameters: {'gamma': 0.07886136252221242, 'delta': 0.8117008527449658, 'adj1': 1.5695551446594151, 'adj2': 0.8643853688764342, 'max_position': 1}. Best is trial 0 with value: 232.95500000000357.\n",
      "[I 2025-05-17 12:15:51,178] Trial 56 finished with value: -224.90000000003283 and parameters: {'gamma': 0.09126737771473219, 'delta': 1.013275962733152, 'adj1': 1.4358282261974997, 'adj2': 0.9200050142718422, 'max_position': 22}. Best is trial 0 with value: 232.95500000000357.\n",
      "[I 2025-05-17 12:20:02,629] Trial 57 finished with value: -283.9399999999828 and parameters: {'gamma': 0.09699592233004482, 'delta': 0.675527109016814, 'adj1': 1.7247680130553822, 'adj2': 0.8197662912262395, 'max_position': 7}. Best is trial 0 with value: 232.95500000000357.\n",
      "[I 2025-05-17 12:24:12,985] Trial 58 finished with value: -437.34000000000196 and parameters: {'gamma': 0.08354598085434517, 'delta': 0.9338246314211626, 'adj1': 1.2967726786767806, 'adj2': 0.8670746072273612, 'max_position': 18}. Best is trial 0 with value: 232.95500000000357.\n",
      "[I 2025-05-17 12:28:56,495] Trial 59 finished with value: 55.53000000000702 and parameters: {'gamma': 0.08653224580681501, 'delta': 1.165026640334109, 'adj1': 1.780101020147789, 'adj2': 0.9889368465399881, 'max_position': 7}. Best is trial 0 with value: 232.95500000000357.\n",
      "[I 2025-05-17 12:34:21,437] Trial 60 finished with value: -5.7800000000065666 and parameters: {'gamma': 0.08584318938108824, 'delta': 1.0230871574805063, 'adj1': 1.8075669562713235, 'adj2': 0.7656217058119675, 'max_position': 15}. Best is trial 0 with value: 232.95500000000357.\n",
      "[I 2025-05-17 12:38:56,406] Trial 61 finished with value: 47.94000000001188 and parameters: {'gamma': 0.08609406943109439, 'delta': 1.0038124456758037, 'adj1': 1.813945599129407, 'adj2': 0.9923598430150361, 'max_position': 14}. Best is trial 0 with value: 232.95500000000357.\n",
      "[I 2025-05-17 12:43:08,895] Trial 62 finished with value: -24.309999999988122 and parameters: {'gamma': 0.0854396204297779, 'delta': 1.1703684583319613, 'adj1': 1.8082057455554208, 'adj2': 0.9760616113448274, 'max_position': 9}. Best is trial 0 with value: 232.95500000000357.\n",
      "[I 2025-05-17 12:47:20,906] Trial 63 finished with value: 28.060000000012224 and parameters: {'gamma': 0.0842681412405426, 'delta': 1.1571144756574603, 'adj1': 1.7937464285090101, 'adj2': 0.9968605935967932, 'max_position': 9}. Best is trial 0 with value: 232.95500000000357.\n",
      "[I 2025-05-17 12:51:34,317] Trial 64 finished with value: 44.830000000005384 and parameters: {'gamma': 0.08495625332423339, 'delta': 1.1859942408421713, 'adj1': 1.9983467012865512, 'adj2': 0.9992786033503531, 'max_position': 14}. Best is trial 0 with value: 232.95500000000357.\n",
      "[I 2025-05-17 12:55:46,634] Trial 65 finished with value: -16.05999999998994 and parameters: {'gamma': 0.07823624416531498, 'delta': 1.1674931515699827, 'adj1': 1.9738366811689587, 'adj2': 0.9957589549929213, 'max_position': 15}. Best is trial 0 with value: 232.95500000000357.\n",
      "[I 2025-05-17 12:59:58,096] Trial 66 finished with value: -98.00000000001364 and parameters: {'gamma': 0.07518529758612559, 'delta': 1.048536289289105, 'adj1': 1.8244552858274912, 'adj2': 0.939618412885841, 'max_position': 14}. Best is trial 0 with value: 232.95500000000357.\n",
      "[I 2025-05-17 13:04:11,974] Trial 67 finished with value: 103.46000000001732 and parameters: {'gamma': 0.08301442442625467, 'delta': 0.9301410851830428, 'adj1': 1.9904929412338959, 'adj2': 0.7360946626026394, 'max_position': 21}. Best is trial 0 with value: 232.95500000000357.\n",
      "[I 2025-05-17 13:08:26,065] Trial 68 finished with value: -44.0699999999847 and parameters: {'gamma': 0.07965347925486672, 'delta': 1.1253230257408269, 'adj1': 1.9956080121483752, 'adj2': 0.9537947854636899, 'max_position': 28}. Best is trial 0 with value: 232.95500000000357.\n",
      "[I 2025-05-17 13:12:39,089] Trial 69 finished with value: -300.36999999998534 and parameters: {'gamma': 0.06488180600817309, 'delta': 0.9409235587112227, 'adj1': 1.937292522951986, 'adj2': 0.8284684638284463, 'max_position': 20}. Best is trial 0 with value: 232.95500000000357.\n",
      "[I 2025-05-17 13:16:51,917] Trial 70 finished with value: -413.8200000000015 and parameters: {'gamma': 0.08173170711244675, 'delta': 1.0909388024487607, 'adj1': 1.6490433461156748, 'adj2': 0.7013952523225759, 'max_position': 8}. Best is trial 0 with value: 232.95500000000357.\n",
      "[I 2025-05-17 13:21:05,519] Trial 71 finished with value: -22.940000000016425 and parameters: {'gamma': 0.08524961095403708, 'delta': 1.0340954039347858, 'adj1': 1.8432841302756182, 'adj2': 0.7795790347577937, 'max_position': 17}. Best is trial 0 with value: 232.95500000000357.\n",
      "[I 2025-05-17 13:25:18,851] Trial 72 finished with value: -311.1850000000045 and parameters: {'gamma': 0.0690162533024578, 'delta': 1.1697050913965858, 'adj1': 1.7931434354518505, 'adj2': 0.7306692425458842, 'max_position': 12}. Best is trial 0 with value: 232.95500000000357.\n",
      "[I 2025-05-17 13:29:32,324] Trial 73 finished with value: -97.80000000000655 and parameters: {'gamma': 0.0882474359274494, 'delta': 0.9789961048592579, 'adj1': 1.9508404316586352, 'adj2': 0.9993838639705181, 'max_position': 20}. Best is trial 0 with value: 232.95500000000357.\n",
      "[I 2025-05-17 13:33:46,215] Trial 74 finished with value: -84.65500000003021 and parameters: {'gamma': 0.09124828989763996, 'delta': 1.330211741970258, 'adj1': 1.8624337626437768, 'adj2': 0.9363086815269148, 'max_position': 14}. Best is trial 0 with value: 232.95500000000357.\n",
      "[I 2025-05-17 13:37:59,294] Trial 75 finished with value: -74.11000000002241 and parameters: {'gamma': 0.09833060330482765, 'delta': 1.225241703130138, 'adj1': 1.6395367003408554, 'adj2': 0.7811275073704365, 'max_position': 10}. Best is trial 0 with value: 232.95500000000357.\n",
      "[I 2025-05-17 13:42:40,237] Trial 76 finished with value: 179.12999999999738 and parameters: {'gamma': 0.08381814221892211, 'delta': 1.138261786984454, 'adj1': 1.7890161303759984, 'adj2': 0.8477668849885481, 'max_position': 28}. Best is trial 0 with value: 232.95500000000357.\n",
      "[I 2025-05-17 13:48:58,274] Trial 77 finished with value: -60.3699999999958 and parameters: {'gamma': 0.07691775954795711, 'delta': 1.1343247726487198, 'adj1': 1.996427439390767, 'adj2': 0.9636770858447091, 'max_position': 28}. Best is trial 0 with value: 232.95500000000357.\n",
      "[I 2025-05-17 13:54:13,881] Trial 78 finished with value: 101.75999999998794 and parameters: {'gamma': 0.0826684034266069, 'delta': 0.9239525913680933, 'adj1': 1.9158134547433008, 'adj2': 0.844156263832172, 'max_position': 1}. Best is trial 0 with value: 232.95500000000357.\n",
      "[I 2025-05-17 13:59:20,915] Trial 79 finished with value: -114.90000000000373 and parameters: {'gamma': 0.08177666658975807, 'delta': 0.9049385748671854, 'adj1': 1.9117730374885924, 'adj2': 0.8593897249928106, 'max_position': 1}. Best is trial 0 with value: 232.95500000000357.\n",
      "[I 2025-05-17 14:04:47,010] Trial 80 finished with value: -20734.66500000026 and parameters: {'gamma': 0.0709439800895615, 'delta': 0.8201437152750798, 'adj1': 0.5172420506295625, 'adj2': 0.8448404430146421, 'max_position': 23}. Best is trial 0 with value: 232.95500000000357.\n",
      "[I 2025-05-17 14:10:27,948] Trial 81 finished with value: -130.59000000000106 and parameters: {'gamma': 0.08314152359067789, 'delta': 1.2390854309470385, 'adj1': 1.8629699887447364, 'adj2': 0.9442270049649955, 'max_position': 3}. Best is trial 0 with value: 232.95500000000357.\n",
      "[I 2025-05-17 14:15:30,356] Trial 82 finished with value: 78.21000000001641 and parameters: {'gamma': 0.09121108642892173, 'delta': 1.0624483480730964, 'adj1': 1.7787713552110684, 'adj2': 0.9209478020411594, 'max_position': 9}. Best is trial 0 with value: 232.95500000000357.\n",
      "[I 2025-05-17 14:21:06,943] Trial 83 finished with value: -22.559999999991305 and parameters: {'gamma': 0.09182369439255358, 'delta': 0.966316261758213, 'adj1': 1.9321849813990786, 'adj2': 0.7147231406229508, 'max_position': 13}. Best is trial 0 with value: 232.95500000000357.\n",
      "[I 2025-05-17 14:25:38,477] Trial 84 finished with value: -135.48999999997523 and parameters: {'gamma': 0.08742841665812592, 'delta': 1.074171894085162, 'adj1': 1.5812524155457839, 'adj2': 0.9232182201431631, 'max_position': 7}. Best is trial 0 with value: 232.95500000000357.\n",
      "[I 2025-05-17 14:29:49,327] Trial 85 finished with value: -134.23999999999614 and parameters: {'gamma': 0.09691156394165436, 'delta': 1.201440983882775, 'adj1': 1.7664158476364447, 'adj2': 0.8080322939728819, 'max_position': 27}. Best is trial 0 with value: 232.95500000000357.\n",
      "[I 2025-05-17 14:33:59,058] Trial 86 finished with value: -237.39000000002306 and parameters: {'gamma': 0.07657772504322188, 'delta': 0.9244303986785964, 'adj1': 1.8884697234663876, 'adj2': 0.6671654823833132, 'max_position': 49}. Best is trial 0 with value: 232.95500000000357.\n",
      "[I 2025-05-17 14:38:10,196] Trial 87 finished with value: -178.9699999999907 and parameters: {'gamma': 0.090446401068637, 'delta': 0.7764216875728474, 'adj1': 1.656418784584487, 'adj2': 0.8801630031069381, 'max_position': 98}. Best is trial 0 with value: 232.95500000000357.\n",
      "[I 2025-05-17 14:42:19,352] Trial 88 finished with value: -1324.0699999999742 and parameters: {'gamma': 0.06761447405704368, 'delta': 1.05456251147619, 'adj1': 1.2451669342293772, 'adj2': 0.08170268344427192, 'max_position': 19}. Best is trial 0 with value: 232.95500000000357.\n",
      "[I 2025-05-17 14:46:28,666] Trial 89 finished with value: -548.8700000000335 and parameters: {'gamma': 0.09267943752674232, 'delta': 1.1051619809274829, 'adj1': 1.0767838175649966, 'adj2': 0.9670348705280956, 'max_position': 17}. Best is trial 0 with value: 232.95500000000357.\n",
      "[I 2025-05-17 14:50:36,266] Trial 90 finished with value: -505337.02000002563 and parameters: {'gamma': 0.08115327261961737, 'delta': 1.6432549013160445, 'adj1': 0.03968285269256577, 'adj2': 0.7513093320223359, 'max_position': 6}. Best is trial 0 with value: 232.95500000000357.\n",
      "[I 2025-05-17 14:54:49,072] Trial 91 finished with value: 16.199999999997544 and parameters: {'gamma': 0.08433469202399849, 'delta': 1.1297928477335846, 'adj1': 1.7921931408922966, 'adj2': 0.978800686487004, 'max_position': 10}. Best is trial 0 with value: 232.95500000000357.\n",
      "[I 2025-05-17 14:59:01,405] Trial 92 finished with value: -74.32999999998356 and parameters: {'gamma': 0.08856242523004697, 'delta': 1.3199340827445996, 'adj1': 1.8434462742599196, 'adj2': 0.9985344246233022, 'max_position': 8}. Best is trial 0 with value: 232.95500000000357.\n",
      "[I 2025-05-17 15:03:11,548] Trial 93 finished with value: -114.7000000000121 and parameters: {'gamma': 0.08646125755114877, 'delta': 0.9892118619624793, 'adj1': 1.7136319373980609, 'adj2': 0.9228343957176655, 'max_position': 12}. Best is trial 0 with value: 232.95500000000357.\n",
      "[I 2025-05-17 15:07:22,263] Trial 94 finished with value: 102.46000000001504 and parameters: {'gamma': 0.0733122773682982, 'delta': 1.1490177337596872, 'adj1': 1.954920124234753, 'adj2': 0.9527225162062214, 'max_position': 2}. Best is trial 0 with value: 232.95500000000357.\n",
      "[I 2025-05-17 15:11:33,354] Trial 95 finished with value: -137.54999999999472 and parameters: {'gamma': 0.061645935500592206, 'delta': 1.2598696079376506, 'adj1': 1.961776387855686, 'adj2': 0.8429346967097936, 'max_position': 2}. Best is trial 0 with value: 232.95500000000357.\n",
      "[I 2025-05-17 15:15:44,395] Trial 96 finished with value: 94.22000000001663 and parameters: {'gamma': 0.07282037041595088, 'delta': 1.1875699432868356, 'adj1': 1.9163998647792164, 'adj2': 0.9109962837963201, 'max_position': 6}. Best is trial 0 with value: 232.95500000000357.\n",
      "[I 2025-05-17 15:19:56,747] Trial 97 finished with value: -194.08999999999696 and parameters: {'gamma': 0.07412430486523802, 'delta': 1.081233540411212, 'adj1': 1.5312328329613178, 'adj2': 0.8832191533401029, 'max_position': 5}. Best is trial 0 with value: 232.95500000000357.\n",
      "[I 2025-05-17 15:24:07,301] Trial 98 finished with value: 16.150000000010095 and parameters: {'gamma': 0.09989642751958976, 'delta': 0.8923635565592234, 'adj1': 1.8868546880818493, 'adj2': 0.8085772693618557, 'max_position': 3}. Best is trial 0 with value: 232.95500000000357.\n",
      "[I 2025-05-17 15:28:17,836] Trial 99 finished with value: -52.92000000001417 and parameters: {'gamma': 0.05381060038441957, 'delta': 0.9587649842727777, 'adj1': 1.925277856216707, 'adj2': 0.9145494059298619, 'max_position': 5}. Best is trial 0 with value: 232.95500000000357.\n"
     ]
    }
   ],
   "execution_count": 6
  },
  {
   "metadata": {
    "ExecuteTime": {
     "end_time": "2025-05-17T13:28:17.898768Z",
     "start_time": "2025-05-17T13:28:17.884269Z"
    }
   },
   "cell_type": "code",
   "source": "study.best_params",
   "id": "5aca4bf4812c87c2",
   "outputs": [
    {
     "data": {
      "text/plain": [
       "{'gamma': 0.04370861069626263,\n",
       " 'delta': 1.9260714596148742,\n",
       " 'adj1': 1.4666679442046962,\n",
       " 'adj2': 0.6026718993550663,\n",
       " 'max_position': 16}"
      ]
     },
     "execution_count": 7,
     "metadata": {},
     "output_type": "execute_result"
    }
   ],
   "execution_count": 7
  }
 ],
 "metadata": {
  "kernelspec": {
   "display_name": "Python 3",
   "language": "python",
   "name": "python3"
  },
  "language_info": {
   "codemirror_mode": {
    "name": "ipython",
    "version": 2
   },
   "file_extension": ".py",
   "mimetype": "text/x-python",
   "name": "python",
   "nbconvert_exporter": "python",
   "pygments_lexer": "ipython2",
   "version": "2.7.6"
  }
 },
 "nbformat": 4,
 "nbformat_minor": 5
}
