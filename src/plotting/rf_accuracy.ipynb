{
 "cells": [
  {
   "cell_type": "code",
   "id": "initial_id",
   "metadata": {
    "collapsed": true,
    "ExecuteTime": {
     "end_time": "2025-06-08T17:52:00.053065Z",
     "start_time": "2025-06-08T17:51:59.889785Z"
    }
   },
   "source": "import numpy as np",
   "outputs": [],
   "execution_count": 1
  },
  {
   "metadata": {
    "ExecuteTime": {
     "end_time": "2025-06-08T17:52:00.366364Z",
     "start_time": "2025-06-08T17:52:00.060419Z"
    }
   },
   "cell_type": "code",
   "source": [
    "features = np.load('../../data/features/normalized_features/normalized_02_jan.npy')\n",
    "labels = np.load('../../data/features/directional_labels/k_50_categorical_labels_02_jan.npy')\n",
    "\n",
    "test_features = np.load('../../data/features/normalized_features/normalized_03_jan.npy')\n",
    "test_labels = np.load('../../data/features/directional_labels/k_50_categorical_labels_03_jan.npy')"
   ],
   "id": "2e99d129bba4815b",
   "outputs": [],
   "execution_count": 2
  },
  {
   "metadata": {
    "ExecuteTime": {
     "end_time": "2025-06-09T04:09:21.198455Z",
     "start_time": "2025-06-08T17:52:00.565810Z"
    }
   },
   "cell_type": "code",
   "source": [
    "from sklearn.ensemble import RandomForestClassifier\n",
    "import optuna\n",
    "\n",
    "def objective(trial):\n",
    "    n_estimators = trial.suggest_int('n_estimators', 50, 200)\n",
    "    max_depth = trial.suggest_int('max_depth', 5, 20)\n",
    "    min_samples_split = trial.suggest_int('min_samples_split', 2, 10)\n",
    "    min_samples_leaf = trial.suggest_int('min_samples_leaf', 1, 4)\n",
    "    max_features = trial.suggest_categorical('max_features', ['sqrt', 'log2'])\n",
    "\n",
    "    rf = RandomForestClassifier(n_estimators=n_estimators,\n",
    "                                max_depth=max_depth,\n",
    "                                min_samples_split=min_samples_split,\n",
    "                                min_samples_leaf=min_samples_leaf,\n",
    "                                max_features=max_features,\n",
    "                                random_state=42)\n",
    "\n",
    "    rf.fit(features, labels)\n",
    "    accuracy = rf.score(test_features, test_labels)\n",
    "    \n",
    "    return accuracy\n",
    "    \n",
    "\n",
    "study = optuna.create_study(direction='maximize')\n",
    "\n",
    "study.optimize(objective, n_trials=100)\n"
   ],
   "id": "ad43afa1964825cd",
   "outputs": [
    {
     "name": "stderr",
     "output_type": "stream",
     "text": [
      "C:\\Users\\codri\\AppData\\Local\\Packages\\PythonSoftwareFoundation.Python.3.12_qbz5n2kfra8p0\\LocalCache\\local-packages\\Python312\\site-packages\\tqdm\\auto.py:21: TqdmWarning: IProgress not found. Please update jupyter and ipywidgets. See https://ipywidgets.readthedocs.io/en/stable/user_install.html\n",
      "  from .autonotebook import tqdm as notebook_tqdm\n",
      "[I 2025-06-08 19:52:02,125] A new study created in memory with name: no-name-eed3e714-fc47-4222-9288-d7a841fdcf5d\n",
      "[I 2025-06-08 20:07:40,251] Trial 0 finished with value: 0.5878573652454812 and parameters: {'n_estimators': 156, 'max_depth': 11, 'min_samples_split': 8, 'min_samples_leaf': 3, 'max_features': 'sqrt'}. Best is trial 0 with value: 0.5878573652454812.\n",
      "[I 2025-06-08 20:19:22,758] Trial 1 finished with value: 0.5761860284237098 and parameters: {'n_estimators': 101, 'max_depth': 15, 'min_samples_split': 2, 'min_samples_leaf': 2, 'max_features': 'sqrt'}. Best is trial 0 with value: 0.5878573652454812.\n",
      "[I 2025-06-08 20:28:29,889] Trial 2 finished with value: 0.578523999504628 and parameters: {'n_estimators': 128, 'max_depth': 14, 'min_samples_split': 6, 'min_samples_leaf': 3, 'max_features': 'log2'}. Best is trial 0 with value: 0.5878573652454812.\n",
      "[I 2025-06-08 20:49:16,769] Trial 3 finished with value: 0.5793422893829493 and parameters: {'n_estimators': 181, 'max_depth': 13, 'min_samples_split': 3, 'min_samples_leaf': 1, 'max_features': 'sqrt'}. Best is trial 0 with value: 0.5878573652454812.\n",
      "[I 2025-06-08 20:56:38,453] Trial 4 finished with value: 0.5463190265706941 and parameters: {'n_estimators': 53, 'max_depth': 18, 'min_samples_split': 4, 'min_samples_leaf': 1, 'max_features': 'sqrt'}. Best is trial 0 with value: 0.5878573652454812.\n",
      "[I 2025-06-08 21:06:42,974] Trial 5 finished with value: 0.5563537836358228 and parameters: {'n_estimators': 122, 'max_depth': 17, 'min_samples_split': 2, 'min_samples_leaf': 3, 'max_features': 'log2'}. Best is trial 0 with value: 0.5878573652454812.\n",
      "[I 2025-06-08 21:14:37,671] Trial 6 finished with value: 0.6019916735822 and parameters: {'n_estimators': 154, 'max_depth': 8, 'min_samples_split': 9, 'min_samples_leaf': 3, 'max_features': 'log2'}. Best is trial 6 with value: 0.6019916735822.\n",
      "[I 2025-06-08 21:19:39,236] Trial 7 finished with value: 0.5426141525954372 and parameters: {'n_estimators': 58, 'max_depth': 19, 'min_samples_split': 7, 'min_samples_leaf': 1, 'max_features': 'log2'}. Best is trial 6 with value: 0.6019916735822.\n",
      "[I 2025-06-08 21:34:44,958] Trial 8 finished with value: 0.5825737820848915 and parameters: {'n_estimators': 136, 'max_depth': 12, 'min_samples_split': 2, 'min_samples_leaf': 1, 'max_features': 'sqrt'}. Best is trial 6 with value: 0.6019916735822.\n",
      "[I 2025-06-08 21:46:05,930] Trial 9 finished with value: 0.585636292718609 and parameters: {'n_estimators': 175, 'max_depth': 11, 'min_samples_split': 3, 'min_samples_leaf': 2, 'max_features': 'log2'}. Best is trial 6 with value: 0.6019916735822.\n",
      "[I 2025-06-08 21:54:17,682] Trial 10 finished with value: 0.6347927134006253 and parameters: {'n_estimators': 197, 'max_depth': 6, 'min_samples_split': 10, 'min_samples_leaf': 4, 'max_features': 'log2'}. Best is trial 10 with value: 0.6347927134006253.\n",
      "[I 2025-06-08 22:02:43,646] Trial 11 finished with value: 0.6347070649550867 and parameters: {'n_estimators': 198, 'max_depth': 6, 'min_samples_split': 10, 'min_samples_leaf': 4, 'max_features': 'log2'}. Best is trial 10 with value: 0.6347927134006253.\n",
      "[I 2025-06-08 22:09:58,073] Trial 12 finished with value: 0.6436434385767543 and parameters: {'n_estimators': 200, 'max_depth': 5, 'min_samples_split': 10, 'min_samples_leaf': 4, 'max_features': 'log2'}. Best is trial 12 with value: 0.6436434385767543.\n",
      "[I 2025-06-08 22:17:04,856] Trial 13 finished with value: 0.6434293174629079 and parameters: {'n_estimators': 197, 'max_depth': 5, 'min_samples_split': 10, 'min_samples_leaf': 4, 'max_features': 'log2'}. Best is trial 12 with value: 0.6436434385767543.\n",
      "[I 2025-06-08 22:25:53,650] Trial 14 finished with value: 0.6022173688103084 and parameters: {'n_estimators': 174, 'max_depth': 8, 'min_samples_split': 8, 'min_samples_leaf': 4, 'max_features': 'log2'}. Best is trial 12 with value: 0.6436434385767543.\n",
      "[I 2025-06-08 22:30:38,731] Trial 15 finished with value: 0.598063419201687 and parameters: {'n_estimators': 86, 'max_depth': 9, 'min_samples_split': 6, 'min_samples_leaf': 4, 'max_features': 'log2'}. Best is trial 12 with value: 0.6436434385767543.\n",
      "[I 2025-06-08 22:37:33,824] Trial 16 finished with value: 0.6436434385767543 and parameters: {'n_estimators': 200, 'max_depth': 5, 'min_samples_split': 9, 'min_samples_leaf': 4, 'max_features': 'log2'}. Best is trial 12 with value: 0.6436434385767543.\n",
      "[I 2025-06-08 22:43:04,272] Trial 17 finished with value: 0.6438714486277152 and parameters: {'n_estimators': 156, 'max_depth': 5, 'min_samples_split': 8, 'min_samples_leaf': 4, 'max_features': 'log2'}. Best is trial 17 with value: 0.6438714486277152.\n",
      "[I 2025-06-08 22:51:41,154] Trial 18 finished with value: 0.5921779820994749 and parameters: {'n_estimators': 157, 'max_depth': 9, 'min_samples_split': 7, 'min_samples_leaf': 2, 'max_features': 'log2'}. Best is trial 17 with value: 0.6438714486277152.\n",
      "[I 2025-06-08 22:56:41,867] Trial 19 finished with value: 0.6379026779028167 and parameters: {'n_estimators': 110, 'max_depth': 7, 'min_samples_split': 5, 'min_samples_leaf': 3, 'max_features': 'log2'}. Best is trial 17 with value: 0.6438714486277152.\n",
      "[I 2025-06-08 23:05:14,100] Trial 20 finished with value: 0.5892613053054583 and parameters: {'n_estimators': 142, 'max_depth': 10, 'min_samples_split': 9, 'min_samples_leaf': 4, 'max_features': 'log2'}. Best is trial 17 with value: 0.6438714486277152.\n",
      "[I 2025-06-08 23:11:34,969] Trial 21 finished with value: 0.6435323270798394 and parameters: {'n_estimators': 182, 'max_depth': 5, 'min_samples_split': 9, 'min_samples_leaf': 4, 'max_features': 'log2'}. Best is trial 17 with value: 0.6438714486277152.\n",
      "[I 2025-06-08 23:17:17,505] Trial 22 finished with value: 0.6435693642454777 and parameters: {'n_estimators': 163, 'max_depth': 5, 'min_samples_split': 8, 'min_samples_leaf': 4, 'max_features': 'log2'}. Best is trial 17 with value: 0.6438714486277152.\n",
      "[I 2025-06-08 23:26:03,448] Trial 23 finished with value: 0.6367857758765366 and parameters: {'n_estimators': 188, 'max_depth': 7, 'min_samples_split': 9, 'min_samples_leaf': 3, 'max_features': 'log2'}. Best is trial 17 with value: 0.6438714486277152.\n",
      "[I 2025-06-08 23:33:45,219] Trial 24 finished with value: 0.6364790618485944 and parameters: {'n_estimators': 170, 'max_depth': 7, 'min_samples_split': 7, 'min_samples_leaf': 4, 'max_features': 'log2'}. Best is trial 17 with value: 0.6438714486277152.\n",
      "[I 2025-06-08 23:40:18,749] Trial 25 finished with value: 0.6434270026400555 and parameters: {'n_estimators': 188, 'max_depth': 5, 'min_samples_split': 10, 'min_samples_leaf': 4, 'max_features': 'log2'}. Best is trial 17 with value: 0.6438714486277152.\n",
      "[I 2025-06-08 23:49:59,775] Trial 26 finished with value: 0.6350531309715196 and parameters: {'n_estimators': 145, 'max_depth': 6, 'min_samples_split': 8, 'min_samples_leaf': 3, 'max_features': 'sqrt'}. Best is trial 17 with value: 0.6438714486277152.\n",
      "[I 2025-06-09 00:00:10,469] Trial 27 finished with value: 0.6019557938279878 and parameters: {'n_estimators': 200, 'max_depth': 8, 'min_samples_split': 9, 'min_samples_leaf': 4, 'max_features': 'log2'}. Best is trial 17 with value: 0.6438714486277152.\n",
      "[I 2025-06-09 00:09:28,767] Trial 28 finished with value: 0.5967555442900844 and parameters: {'n_estimators': 167, 'max_depth': 9, 'min_samples_split': 10, 'min_samples_leaf': 3, 'max_features': 'log2'}. Best is trial 17 with value: 0.6438714486277152.\n",
      "[I 2025-06-09 00:27:08,553] Trial 29 finished with value: 0.5857497190383762 and parameters: {'n_estimators': 158, 'max_depth': 11, 'min_samples_split': 8, 'min_samples_leaf': 4, 'max_features': 'sqrt'}. Best is trial 17 with value: 0.6438714486277152.\n",
      "[I 2025-06-09 00:50:31,598] Trial 30 finished with value: 0.5646755717901798 and parameters: {'n_estimators': 186, 'max_depth': 16, 'min_samples_split': 6, 'min_samples_leaf': 3, 'max_features': 'log2'}. Best is trial 17 with value: 0.6438714486277152.\n",
      "[I 2025-06-09 00:56:28,009] Trial 31 finished with value: 0.6437036239709165 and parameters: {'n_estimators': 165, 'max_depth': 5, 'min_samples_split': 8, 'min_samples_leaf': 4, 'max_features': 'log2'}. Best is trial 17 with value: 0.6438714486277152.\n",
      "[I 2025-06-09 01:04:40,812] Trial 32 finished with value: 0.6346630833208912 and parameters: {'n_estimators': 174, 'max_depth': 6, 'min_samples_split': 8, 'min_samples_leaf': 4, 'max_features': 'log2'}. Best is trial 17 with value: 0.6438714486277152.\n",
      "[I 2025-06-09 01:09:20,318] Trial 33 finished with value: 0.6439443655475655 and parameters: {'n_estimators': 149, 'max_depth': 5, 'min_samples_split': 9, 'min_samples_leaf': 4, 'max_features': 'log2'}. Best is trial 33 with value: 0.6439443655475655.\n",
      "[I 2025-06-09 01:19:16,774] Trial 34 finished with value: 0.6331040501298036 and parameters: {'n_estimators': 150, 'max_depth': 7, 'min_samples_split': 7, 'min_samples_leaf': 4, 'max_features': 'sqrt'}. Best is trial 33 with value: 0.6439443655475655.\n",
      "[I 2025-06-09 01:27:31,506] Trial 35 finished with value: 0.5754140350024364 and parameters: {'n_estimators': 126, 'max_depth': 14, 'min_samples_split': 9, 'min_samples_leaf': 2, 'max_features': 'log2'}. Best is trial 33 with value: 0.6439443655475655.\n",
      "[I 2025-06-09 01:32:30,528] Trial 36 finished with value: 0.6348228060977064 and parameters: {'n_estimators': 139, 'max_depth': 6, 'min_samples_split': 5, 'min_samples_leaf': 4, 'max_features': 'log2'}. Best is trial 33 with value: 0.6439443655475655.\n",
      "[I 2025-06-09 01:49:26,476] Trial 37 finished with value: 0.5469139360437594 and parameters: {'n_estimators': 132, 'max_depth': 20, 'min_samples_split': 10, 'min_samples_leaf': 3, 'max_features': 'sqrt'}. Best is trial 33 with value: 0.6439443655475655.\n",
      "[I 2025-06-09 01:54:25,945] Trial 38 finished with value: 0.6024083416956308 and parameters: {'n_estimators': 112, 'max_depth': 8, 'min_samples_split': 7, 'min_samples_leaf': 3, 'max_features': 'log2'}. Best is trial 33 with value: 0.6439443655475655.\n",
      "[I 2025-06-09 01:59:01,285] Trial 39 finished with value: 0.6439941342388921 and parameters: {'n_estimators': 148, 'max_depth': 5, 'min_samples_split': 8, 'min_samples_leaf': 4, 'max_features': 'log2'}. Best is trial 39 with value: 0.6439941342388921.\n",
      "[I 2025-06-09 02:08:46,885] Trial 40 finished with value: 0.6327626137590755 and parameters: {'n_estimators': 147, 'max_depth': 7, 'min_samples_split': 8, 'min_samples_leaf': 4, 'max_features': 'sqrt'}. Best is trial 39 with value: 0.6439941342388921.\n",
      "[I 2025-06-09 02:13:55,229] Trial 41 finished with value: 0.6437036239709165 and parameters: {'n_estimators': 165, 'max_depth': 5, 'min_samples_split': 9, 'min_samples_leaf': 4, 'max_features': 'log2'}. Best is trial 39 with value: 0.6439941342388921.\n",
      "[I 2025-06-09 02:19:45,472] Trial 42 finished with value: 0.6348505839719351 and parameters: {'n_estimators': 162, 'max_depth': 6, 'min_samples_split': 9, 'min_samples_leaf': 4, 'max_features': 'log2'}. Best is trial 39 with value: 0.6439941342388921.\n",
      "[I 2025-06-09 02:24:24,866] Trial 43 finished with value: 0.6438344114620769 and parameters: {'n_estimators': 151, 'max_depth': 5, 'min_samples_split': 7, 'min_samples_leaf': 4, 'max_features': 'log2'}. Best is trial 39 with value: 0.6439941342388921.\n",
      "[I 2025-06-09 02:29:52,188] Trial 44 finished with value: 0.6345299810068785 and parameters: {'n_estimators': 153, 'max_depth': 6, 'min_samples_split': 7, 'min_samples_leaf': 4, 'max_features': 'log2'}. Best is trial 39 with value: 0.6439941342388921.\n",
      "[I 2025-06-09 02:34:39,044] Trial 45 finished with value: 0.6373876298181591 and parameters: {'n_estimators': 119, 'max_depth': 7, 'min_samples_split': 8, 'min_samples_leaf': 4, 'max_features': 'log2'}. Best is trial 39 with value: 0.6439941342388921.\n",
      "[I 2025-06-09 02:38:49,455] Trial 46 finished with value: 0.6439026987362224 and parameters: {'n_estimators': 133, 'max_depth': 5, 'min_samples_split': 6, 'min_samples_leaf': 4, 'max_features': 'log2'}. Best is trial 39 with value: 0.6439941342388921.\n",
      "[I 2025-06-09 02:46:44,459] Trial 47 finished with value: 0.5838897588764775 and parameters: {'n_estimators': 133, 'max_depth': 12, 'min_samples_split': 5, 'min_samples_leaf': 2, 'max_features': 'log2'}. Best is trial 39 with value: 0.6439941342388921.\n",
      "[I 2025-06-09 02:50:45,100] Trial 48 finished with value: 0.6028307968661928 and parameters: {'n_estimators': 90, 'max_depth': 8, 'min_samples_split': 6, 'min_samples_leaf': 3, 'max_features': 'log2'}. Best is trial 39 with value: 0.6439941342388921.\n",
      "[I 2025-06-09 02:55:43,148] Trial 49 finished with value: 0.6347822966977894 and parameters: {'n_estimators': 138, 'max_depth': 6, 'min_samples_split': 6, 'min_samples_leaf': 1, 'max_features': 'log2'}. Best is trial 39 with value: 0.6439941342388921.\n",
      "[I 2025-06-09 02:59:42,204] Trial 50 finished with value: 0.6437279296108667 and parameters: {'n_estimators': 129, 'max_depth': 5, 'min_samples_split': 4, 'min_samples_leaf': 4, 'max_features': 'log2'}. Best is trial 39 with value: 0.6439941342388921.\n",
      "[I 2025-06-09 03:03:23,410] Trial 51 finished with value: 0.644116819850069 and parameters: {'n_estimators': 119, 'max_depth': 5, 'min_samples_split': 4, 'min_samples_leaf': 4, 'max_features': 'log2'}. Best is trial 51 with value: 0.644116819850069.\n",
      "[I 2025-06-09 03:07:41,004] Trial 52 finished with value: 0.6349130841889498 and parameters: {'n_estimators': 119, 'max_depth': 6, 'min_samples_split': 3, 'min_samples_leaf': 4, 'max_features': 'log2'}. Best is trial 51 with value: 0.644116819850069.\n",
      "[I 2025-06-09 03:10:44,430] Trial 53 finished with value: 0.6442001534727552 and parameters: {'n_estimators': 99, 'max_depth': 5, 'min_samples_split': 4, 'min_samples_leaf': 4, 'max_features': 'log2'}. Best is trial 53 with value: 0.6442001534727552.\n",
      "[I 2025-06-09 03:14:23,962] Trial 54 finished with value: 0.6343957212814396 and parameters: {'n_estimators': 102, 'max_depth': 6, 'min_samples_split': 4, 'min_samples_leaf': 4, 'max_features': 'log2'}. Best is trial 53 with value: 0.6442001534727552.\n",
      "[I 2025-06-09 03:16:42,303] Trial 55 finished with value: 0.6438980690905177 and parameters: {'n_estimators': 75, 'max_depth': 5, 'min_samples_split': 3, 'min_samples_leaf': 4, 'max_features': 'log2'}. Best is trial 53 with value: 0.6442001534727552.\n",
      "[I 2025-06-09 03:19:53,920] Trial 56 finished with value: 0.58807380118218 and parameters: {'n_estimators': 61, 'max_depth': 10, 'min_samples_split': 2, 'min_samples_leaf': 4, 'max_features': 'log2'}. Best is trial 53 with value: 0.6442001534727552.\n",
      "[I 2025-06-09 03:22:48,978] Trial 57 finished with value: 0.6379015204913906 and parameters: {'n_estimators': 72, 'max_depth': 7, 'min_samples_split': 3, 'min_samples_leaf': 4, 'max_features': 'log2'}. Best is trial 53 with value: 0.6442001534727552.\n",
      "[I 2025-06-09 03:25:45,279] Trial 58 finished with value: 0.6442059405298861 and parameters: {'n_estimators': 94, 'max_depth': 5, 'min_samples_split': 4, 'min_samples_leaf': 4, 'max_features': 'log2'}. Best is trial 58 with value: 0.6442059405298861.\n",
      "[I 2025-06-09 03:32:43,541] Trial 59 finished with value: 0.5995298594786788 and parameters: {'n_estimators': 95, 'max_depth': 8, 'min_samples_split': 4, 'min_samples_leaf': 3, 'max_features': 'sqrt'}. Best is trial 58 with value: 0.6442059405298861.\n",
      "[I 2025-06-09 03:35:59,168] Trial 60 finished with value: 0.6441735330099526 and parameters: {'n_estimators': 106, 'max_depth': 5, 'min_samples_split': 5, 'min_samples_leaf': 4, 'max_features': 'log2'}. Best is trial 58 with value: 0.6442059405298861.\n",
      "[I 2025-06-09 03:39:15,438] Trial 61 finished with value: 0.6441735330099526 and parameters: {'n_estimators': 106, 'max_depth': 5, 'min_samples_split': 5, 'min_samples_leaf': 4, 'max_features': 'log2'}. Best is trial 58 with value: 0.6442059405298861.\n",
      "[I 2025-06-09 03:43:01,781] Trial 62 finished with value: 0.634896880428983 and parameters: {'n_estimators': 105, 'max_depth': 6, 'min_samples_split': 5, 'min_samples_leaf': 4, 'max_features': 'log2'}. Best is trial 58 with value: 0.6442059405298861.\n",
      "[I 2025-06-09 03:46:01,135] Trial 63 finished with value: 0.6443124223810962 and parameters: {'n_estimators': 96, 'max_depth': 5, 'min_samples_split': 5, 'min_samples_leaf': 4, 'max_features': 'log2'}. Best is trial 63 with value: 0.6443124223810962.\n",
      "[I 2025-06-09 03:49:46,728] Trial 64 finished with value: 0.6384142537531959 and parameters: {'n_estimators': 94, 'max_depth': 7, 'min_samples_split': 5, 'min_samples_leaf': 4, 'max_features': 'log2'}. Best is trial 63 with value: 0.6443124223810962.\n",
      "[I 2025-06-09 03:52:19,294] Trial 65 finished with value: 0.6441006160901022 and parameters: {'n_estimators': 83, 'max_depth': 5, 'min_samples_split': 4, 'min_samples_leaf': 4, 'max_features': 'log2'}. Best is trial 63 with value: 0.6443124223810962.\n",
      "[I 2025-06-09 03:58:05,831] Trial 66 finished with value: 0.5609730126377753 and parameters: {'n_estimators': 80, 'max_depth': 17, 'min_samples_split': 4, 'min_samples_leaf': 4, 'max_features': 'log2'}. Best is trial 63 with value: 0.6443124223810962.\n",
      "[I 2025-06-09 04:02:01,170] Trial 67 finished with value: 0.634832065389116 and parameters: {'n_estimators': 109, 'max_depth': 6, 'min_samples_split': 4, 'min_samples_leaf': 4, 'max_features': 'log2'}. Best is trial 63 with value: 0.6443124223810962.\n",
      "[I 2025-06-09 04:05:00,273] Trial 68 finished with value: 0.644258024044065 and parameters: {'n_estimators': 97, 'max_depth': 5, 'min_samples_split': 4, 'min_samples_leaf': 4, 'max_features': 'log2'}. Best is trial 63 with value: 0.6443124223810962.\n",
      "[I 2025-06-09 04:08:26,967] Trial 69 finished with value: 0.6345542866468287 and parameters: {'n_estimators': 96, 'max_depth': 6, 'min_samples_split': 5, 'min_samples_leaf': 4, 'max_features': 'log2'}. Best is trial 63 with value: 0.6443124223810962.\n",
      "[I 2025-06-09 04:12:29,660] Trial 70 finished with value: 0.6385924951128302 and parameters: {'n_estimators': 99, 'max_depth': 7, 'min_samples_split': 5, 'min_samples_leaf': 1, 'max_features': 'log2'}. Best is trial 63 with value: 0.6443124223810962.\n",
      "[I 2025-06-09 04:15:07,482] Trial 71 finished with value: 0.644082097507283 and parameters: {'n_estimators': 86, 'max_depth': 5, 'min_samples_split': 4, 'min_samples_leaf': 4, 'max_features': 'log2'}. Best is trial 63 with value: 0.6443124223810962.\n",
      "[I 2025-06-09 04:18:36,649] Trial 72 finished with value: 0.6441029309129546 and parameters: {'n_estimators': 114, 'max_depth': 5, 'min_samples_split': 4, 'min_samples_leaf': 4, 'max_features': 'log2'}. Best is trial 63 with value: 0.6443124223810962.\n",
      "[I 2025-06-09 04:22:40,194] Trial 73 finished with value: 0.6347765096406585 and parameters: {'n_estimators': 113, 'max_depth': 6, 'min_samples_split': 4, 'min_samples_leaf': 4, 'max_features': 'log2'}. Best is trial 63 with value: 0.6443124223810962.\n",
      "[I 2025-06-09 04:25:56,257] Trial 74 finished with value: 0.6441735330099526 and parameters: {'n_estimators': 106, 'max_depth': 5, 'min_samples_split': 3, 'min_samples_leaf': 4, 'max_features': 'log2'}. Best is trial 63 with value: 0.6443124223810962.\n",
      "[I 2025-06-09 04:29:11,559] Trial 75 finished with value: 0.6442614962783435 and parameters: {'n_estimators': 105, 'max_depth': 5, 'min_samples_split': 3, 'min_samples_leaf': 4, 'max_features': 'log2'}. Best is trial 63 with value: 0.6443124223810962.\n",
      "[I 2025-06-09 04:35:24,704] Trial 76 finished with value: 0.6354512805021314 and parameters: {'n_estimators': 106, 'max_depth': 6, 'min_samples_split': 2, 'min_samples_leaf': 3, 'max_features': 'sqrt'}. Best is trial 63 with value: 0.6443124223810962.\n",
      "[I 2025-06-09 04:38:30,082] Trial 77 finished with value: 0.6440242269359732 and parameters: {'n_estimators': 101, 'max_depth': 5, 'min_samples_split': 3, 'min_samples_leaf': 4, 'max_features': 'log2'}. Best is trial 63 with value: 0.6443124223810962.\n",
      "[I 2025-06-09 04:44:27,562] Trial 78 finished with value: 0.5733584723095103 and parameters: {'n_estimators': 88, 'max_depth': 15, 'min_samples_split': 3, 'min_samples_leaf': 4, 'max_features': 'log2'}. Best is trial 63 with value: 0.6443124223810962.\n",
      "[I 2025-06-09 04:47:43,014] Trial 79 finished with value: 0.6345230365383213 and parameters: {'n_estimators': 91, 'max_depth': 6, 'min_samples_split': 2, 'min_samples_leaf': 4, 'max_features': 'log2'}. Best is trial 63 with value: 0.6443124223810962.\n",
      "[I 2025-06-09 04:51:58,592] Trial 80 finished with value: 0.6377059179603632 and parameters: {'n_estimators': 106, 'max_depth': 7, 'min_samples_split': 5, 'min_samples_leaf': 3, 'max_features': 'log2'}. Best is trial 63 with value: 0.6443124223810962.\n",
      "[I 2025-06-09 04:55:37,015] Trial 81 finished with value: 0.644116819850069 and parameters: {'n_estimators': 119, 'max_depth': 5, 'min_samples_split': 3, 'min_samples_leaf': 4, 'max_features': 'log2'}. Best is trial 63 with value: 0.6443124223810962.\n",
      "[I 2025-06-09 04:58:41,022] Trial 82 finished with value: 0.6442001534727552 and parameters: {'n_estimators': 99, 'max_depth': 5, 'min_samples_split': 5, 'min_samples_leaf': 4, 'max_features': 'log2'}. Best is trial 63 with value: 0.6443124223810962.\n",
      "[I 2025-06-09 05:01:42,130] Trial 83 finished with value: 0.644258024044065 and parameters: {'n_estimators': 97, 'max_depth': 5, 'min_samples_split': 5, 'min_samples_leaf': 4, 'max_features': 'log2'}. Best is trial 63 with value: 0.6443124223810962.\n",
      "[I 2025-06-09 05:05:15,940] Trial 84 finished with value: 0.6343922490471611 and parameters: {'n_estimators': 99, 'max_depth': 6, 'min_samples_split': 5, 'min_samples_leaf': 4, 'max_features': 'log2'}. Best is trial 63 with value: 0.6443124223810962.\n",
      "[I 2025-06-09 05:08:07,423] Trial 85 finished with value: 0.644087884564414 and parameters: {'n_estimators': 93, 'max_depth': 5, 'min_samples_split': 5, 'min_samples_leaf': 4, 'max_features': 'log2'}. Best is trial 63 with value: 0.6443124223810962.\n",
      "[I 2025-06-09 05:10:57,892] Trial 86 finished with value: 0.6344883141955354 and parameters: {'n_estimators': 79, 'max_depth': 6, 'min_samples_split': 6, 'min_samples_leaf': 4, 'max_features': 'log2'}. Best is trial 63 with value: 0.6443124223810962.\n",
      "[I 2025-06-09 05:15:52,536] Trial 87 finished with value: 0.6456434455212229 and parameters: {'n_estimators': 97, 'max_depth': 5, 'min_samples_split': 5, 'min_samples_leaf': 4, 'max_features': 'sqrt'}. Best is trial 87 with value: 0.6456434455212229.\n",
      "[I 2025-06-09 05:22:22,478] Trial 88 finished with value: 0.632888771604531 and parameters: {'n_estimators': 98, 'max_depth': 7, 'min_samples_split': 6, 'min_samples_leaf': 4, 'max_features': 'sqrt'}. Best is trial 87 with value: 0.6456434455212229.\n",
      "[I 2025-06-09 05:26:41,342] Trial 89 finished with value: 0.6456307139955347 and parameters: {'n_estimators': 85, 'max_depth': 5, 'min_samples_split': 5, 'min_samples_leaf': 4, 'max_features': 'sqrt'}. Best is trial 87 with value: 0.6456434455212229.\n",
      "[I 2025-06-09 05:35:24,978] Trial 90 finished with value: 0.5828920702270957 and parameters: {'n_estimators': 85, 'max_depth': 13, 'min_samples_split': 4, 'min_samples_leaf': 4, 'max_features': 'sqrt'}. Best is trial 87 with value: 0.6456434455212229.\n",
      "[I 2025-06-09 05:39:58,063] Trial 91 finished with value: 0.6456943716239756 and parameters: {'n_estimators': 90, 'max_depth': 5, 'min_samples_split': 5, 'min_samples_leaf': 4, 'max_features': 'sqrt'}. Best is trial 91 with value: 0.6456943716239756.\n",
      "[I 2025-06-09 05:43:24,959] Trial 92 finished with value: 0.6452719164534136 and parameters: {'n_estimators': 68, 'max_depth': 5, 'min_samples_split': 5, 'min_samples_leaf': 4, 'max_features': 'sqrt'}. Best is trial 91 with value: 0.6456943716239756.\n",
      "[I 2025-06-09 05:47:11,472] Trial 93 finished with value: 0.6362279035691096 and parameters: {'n_estimators': 64, 'max_depth': 6, 'min_samples_split': 5, 'min_samples_leaf': 4, 'max_features': 'sqrt'}. Best is trial 91 with value: 0.6456943716239756.\n",
      "[I 2025-06-09 05:51:52,909] Trial 94 finished with value: 0.645673538218304 and parameters: {'n_estimators': 92, 'max_depth': 5, 'min_samples_split': 6, 'min_samples_leaf': 4, 'max_features': 'sqrt'}. Best is trial 91 with value: 0.6456943716239756.\n",
      "[I 2025-06-09 05:55:19,346] Trial 95 finished with value: 0.6452719164534136 and parameters: {'n_estimators': 68, 'max_depth': 5, 'min_samples_split': 6, 'min_samples_leaf': 4, 'max_features': 'sqrt'}. Best is trial 91 with value: 0.6456943716239756.\n",
      "[I 2025-06-09 05:58:29,028] Trial 96 finished with value: 0.636006837986706 and parameters: {'n_estimators': 54, 'max_depth': 6, 'min_samples_split': 6, 'min_samples_leaf': 4, 'max_features': 'sqrt'}. Best is trial 91 with value: 0.6456943716239756.\n",
      "[I 2025-06-09 06:01:52,728] Trial 97 finished with value: 0.6453297870247234 and parameters: {'n_estimators': 67, 'max_depth': 5, 'min_samples_split': 6, 'min_samples_leaf': 4, 'max_features': 'sqrt'}. Best is trial 91 with value: 0.6456943716239756.\n",
      "[I 2025-06-09 06:06:09,653] Trial 98 finished with value: 0.6356572997359945 and parameters: {'n_estimators': 73, 'max_depth': 6, 'min_samples_split': 6, 'min_samples_leaf': 4, 'max_features': 'sqrt'}. Best is trial 91 with value: 0.6456943716239756.\n",
      "[I 2025-06-09 06:09:21,191] Trial 99 finished with value: 0.6457696033666783 and parameters: {'n_estimators': 63, 'max_depth': 5, 'min_samples_split': 6, 'min_samples_leaf': 4, 'max_features': 'sqrt'}. Best is trial 99 with value: 0.6457696033666783.\n"
     ]
    }
   ],
   "execution_count": 3
  },
  {
   "metadata": {
    "ExecuteTime": {
     "end_time": "2025-06-09T04:09:21.272677Z",
     "start_time": "2025-06-09T04:09:21.266204Z"
    }
   },
   "cell_type": "code",
   "source": [
    "print(\"Best trial:\")\n",
    "trial = study.best_trial"
   ],
   "id": "6bff45aa8f440ec1",
   "outputs": [
    {
     "name": "stdout",
     "output_type": "stream",
     "text": [
      "Best trial:\n"
     ]
    }
   ],
   "execution_count": 4
  },
  {
   "metadata": {},
   "cell_type": "code",
   "outputs": [],
   "execution_count": null,
   "source": "# [I 2025-06-09 06:09:21,191] Trial 99 finished with value: 0.6457696033666783 and parameters: {'n_estimators': 63, 'max_depth': 5, 'min_samples_split': 6, 'min_samples_leaf': 4, 'max_features': 'sqrt'}. Best is trial 99 with value: 0.6457696033666783.",
   "id": "1f502b6e0c25a548"
  }
 ],
 "metadata": {
  "kernelspec": {
   "display_name": "Python 3",
   "language": "python",
   "name": "python3"
  },
  "language_info": {
   "codemirror_mode": {
    "name": "ipython",
    "version": 2
   },
   "file_extension": ".py",
   "mimetype": "text/x-python",
   "name": "python",
   "nbconvert_exporter": "python",
   "pygments_lexer": "ipython2",
   "version": "2.7.6"
  }
 },
 "nbformat": 4,
 "nbformat_minor": 5
}
