{
 "cells": [
  {
   "cell_type": "code",
   "id": "initial_id",
   "metadata": {
    "collapsed": true,
    "ExecuteTime": {
     "end_time": "2025-06-22T15:12:59.673935Z",
     "start_time": "2025-06-22T15:12:55.312150Z"
    }
   },
   "source": [
    "import numpy as np\n",
    "import pandas as pd\n",
    "from sklearn.ensemble import RandomForestClassifier\n",
    "from sklearn.metrics import classification_report\n",
    "import optuna"
   ],
   "outputs": [
    {
     "name": "stderr",
     "output_type": "stream",
     "text": [
      "C:\\Users\\codri\\AppData\\Local\\Packages\\PythonSoftwareFoundation.Python.3.12_qbz5n2kfra8p0\\LocalCache\\local-packages\\Python312\\site-packages\\tqdm\\auto.py:21: TqdmWarning: IProgress not found. Please update jupyter and ipywidgets. See https://ipywidgets.readthedocs.io/en/stable/user_install.html\n",
      "  from .autonotebook import tqdm as notebook_tqdm\n"
     ]
    }
   ],
   "execution_count": 2
  },
  {
   "metadata": {
    "ExecuteTime": {
     "end_time": "2025-06-22T15:15:56.952612Z",
     "start_time": "2025-06-22T15:15:56.579276Z"
    }
   },
   "cell_type": "code",
   "source": [
    "features = np.load('../../data/features/normalized_features/normalized_02_jan.npy')\n",
    "labels = np.load('../../data/features/directional_labels/k_50_categorical_labels_02_jan.npy')\n",
    "\n",
    "test_features = np.load('../../data/features/normalized_features/normalized_03_jan.npy')\n",
    "test_labels = np.load('../../data/features/directional_labels/k_50_categorical_labels_03_jan.npy')"
   ],
   "id": "2e99d129bba4815b",
   "outputs": [],
   "execution_count": 8
  },
  {
   "metadata": {},
   "cell_type": "code",
   "source": [
    "### Unoptimized\n",
    "\n",
    "rf = RandomForestClassifier(random_state=42, n_jobs=6)\n",
    "\n",
    "rf.fit(features, labels)\n",
    "classes = ['Down', 'No Change', 'Up']\n",
    "train_report = classification_report(labels, rf.predict(features), target_names=classes, output_dict=True)\n",
    "print(\"Train Classification Report:\")\n",
    "print(train_report)\n",
    "\n",
    "\n",
    "test_report = classification_report(test_labels, rf.predict(test_features), target_names=classes, output_dict=True)\n",
    "print(\"Test Classification Report:\")\n",
    "print(test_report)"
   ],
   "id": "dc17ab932ffe6c5a",
   "outputs": [],
   "execution_count": null
  },
  {
   "metadata": {
    "ExecuteTime": {
     "end_time": "2025-06-21T22:53:45.414289Z",
     "start_time": "2025-06-21T22:53:45.397508Z"
    }
   },
   "cell_type": "code",
   "source": [
    "df_train_report = pd.DataFrame(train_report).transpose()\n",
    "df_train_report.to_csv('../../results/optimisation_results/rfc/rf_train_unoptimised.csv')\n",
    "\n",
    "df_test_report = pd.DataFrame(test_report).transpose()\n",
    "df_test_report.to_csv('../../results/optimisation_results/rfc/rf_test_unoptimised.csv')"
   ],
   "id": "792c20bbc0b66aa2",
   "outputs": [],
   "execution_count": 4
  },
  {
   "metadata": {},
   "cell_type": "code",
   "source": [
    "def objective(trial):\n",
    "    n_estimators = trial.suggest_int('n_estimators', 50, 200)\n",
    "    max_depth = trial.suggest_int('max_depth', 5, 20)\n",
    "    min_samples_split = trial.suggest_int('min_samples_split', 2, 10)\n",
    "    min_samples_leaf = trial.suggest_int('min_samples_leaf', 1, 4)\n",
    "    max_features = trial.suggest_categorical('max_features', ['sqrt', 'log2'])\n",
    "\n",
    "    rf = RandomForestClassifier(n_estimators=n_estimators,\n",
    "                                max_depth=max_depth,\n",
    "                                min_samples_split=min_samples_split,\n",
    "                                min_samples_leaf=min_samples_leaf,\n",
    "                                max_features=max_features,\n",
    "                                random_state=42, n_jobs=6)\n",
    "\n",
    "    rf.fit(features, labels)\n",
    "    accuracy = rf.score(test_features, test_labels)\n",
    "    \n",
    "    return accuracy\n",
    "    \n",
    "\n",
    "study = optuna.create_study(direction='maximize')\n",
    "\n",
    "study.optimize(objective, n_trials=100)"
   ],
   "id": "ad43afa1964825cd",
   "outputs": [],
   "execution_count": null
  },
  {
   "metadata": {},
   "cell_type": "code",
   "source": [
    "print(\"Best trial:\")\n",
    "params = study.best_trial.params\n",
    "params"
   ],
   "id": "6bff45aa8f440ec1",
   "outputs": [],
   "execution_count": null
  },
  {
   "metadata": {},
   "cell_type": "code",
   "source": [
    "### Optimized\n",
    "\n",
    "rf = RandomForestClassifier(n_estimators=63,\n",
    "                            max_depth=5,\n",
    "                            min_samples_split=6,\n",
    "                            min_samples_leaf=4,\n",
    "                            max_features='sqrt',\n",
    "                            random_state=42, n_jobs=6)\n",
    "\n",
    "rf.fit(features, labels)\n",
    "classes = ['Down', 'No Change', 'Up']\n",
    "train_report = classification_report(labels, rf.predict(features), target_names=classes, output_dict=True)\n",
    "print(\"Train Classification Report:\")\n",
    "print(train_report)\n",
    "\n",
    "\n",
    "test_report = classification_report(test_labels, rf.predict(test_features), target_names=classes, output_dict=True)\n",
    "print(\"Test Classification Report:\")\n",
    "print(test_report)"
   ],
   "id": "e5aa3e55e40a0605",
   "outputs": [],
   "execution_count": null
  },
  {
   "metadata": {
    "ExecuteTime": {
     "end_time": "2025-06-22T13:30:35.444332Z",
     "start_time": "2025-06-22T13:30:35.432305Z"
    }
   },
   "cell_type": "code",
   "source": [
    "df_train_report = pd.DataFrame(train_report).transpose()\n",
    "df_train_report.to_csv('../../results/optimisation_results/rfc/rf_train_optimised.csv')\n",
    "\n",
    "df_test_report = pd.DataFrame(test_report).transpose()\n",
    "df_test_report.to_csv('../../results/optimisation_results/rfc/rf_test_optimised.csv')"
   ],
   "id": "cc8f3d0e86b5919f",
   "outputs": [],
   "execution_count": 9
  }
 ],
 "metadata": {
  "kernelspec": {
   "display_name": "Python 3",
   "language": "python",
   "name": "python3"
  },
  "language_info": {
   "codemirror_mode": {
    "name": "ipython",
    "version": 2
   },
   "file_extension": ".py",
   "mimetype": "text/x-python",
   "name": "python",
   "nbconvert_exporter": "python",
   "pygments_lexer": "ipython2",
   "version": "2.7.6"
  }
 },
 "nbformat": 4,
 "nbformat_minor": 5
}
