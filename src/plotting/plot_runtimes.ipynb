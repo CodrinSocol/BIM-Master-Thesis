{
 "cells": [
  {
   "cell_type": "code",
   "id": "initial_id",
   "metadata": {
    "collapsed": true
   },
   "source": [
    "import numpy as np\n",
    "import matplotlib.pyplot as plt"
   ],
   "outputs": [],
   "execution_count": null
  },
  {
   "metadata": {},
   "cell_type": "code",
   "source": [
    "glft_dir = \"../../results/daily/glft\"\n",
    "data_glft = np.load(f\"{glft_dir}/day_03/execution_times_nano.npy\") / 1e6"
   ],
   "id": "d4e88b941b24273e",
   "outputs": [],
   "execution_count": null
  },
  {
   "metadata": {},
   "cell_type": "code",
   "source": [
    "glft_dir = \"../../results/daily/glft\"\n",
    "rf_dir = \"../../results/daily/rf-dynamic-train-and-norm-tight\"\n",
    "\n",
    "data_glft = np.load(f\"{glft_dir}/day_02/execution_times_nano.npy\")\n",
    "data_rf = np.load(f\"{rf_dir}/day_02/execution_times_seconds.npy\")\n",
    "\n",
    "\n",
    "for day in range(3, 32):\n",
    "    glft_file = f\"{glft_dir}/day_{day:02d}/execution_times_nano.npy\"\n",
    "    rf_file = f\"{rf_dir}/day_{day:02d}/execution_times_seconds.npy\"\n",
    "    \n",
    "    glft_df = np.load(glft_file) / 1e6\n",
    "    rf_df = np.load(rf_file) * 1000\n",
    "    \n",
    "    last_non_zero_idx_rf = np.nonzero(rf_df)[0][-1]\n",
    "    last_non_zero_idx_glft = np.nonzero(glft_df)[0][-1]\n",
    "    \n",
    "    data_rf_ms = rf_df[:last_non_zero_idx_rf + 1]\n",
    "    data_glft_ms = glft_df[:last_non_zero_idx_glft + 1]\n",
    "    \n",
    "    \n",
    "    data_glft = np.concatenate((data_glft, data_glft_ms))\n",
    "    data_rf = np.concatenate((data_rf, data_rf_ms))"
   ],
   "id": "da743430c4474de6",
   "outputs": [],
   "execution_count": null
  },
  {
   "metadata": {},
   "cell_type": "code",
   "source": [
    "bins = [0, 1, 2, 3, 4, 5, 6, np.inf]\n",
    "labels = [\n",
    "    '<1 ms', '1-2 ms', '2-3 ms', '3-4 ms', '4-5 ms', '5-6 ms', '6> ms']\n",
    "\n",
    "# for glft\n",
    "for i in range(len(bins)-1):\n",
    "    count = np.sum((data_glft_ms >= bins[i]) & (data_glft_ms < bins[i+1]))\n",
    "    percentage = count / len(data_glft_ms) * 100\n",
    "    print(f'GLFT: {labels[i]}: {count} ({percentage:.2f}%)')\n",
    "    \n",
    "# for rf\n",
    "for i in range(len(bins)-1):\n",
    "    count = np.sum((data_rf_ms >= bins[i]) & (data_rf_ms < bins[i+1]))\n",
    "    percentage = count / len(data_rf_ms) * 100\n",
    "    print(f'RF: {labels[i]}: {count} ({percentage:.2f}%)')"
   ],
   "id": "355c95fe77f5230f",
   "outputs": [],
   "execution_count": null
  },
  {
   "metadata": {},
   "cell_type": "code",
   "source": [
    "bins = [0, 1, 2, 3, 4, 5, 6, 7, 8, 9, 10, 15, 20, 25, np.inf]\n",
    "labels = [f'{bins[i]}-{bins[i+1]} ms' if np.isfinite(bins[i+1])\n",
    "          else f'>{bins[i]} ms'\n",
    "          for i in range(len(bins)-1)]\n",
    "\n",
    "counts, _ = np.histogram(data_rf, bins=bins)\n",
    "percentages = counts / counts.sum() * 100\n",
    "\n",
    "fig, ax = plt.subplots(figsize=(12, 6))\n",
    "bars = ax.bar(labels, counts, alpha=0.8)\n",
    "\n",
    "for bar, pct in zip(bars, percentages):\n",
    "    ax.text(bar.get_x() + bar.get_width()/2, bar.get_height() + 0.01*counts.max(),\n",
    "            f'{pct:.1f}%', ha='center', va='bottom', fontsize=9)\n",
    "\n",
    "ax.set_xlabel('Duration (milliseconds)')\n",
    "ax.set_ylabel('Tick Counts')\n",
    "ax.set_title('GLFT+RFC Tick Execution Times')\n",
    "ax.set_xticklabels(labels, rotation=45, ha='right')\n",
    "ax.grid(axis='y', linestyle='--', linewidth=0.5, alpha=0.6)\n",
    "plt.tight_layout()\n",
    "plt.savefig(\"../../plots/execution_times/glft_rfc_execution_times.png\")\n",
    "plt.show()\n"
   ],
   "id": "c813d4aa23dc3dfa",
   "outputs": [],
   "execution_count": null
  },
  {
   "metadata": {},
   "cell_type": "code",
   "source": [
    "bins = [0,0.01, 0.02, 0.03, 0.04, 0.05, np.inf]\n",
    "labels = ['<0.01 ms', '0.01-0.02 ms', '0.02-0.03 ms', '0.03-0.04 ms', '0.04-0.05 ms', '>0.05 ms']\n",
    "\n",
    "counts = np.histogram(data_glft, bins=bins)[0]\n",
    "count = np.sum(counts)\n",
    "percentages = (counts / count) * 100\n",
    "\n",
    "plt.figure(figsize=(10, 6))\n",
    "bars = plt.bar(labels, counts, alpha=0.7, label='GLFT+RF')\n",
    "\n",
    "for bar, pct in zip(bars, percentages):\n",
    "    height = bar.get_height()\n",
    "    plt.text(bar.get_x() + bar.get_width() / 2, height + 1, f'{pct:.1f}%', \n",
    "             ha='center', va='bottom', fontsize=10)\n",
    "\n",
    "plt.xlabel('Duration (milliseconds)')\n",
    "plt.ylabel('Tick Counts')\n",
    "plt.title('Base GLFT Execution Times')\n",
    "plt.xticks(rotation=45)\n",
    "plt.legend()\n",
    "plt.tight_layout()\n",
    "plt.savefig(\"../../plots/execution_times/glft_execution_times.png\")\n",
    "plt.show()"
   ],
   "id": "cd7e3ef744cb620",
   "outputs": [],
   "execution_count": null
  },
  {
   "metadata": {},
   "cell_type": "code",
   "source": [
    "tree_times = []\n",
    "\n",
    "for day in range(2, 32):\n",
    "    file_path = f\"../../results/daily/rf-tight-spread-constant-train-dynamic-norm/day_{day:02d}/tree_train_times_seconds.npy\"\n",
    "    train_times = np.load(file_path)\n",
    "    print(train_times)\n",
    "\n",
    "labels = [f\"Jan {i+2}\" for i in range(len(tree_times))]\n",
    "plt.figure(figsize=(12, 6))\n",
    "bars = plt.bar(labels, tree_times / 60, alpha=0.7)\n",
    "\n",
    "    \n",
    "plt.xlabel('Date (January 2025)')\n",
    "plt.ylabel('Training Time (minutes)')\n",
    "plt.title('RandomForestClassifier Training Times')\n",
    "plt.xticks(rotation=45)\n",
    "plt.tight_layout()\n",
    "plt.savefig(\"../../plots/execution_times/rf_tree_train_times.png\")\n",
    "plt.show()"
   ],
   "id": "cde1c3a3553b94ad",
   "outputs": [],
   "execution_count": null
  }
 ],
 "metadata": {
  "kernelspec": {
   "display_name": "Python 3",
   "language": "python",
   "name": "python3"
  },
  "language_info": {
   "codemirror_mode": {
    "name": "ipython",
    "version": 2
   },
   "file_extension": ".py",
   "mimetype": "text/x-python",
   "name": "python",
   "nbconvert_exporter": "python",
   "pygments_lexer": "ipython2",
   "version": "2.7.6"
  }
 },
 "nbformat": 4,
 "nbformat_minor": 5
}
