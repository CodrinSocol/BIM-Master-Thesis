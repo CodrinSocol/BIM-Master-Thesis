{
 "cells": [
  {
   "cell_type": "code",
   "id": "initial_id",
   "metadata": {
    "collapsed": true,
    "ExecuteTime": {
     "end_time": "2025-05-29T11:17:31.996697Z",
     "start_time": "2025-05-29T11:17:31.990655Z"
    }
   },
   "source": [
    "import numpy as np\n",
    "import optuna\n",
    "from hftbacktest import BacktestAsset, HashMapMarketDepthBacktest\n",
    "from hftbacktest import Recorder\n",
    "from hftbacktest.stats import LinearAssetRecord\n",
    "from strategies.glft import gridtrading_glft_mm\n",
    "\n",
    "# Data Input paths\n",
    "preprocessed_data_path = \"../data/daily_processed\"\n",
    "daily_eod_snapshots = \"../data/snapshots\""
   ],
   "outputs": [],
   "execution_count": 6
  },
  {
   "metadata": {
    "ExecuteTime": {
     "end_time": "2025-05-29T11:17:32.038357Z",
     "start_time": "2025-05-29T11:17:32.008761Z"
    }
   },
   "cell_type": "code",
   "source": [
    "# Taken from https://support.deribit.com/hc/en-us/articles/25944746248989-Fees\n",
    "MAKER_FEE = -0.0001   \n",
    "TAKER_FEE =  0.0005    \n",
    "\n",
    "max_position=50"
   ],
   "id": "5dbd3c3d58c7639e",
   "outputs": [],
   "execution_count": 7
  },
  {
   "metadata": {
    "ExecuteTime": {
     "end_time": "2025-05-29T11:17:32.066287Z",
     "start_time": "2025-05-29T11:17:32.054719Z"
    }
   },
   "cell_type": "code",
   "source": [
    "day_start = 2\n",
    "day_end = 22\n",
    "n_trading_days = day_end - day_start\n",
    "\n",
    "def objective(trial):\n",
    "    data_paths = []\n",
    "    for i in range(day_start, day_end):\n",
    "        day_file = f\"../data/daily_processed/deribit_eth_perp_2025-01-{i:02d}.npz\"\n",
    "        data_paths.append(day_file)\n",
    "        \n",
    "    eod = np.load(f\"../data/snapshots/deribit_eth_perp_2025-01-{day_start:02d}_eod.npz\")['data']\n",
    "\n",
    "    # Hyperparameters under optimization\n",
    "    gamma = trial.suggest_float(\"gamma\", 0.01, 0.1)\n",
    "    delta = trial.suggest_int(\"delta\", 1, 10)\n",
    "    adj1 = trial.suggest_float(\"adj1\", 0.01, 2)\n",
    "    adj2 = trial.suggest_float(\"adj2\", 0.01, 1)\n",
    "\n",
    "    asset = (\n",
    "        BacktestAsset()\n",
    "            .data(data_paths)\n",
    "            .initial_snapshot(eod)\n",
    "            .linear_asset(1.0)\n",
    "            .constant_latency(10000, 10000) \n",
    "            .risk_adverse_queue_model()\n",
    "            .no_partial_fill_exchange()\n",
    "            .trading_value_fee_model(MAKER_FEE, TAKER_FEE)\n",
    "            .tick_size(0.01)\n",
    "            .lot_size(1)\n",
    "            .last_trades_capacity(10000))\n",
    "    \n",
    "    hbt = HashMapMarketDepthBacktest([asset])\n",
    "    recorder = Recorder(1, n_trading_days* 1_000_000)\n",
    "    \n",
    "    gridtrading_glft_mm(hbt, recorder.recorder, n_trading_days, gamma, delta, adj1, adj2, max_position)\n",
    "    hbt.close()\n",
    "\n",
    "    stats = LinearAssetRecord(recorder.get(0)).stats()\n",
    "    return stats.summary(pretty=True)['Return'][0]"
   ],
   "id": "c5991a38d38d2ad0",
   "outputs": [],
   "execution_count": 8
  },
  {
   "metadata": {
    "ExecuteTime": {
     "end_time": "2025-05-29T11:17:51.869686Z",
     "start_time": "2025-05-29T11:17:32.104595Z"
    }
   },
   "cell_type": "code",
   "source": [
    "from optuna.samplers import TPESampler\n",
    "\n",
    "sampler = TPESampler(seed=42)\n",
    "study = optuna.create_study(direction='maximize', sampler=sampler)\n",
    "study.optimize(objective, n_trials=100)"
   ],
   "id": "638b6856a3d228e7",
   "outputs": [
    {
     "name": "stderr",
     "output_type": "stream",
     "text": [
      "[I 2025-05-29 13:17:32,109] A new study created in memory with name: no-name-55981e29-bbfe-4052-b186-7cf82990e46d\n"
     ]
    },
    {
     "name": "stdout",
     "output_type": "stream",
     "text": [
      "Hour: 0\n",
      "Hour: 1\n",
      "Hour: 2\n",
      "Hour: 3\n",
      "Hour: 4\n",
      "Hour: 5\n",
      "Hour: 6\n",
      "Hour: 7\n",
      "Hour: 8\n",
      "Hour: 9\n",
      "Hour: 10\n",
      "Hour: 11\n",
      "Hour: 12\n",
      "Hour: 13\n",
      "Hour: 14\n",
      "Hour: 15\n",
      "Hour: 16\n",
      "Hour: 17\n",
      "Hour: 18\n",
      "Hour: 19\n",
      "Hour: 20\n",
      "Hour: 21\n",
      "Hour: 22\n",
      "Hour: 23\n",
      "Hour: 0\n",
      "Hour: 1\n",
      "Hour: 2\n",
      "Hour: 3\n",
      "Hour: 4\n",
      "Hour: 5\n",
      "Hour: 6\n",
      "Hour: 7\n",
      "Hour: 8\n",
      "Hour: 9\n",
      "Hour: 10\n",
      "Hour: 11\n",
      "Hour: 12\n",
      "Hour: 13\n",
      "Hour: 14\n",
      "Hour: 15\n",
      "Hour: 16\n",
      "Hour: 17\n",
      "Hour: 18\n",
      "Hour: 19\n"
     ]
    },
    {
     "name": "stderr",
     "output_type": "stream",
     "text": [
      "[I 2025-05-29 13:17:51,856] Trial 0 finished with value: 300.0500000000002 and parameters: {'gamma': 0.04370861069626263, 'delta': 10, 'adj1': 1.4666679442046962, 'adj2': 0.6026718993550663}. Best is trial 0 with value: 300.0500000000002.\n"
     ]
    },
    {
     "name": "stdout",
     "output_type": "stream",
     "text": [
      "Hour: 20\n",
      "Hour: 21\n",
      "Hour: 22\n",
      "Hour: 23\n"
     ]
    }
   ],
   "execution_count": 9
  },
  {
   "metadata": {
    "ExecuteTime": {
     "end_time": "2025-05-29T11:17:52.024799Z",
     "start_time": "2025-05-29T11:17:52.017864Z"
    }
   },
   "cell_type": "code",
   "source": [
    "print(\"BEST Parameter Combinations\", study.best_params)\n",
    "print(\"BEST Return Achieved\", study.best_value)"
   ],
   "id": "9ead9766bae2136e",
   "outputs": [
    {
     "data": {
      "text/plain": [
       "{'gamma': 0.04370861069626263,\n",
       " 'delta': 10,\n",
       " 'adj1': 1.4666679442046962,\n",
       " 'adj2': 0.6026718993550663}"
      ]
     },
     "execution_count": 10,
     "metadata": {},
     "output_type": "execute_result"
    }
   ],
   "execution_count": 10
  }
 ],
 "metadata": {
  "kernelspec": {
   "display_name": "Python 3",
   "language": "python",
   "name": "python3"
  },
  "language_info": {
   "codemirror_mode": {
    "name": "ipython",
    "version": 2
   },
   "file_extension": ".py",
   "mimetype": "text/x-python",
   "name": "python",
   "nbconvert_exporter": "python",
   "pygments_lexer": "ipython2",
   "version": "2.7.6"
  }
 },
 "nbformat": 4,
 "nbformat_minor": 5
}
