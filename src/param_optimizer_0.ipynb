{
 "cells": [
  {
   "cell_type": "code",
   "id": "initial_id",
   "metadata": {
    "collapsed": true,
    "ExecuteTime": {
     "end_time": "2025-05-24T19:52:38.312685Z",
     "start_time": "2025-05-24T19:52:37.311750Z"
    }
   },
   "source": [
    "# Imports\n",
    "import numpy as np\n",
    "import optuna\n",
    "from hftbacktest import BacktestAsset, HashMapMarketDepthBacktest\n",
    "from hftbacktest import Recorder\n",
    "from hftbacktest.stats import LinearAssetRecord\n",
    "\n",
    "from src.strategies import glft\n",
    "\n",
    "# Data Input paths\n",
    "preprocessed_data_path = \"../data/daily_processed\"\n",
    "daily_eod_snapshots = \"../data/snapshots\" # EOD = End Of Day "
   ],
   "outputs": [
    {
     "name": "stderr",
     "output_type": "stream",
     "text": [
      "C:\\Users\\codri\\AppData\\Local\\Packages\\PythonSoftwareFoundation.Python.3.12_qbz5n2kfra8p0\\LocalCache\\local-packages\\Python312\\site-packages\\tqdm\\auto.py:21: TqdmWarning: IProgress not found. Please update jupyter and ipywidgets. See https://ipywidgets.readthedocs.io/en/stable/user_install.html\n",
      "  from .autonotebook import tqdm as notebook_tqdm\n"
     ]
    }
   ],
   "execution_count": 1
  },
  {
   "metadata": {
    "ExecuteTime": {
     "end_time": "2025-05-24T19:52:38.362801Z",
     "start_time": "2025-05-24T19:52:38.345710Z"
    }
   },
   "cell_type": "code",
   "source": [
    "# Taken from https://support.deribit.com/hc/en-us/articles/25944746248989-Fees\n",
    "MAKER_FEE = 0   \n",
    "TAKER_FEE =  0.0005    "
   ],
   "id": "5dbd3c3d58c7639e",
   "outputs": [],
   "execution_count": 2
  },
  {
   "metadata": {
    "ExecuteTime": {
     "end_time": "2025-05-24T19:52:39.892072Z",
     "start_time": "2025-05-24T19:52:39.872057Z"
    }
   },
   "cell_type": "code",
   "source": [
    "from src.strategies.glft import gridtrading_glft_mm\n",
    "day_start = 2\n",
    "day_end = 22\n",
    "\n",
    "\n",
    "def objective(trial):\n",
    "    data = []\n",
    "    latencies = []\n",
    "    for i in range(day_start, day_end):\n",
    "        day = str(i) if i > 9 else \"0\" + str(i)\n",
    "        day_file = f\"../data/daily_processed/deribit_eth_perp_2025-01-{day}.npz\"\n",
    "        day_latency = f\"../data/latencies/latency_2025-01-{day}_latency.npz\"\n",
    "        data.append(day_file)\n",
    "        # latencies.append(day_latency)\n",
    "    day_start_str = str(day_start - 1) if day_start > 10 else \"0\" + str(day_start - 1)\n",
    "    eod = np.load(f\"../data/snapshots/deribit_eth_perp_2025-01-{day_start_str}_eod.npz\")['data']\n",
    "\n",
    "    gamma = trial.suggest_float(\"gamma\", 0.01, 0.1)\n",
    "    delta = trial.suggest_int(\"delta\", 1, 10)\n",
    "    adj1 = trial.suggest_float(\"adj1\", 0.01, 2)\n",
    "    adj2 = trial.suggest_float(\"adj2\", 0.01, 1)\n",
    "    max_position=50\n",
    "    asset = (\n",
    "    BacktestAsset()\n",
    "        .data(data)\n",
    "        .initial_snapshot(eod)\n",
    "        .linear_asset(1.0)\n",
    "        # .intp_order_latency(latencies, True)\n",
    "        .constant_latency(10000, 10000) # Constant latency model (nanoseconds) values inspired from https://roq-trading.com/docs/blogs/2023-01-12/deribit/\n",
    "        .risk_adverse_queue_model()\n",
    "        # .power_prob_queue_model(2.0)\n",
    "        .no_partial_fill_exchange()\n",
    "        .trading_value_fee_model(MAKER_FEE, TAKER_FEE)\n",
    "        .tick_size(0.01) # Tick size of this asset: minimum price increasement\n",
    "        .lot_size(1) # Lot size of this asset: minimum trading unit\n",
    "        # .roi_lb(0.0) # Sets the lower bound price for the range of interest in the market depth.\n",
    "        # .roi_ub(3000.0) # Sets the upper bound price for the range of interest in the market depth.\n",
    "        .last_trades_capacity(10000)\n",
    "    )\n",
    "    \n",
    "    hbt = HashMapMarketDepthBacktest([asset])\n",
    "  \n",
    "    n_trading_days = day_end - day_start\n",
    "    recorder = Recorder(1, n_trading_days* 1_000_000)\n",
    "    \n",
    "    gridtrading_glft_mm(hbt, recorder.recorder, n_trading_days, gamma, delta, adj1, adj2, max_position)\n",
    "    hbt.close()\n",
    "\n",
    "    stats = LinearAssetRecord(recorder.get(0)).stats()\n",
    "    return stats.summary(pretty=True)['Return'][0]"
   ],
   "id": "c5991a38d38d2ad0",
   "outputs": [],
   "execution_count": 3
  },
  {
   "metadata": {
    "ExecuteTime": {
     "end_time": "2025-05-25T04:42:15.496313Z",
     "start_time": "2025-05-24T19:52:39.926177Z"
    }
   },
   "cell_type": "code",
   "source": [
    "from optuna.samplers import TPESampler\n",
    "\n",
    "sampler = TPESampler(seed=42) # ensures reproducibility\n",
    "study = optuna.create_study(direction='maximize', sampler=sampler)\n",
    "study.optimize(objective, n_trials=100)"
   ],
   "id": "638b6856a3d228e7",
   "outputs": [
    {
     "name": "stderr",
     "output_type": "stream",
     "text": [
      "[I 2025-05-24 21:52:39,934] A new study created in memory with name: no-name-2027d5b9-1e4f-46cc-b63c-0137c734aa21\n",
      "[I 2025-05-24 21:57:56,553] Trial 0 finished with value: 141.0950000000007 and parameters: {'gamma': 0.04370861069626263, 'delta': 10, 'adj1': 1.4666679442046962, 'adj2': 0.6026718993550663}. Best is trial 0 with value: 141.0950000000007.\n",
      "[I 2025-05-24 22:03:15,261] Trial 1 finished with value: -307791.6550000008 and parameters: {'gamma': 0.02404167763981929, 'delta': 2, 'adj1': 0.12558638821471693, 'adj2': 0.8675143843171859}. Best is trial 0 with value: 141.0950000000007.\n",
      "[I 2025-05-24 22:09:02,731] Trial 2 finished with value: -98620.63499999975 and parameters: {'gamma': 0.0641003510568888, 'delta': 8, 'adj1': 0.05096314364864687, 'adj2': 0.9702107536403743}. Best is trial 0 with value: 141.0950000000007.\n",
      "[I 2025-05-24 22:14:34,772] Trial 3 finished with value: -2661.5100000000634 and parameters: {'gamma': 0.08491983767203796, 'delta': 3, 'adj1': 0.37183168474213024, 'adj2': 0.1915704647548995}. Best is trial 0 with value: 141.0950000000007.\n",
      "[I 2025-05-24 22:21:11,075] Trial 4 finished with value: -1497.5750000000148 and parameters: {'gamma': 0.0373818018663584, 'delta': 6, 'adj1': 0.8695705870978103, 'adj2': 0.2983168487960615}. Best is trial 0 with value: 141.0950000000007.\n",
      "[I 2025-05-24 22:26:51,596] Trial 5 finished with value: -2925.0300000000116 and parameters: {'gamma': 0.06506676052501416, 'delta': 2, 'adj1': 0.5913678505850841, 'adj2': 0.37269822486075477}. Best is trial 0 with value: 141.0950000000007.\n",
      "[I 2025-05-24 22:32:27,657] Trial 6 finished with value: -1515.7050000000013 and parameters: {'gamma': 0.05104629857953324, 'delta': 8, 'adj1': 0.4073508264951359, 'adj2': 0.5190920940294755}. Best is trial 0 with value: 141.0950000000007.\n",
      "[I 2025-05-24 22:38:10,895] Trial 7 finished with value: -1068.620000000025 and parameters: {'gamma': 0.06331731119758383, 'delta': 1, 'adj1': 1.2190142552838623, 'adj2': 0.17881888245041863}. Best is trial 0 with value: 141.0950000000007.\n",
      "[I 2025-05-24 22:46:13,299] Trial 8 finished with value: -295.1800000000094 and parameters: {'gamma': 0.015854643368675158, 'delta': 10, 'adj1': 1.9316077458183731, 'adj2': 0.8103133746352965}. Best is trial 0 with value: 141.0950000000007.\n",
      "[I 2025-05-24 22:53:27,483] Trial 9 finished with value: -1008.2900000000554 and parameters: {'gamma': 0.037415239225603365, 'delta': 1, 'adj1': 1.3716237227591923, 'adj2': 0.44575096880220527}. Best is trial 0 with value: 141.0950000000007.\n",
      "[I 2025-05-24 23:00:26,425] Trial 10 finished with value: -329.8949999999995 and parameters: {'gamma': 0.09506228898073485, 'delta': 10, 'adj1': 1.7190805979333625, 'adj2': 0.6434002111954676}. Best is trial 0 with value: 141.0950000000007.\n",
      "[I 2025-05-24 23:07:05,777] Trial 11 finished with value: -759.7649999999976 and parameters: {'gamma': 0.012873677253206088, 'delta': 10, 'adj1': 1.9740029220626922, 'adj2': 0.7195953427706637}. Best is trial 0 with value: 141.0950000000007.\n",
      "[I 2025-05-24 23:14:02,108] Trial 12 finished with value: -1474.859999999987 and parameters: {'gamma': 0.015853095449189013, 'delta': 8, 'adj1': 1.6115439518765018, 'adj2': 0.7499202454321569}. Best is trial 0 with value: 141.0950000000007.\n",
      "[I 2025-05-24 23:23:03,077] Trial 13 finished with value: 6.270000000001346 and parameters: {'gamma': 0.031247332375555867, 'delta': 6, 'adj1': 1.9813278833741348, 'adj2': 0.5965278994040877}. Best is trial 0 with value: 141.0950000000007.\n",
      "[I 2025-05-24 23:32:18,207] Trial 14 finished with value: -493.83999999998514 and parameters: {'gamma': 0.03928342572870959, 'delta': 5, 'adj1': 1.462196416407445, 'adj2': 0.5565059776747641}. Best is trial 0 with value: 141.0950000000007.\n",
      "[I 2025-05-24 23:41:33,376] Trial 15 finished with value: -32.8100000000195 and parameters: {'gamma': 0.04843944765333953, 'delta': 5, 'adj1': 1.029553390058374, 'adj2': 0.6267050719155305}. Best is trial 0 with value: 141.0950000000007.\n",
      "[I 2025-05-24 23:50:26,573] Trial 16 finished with value: -1023.9700000000039 and parameters: {'gamma': 0.03479368755401657, 'delta': 7, 'adj1': 1.6995412885477061, 'adj2': 0.4083622390979166}. Best is trial 0 with value: 141.0950000000007.\n",
      "[I 2025-05-24 23:56:04,644] Trial 17 finished with value: -4741.919999999999 and parameters: {'gamma': 0.026877936829003073, 'delta': 4, 'adj1': 1.133096325239297, 'adj2': 0.06581395341179308}. Best is trial 0 with value: 141.0950000000007.\n",
      "[I 2025-05-25 00:01:13,184] Trial 18 finished with value: -93.19999999999709 and parameters: {'gamma': 0.04788985780423852, 'delta': 9, 'adj1': 1.8290376701116489, 'adj2': 0.5939157011298031}. Best is trial 0 with value: 141.0950000000007.\n",
      "[I 2025-05-25 00:06:24,118] Trial 19 finished with value: 79.25000000001091 and parameters: {'gamma': 0.07568513465785315, 'delta': 6, 'adj1': 1.4205656215491191, 'adj2': 0.9960568194676015}. Best is trial 0 with value: 141.0950000000007.\n",
      "[I 2025-05-25 00:12:08,778] Trial 20 finished with value: -239.55499999999165 and parameters: {'gamma': 0.07654395544625571, 'delta': 7, 'adj1': 0.8362611665629673, 'adj2': 0.9919094293215608}. Best is trial 0 with value: 141.0950000000007.\n",
      "[I 2025-05-25 00:17:39,798] Trial 21 finished with value: -325.8699999999926 and parameters: {'gamma': 0.0751656507444513, 'delta': 6, 'adj1': 1.449870534516312, 'adj2': 0.9021927365656672}. Best is trial 0 with value: 141.0950000000007.\n",
      "[I 2025-05-25 00:22:50,948] Trial 22 finished with value: -1044.4049999999775 and parameters: {'gamma': 0.028140288921797242, 'delta': 4, 'adj1': 1.303573017538015, 'adj2': 0.704686889932833}. Best is trial 0 with value: 141.0950000000007.\n",
      "[I 2025-05-25 00:27:55,334] Trial 23 finished with value: 359.7049999999881 and parameters: {'gamma': 0.057221243838915026, 'delta': 7, 'adj1': 1.5537472456160746, 'adj2': 0.4826060689247641}. Best is trial 23 with value: 359.7049999999881.\n",
      "[I 2025-05-25 00:32:45,184] Trial 24 finished with value: -735.5099999999966 and parameters: {'gamma': 0.05610566407577444, 'delta': 9, 'adj1': 1.5500068073237847, 'adj2': 0.3103930816424091}. Best is trial 23 with value: 359.7049999999881.\n",
      "[I 2025-05-25 00:37:42,444] Trial 25 finished with value: -364.76500000000397 and parameters: {'gamma': 0.07445849349448307, 'delta': 7, 'adj1': 1.210734880084608, 'adj2': 0.4752910122196455}. Best is trial 23 with value: 359.7049999999881.\n",
      "[I 2025-05-25 00:42:41,749] Trial 26 finished with value: -586.9300000000021 and parameters: {'gamma': 0.08835652010367459, 'delta': 9, 'adj1': 1.5840509446236428, 'adj2': 0.8594692010407965}. Best is trial 23 with value: 359.7049999999881.\n",
      "[I 2025-05-25 00:47:43,451] Trial 27 finished with value: 159.29499999998734 and parameters: {'gamma': 0.05901149953685057, 'delta': 4, 'adj1': 1.7749669329681796, 'adj2': 0.32983288823688744}. Best is trial 23 with value: 359.7049999999881.\n",
      "[I 2025-05-25 00:52:40,778] Trial 28 finished with value: -563.8300000000063 and parameters: {'gamma': 0.055394907150270165, 'delta': 4, 'adj1': 1.7956667811560374, 'adj2': 0.2845365180299906}. Best is trial 23 with value: 359.7049999999881.\n",
      "[I 2025-05-25 00:57:35,954] Trial 29 finished with value: -373.1850000000104 and parameters: {'gamma': 0.0442581700787599, 'delta': 3, 'adj1': 1.8342914436066846, 'adj2': 0.3832159802228371}. Best is trial 23 with value: 359.7049999999881.\n",
      "[I 2025-05-25 01:02:28,926] Trial 30 finished with value: -762.5449999999782 and parameters: {'gamma': 0.0610155791099929, 'delta': 3, 'adj1': 1.6623612573694442, 'adj2': 0.20934998471365412}. Best is trial 23 with value: 359.7049999999881.\n",
      "[I 2025-05-25 01:07:28,095] Trial 31 finished with value: 393.4350000000072 and parameters: {'gamma': 0.07080995520778455, 'delta': 5, 'adj1': 1.4809046301405568, 'adj2': 0.09999318550454073}. Best is trial 31 with value: 393.4350000000072.\n",
      "[I 2025-05-25 01:12:22,530] Trial 32 finished with value: -1764.8400000000024 and parameters: {'gamma': 0.06914620184936394, 'delta': 5, 'adj1': 1.5343627760833798, 'adj2': 0.0910623433756762}. Best is trial 31 with value: 393.4350000000072.\n",
      "[I 2025-05-25 01:17:15,568] Trial 33 finished with value: -384.784999999978 and parameters: {'gamma': 0.058296160918032726, 'delta': 4, 'adj1': 1.3184349285772274, 'adj2': 0.1518093791304005}. Best is trial 31 with value: 393.4350000000072.\n",
      "[I 2025-05-25 01:22:09,394] Trial 34 finished with value: -1200.220000000023 and parameters: {'gamma': 0.06881174363523726, 'delta': 5, 'adj1': 1.079853028853644, 'adj2': 0.01024254521894953}. Best is trial 31 with value: 393.4350000000072.\n",
      "[I 2025-05-25 01:26:59,191] Trial 35 finished with value: -1377.2400000000116 and parameters: {'gamma': 0.04345530745353114, 'delta': 2, 'adj1': 0.8592629576297419, 'adj2': 0.2473040181213748}. Best is trial 31 with value: 393.4350000000072.\n",
      "[I 2025-05-25 01:31:56,313] Trial 36 finished with value: -348.16499999999587 and parameters: {'gamma': 0.052942623241445524, 'delta': 7, 'adj1': 1.7730129026048074, 'adj2': 0.47511668593251777}. Best is trial 31 with value: 393.4350000000072.\n",
      "[I 2025-05-25 01:36:43,444] Trial 37 finished with value: -1801.3300000000086 and parameters: {'gamma': 0.06828285288323721, 'delta': 2, 'adj1': 0.6900829609103023, 'adj2': 0.34584875977764673}. Best is trial 31 with value: 393.4350000000072.\n",
      "[I 2025-05-25 01:41:38,548] Trial 38 finished with value: 366.399999999996 and parameters: {'gamma': 0.08431288039673751, 'delta': 8, 'adj1': 1.2313940709309015, 'adj2': 0.5289806651680574}. Best is trial 31 with value: 393.4350000000072.\n",
      "[I 2025-05-25 01:46:34,426] Trial 39 finished with value: 301.8099999999895 and parameters: {'gamma': 0.08320757118030916, 'delta': 8, 'adj1': 1.2572744053756493, 'adj2': 0.5029357982418591}. Best is trial 31 with value: 393.4350000000072.\n",
      "[I 2025-05-25 01:51:32,228] Trial 40 finished with value: 153.15499999999702 and parameters: {'gamma': 0.08316237265130262, 'delta': 8, 'adj1': 0.9407619547532178, 'adj2': 0.4275771692314962}. Best is trial 31 with value: 393.4350000000072.\n",
      "[I 2025-05-25 01:56:28,757] Trial 41 finished with value: 202.84999999998672 and parameters: {'gamma': 0.08175520762227849, 'delta': 8, 'adj1': 1.2757054330775954, 'adj2': 0.5169971393478787}. Best is trial 31 with value: 393.4350000000072.\n",
      "[I 2025-05-25 02:01:28,432] Trial 42 finished with value: -869.2550000000142 and parameters: {'gamma': 0.09709779258440865, 'delta': 8, 'adj1': 1.295236479607778, 'adj2': 0.5332167878592212}. Best is trial 31 with value: 393.4350000000072.\n",
      "[I 2025-05-25 02:06:24,481] Trial 43 finished with value: 48.36000000000422 and parameters: {'gamma': 0.08950349251999354, 'delta': 7, 'adj1': 1.1881139613863794, 'adj2': 0.6725515486510798}. Best is trial 31 with value: 393.4350000000072.\n",
      "[I 2025-05-25 02:11:21,867] Trial 44 finished with value: -61.09500000000935 and parameters: {'gamma': 0.08347448498787138, 'delta': 9, 'adj1': 1.123623298312322, 'adj2': 0.55813520354948}. Best is trial 31 with value: 393.4350000000072.\n",
      "[I 2025-05-25 02:16:17,794] Trial 45 finished with value: -380.370000000004 and parameters: {'gamma': 0.07981163511491755, 'delta': 8, 'adj1': 1.3479636787756397, 'adj2': 0.4889079581635051}. Best is trial 31 with value: 393.4350000000072.\n",
      "[I 2025-05-25 02:21:13,184] Trial 46 finished with value: -232.5600000000013 and parameters: {'gamma': 0.09187033520166105, 'delta': 8, 'adj1': 0.9808159992537315, 'adj2': 0.4410673800635856}. Best is trial 31 with value: 393.4350000000072.\n",
      "[I 2025-05-25 02:26:07,520] Trial 47 finished with value: -1315.8299999999454 and parameters: {'gamma': 0.0800917100700633, 'delta': 7, 'adj1': 0.26178015184875914, 'adj2': 0.784925229078647}. Best is trial 31 with value: 393.4350000000072.\n",
      "[I 2025-05-25 02:31:05,252] Trial 48 finished with value: 320.844999999998 and parameters: {'gamma': 0.08766398466746494, 'delta': 9, 'adj1': 1.245237523599964, 'adj2': 0.5279216744477724}. Best is trial 31 with value: 393.4350000000072.\n",
      "[I 2025-05-25 02:36:02,010] Trial 49 finished with value: -470.5900000000047 and parameters: {'gamma': 0.08796528200806307, 'delta': 10, 'adj1': 1.4762330240218162, 'adj2': 0.5806485014434976}. Best is trial 31 with value: 393.4350000000072.\n",
      "[I 2025-05-25 02:41:00,954] Trial 50 finished with value: 643.2600000000043 and parameters: {'gamma': 0.09939890793657055, 'delta': 9, 'adj1': 1.4073199185806045, 'adj2': 0.6679133674247772}. Best is trial 50 with value: 643.2600000000043.\n",
      "[I 2025-05-25 02:45:58,693] Trial 51 finished with value: -652.5099999999966 and parameters: {'gamma': 0.09945534410252727, 'delta': 9, 'adj1': 1.3897496949266117, 'adj2': 0.6464613271384381}. Best is trial 50 with value: 643.2600000000043.\n",
      "[I 2025-05-25 02:50:58,034] Trial 52 finished with value: -735.3699999999944 and parameters: {'gamma': 0.0937028742224558, 'delta': 9, 'adj1': 1.2436448113694185, 'adj2': 0.6830605319105618}. Best is trial 50 with value: 643.2600000000043.\n",
      "[I 2025-05-25 02:55:56,992] Trial 53 finished with value: 378.73500000000195 and parameters: {'gamma': 0.09071508757550116, 'delta': 10, 'adj1': 1.5110113693731777, 'adj2': 0.38057109058938443}. Best is trial 50 with value: 643.2600000000043.\n",
      "[I 2025-05-25 03:00:54,910] Trial 54 finished with value: -201.0800000000081 and parameters: {'gamma': 0.09655978752089553, 'delta': 10, 'adj1': 1.5124183428314077, 'adj2': 0.4018137158650704}. Best is trial 50 with value: 643.2600000000043.\n",
      "[I 2025-05-25 03:05:52,942] Trial 55 finished with value: 290.5699999999988 and parameters: {'gamma': 0.0877434460331504, 'delta': 10, 'adj1': 1.6475337432735229, 'adj2': 0.6284399758846703}. Best is trial 50 with value: 643.2600000000043.\n",
      "[I 2025-05-25 03:10:52,059] Trial 56 finished with value: -275.474999999999 and parameters: {'gamma': 0.09205228183987077, 'delta': 9, 'adj1': 1.3898331958667272, 'adj2': 0.748397765312837}. Best is trial 50 with value: 643.2600000000043.\n",
      "[I 2025-05-25 03:15:50,596] Trial 57 finished with value: -195.23999999999705 and parameters: {'gamma': 0.09927341365765291, 'delta': 10, 'adj1': 1.6023261935718003, 'adj2': 0.5590359025525337}. Best is trial 50 with value: 643.2600000000043.\n",
      "[I 2025-05-25 03:20:46,329] Trial 58 finished with value: -798.965000000007 and parameters: {'gamma': 0.07198790966445359, 'delta': 9, 'adj1': 1.4870265903772222, 'adj2': 0.3631454456653067}. Best is trial 50 with value: 643.2600000000043.\n",
      "[I 2025-05-25 03:25:45,281] Trial 59 finished with value: -1305.0050000000156 and parameters: {'gamma': 0.06492920340487657, 'delta': 6, 'adj1': 1.8900579482059636, 'adj2': 0.14348736068011053}. Best is trial 50 with value: 643.2600000000043.\n",
      "[I 2025-05-25 03:30:38,958] Trial 60 finished with value: -172.92499999999336 and parameters: {'gamma': 0.07782085575419205, 'delta': 10, 'adj1': 1.1228822719463578, 'adj2': 0.47119978372045174}. Best is trial 50 with value: 643.2600000000043.\n",
      "[I 2025-05-25 03:35:36,708] Trial 61 finished with value: -1033.3100000000013 and parameters: {'gamma': 0.08696062602806338, 'delta': 9, 'adj1': 1.1924713689272994, 'adj2': 0.5122209549860984}. Best is trial 50 with value: 643.2600000000043.\n",
      "[I 2025-05-25 03:40:33,326] Trial 62 finished with value: -766.4100000000012 and parameters: {'gamma': 0.08470500651314349, 'delta': 8, 'adj1': 1.4091979113364594, 'adj2': 0.5892796881884563}. Best is trial 50 with value: 643.2600000000043.\n",
      "[I 2025-05-25 03:45:28,171] Trial 63 finished with value: -982.365000000003 and parameters: {'gamma': 0.09069419258167336, 'delta': 7, 'adj1': 1.7047564566903939, 'adj2': 0.4380873645088025}. Best is trial 50 with value: 643.2600000000043.\n",
      "[I 2025-05-25 03:50:20,754] Trial 64 finished with value: -221.25499999999738 and parameters: {'gamma': 0.09402547134795514, 'delta': 9, 'adj1': 1.349308826946964, 'adj2': 0.6244893561318418}. Best is trial 50 with value: 643.2600000000043.\n",
      "[I 2025-05-25 03:55:17,132] Trial 65 finished with value: -1060.5350000000085 and parameters: {'gamma': 0.08542271082896243, 'delta': 8, 'adj1': 1.4351154039264953, 'adj2': 0.26528894763953537}. Best is trial 50 with value: 643.2600000000043.\n",
      "[I 2025-05-25 04:00:11,945] Trial 66 finished with value: -466.3799999999983 and parameters: {'gamma': 0.07917951328808381, 'delta': 9, 'adj1': 1.0310787472569873, 'adj2': 0.5352524472977488}. Best is trial 50 with value: 643.2600000000043.\n",
      "[I 2025-05-25 04:05:08,142] Trial 67 finished with value: -113.55500000000347 and parameters: {'gamma': 0.09549459961619806, 'delta': 5, 'adj1': 1.5554279169939111, 'adj2': 0.4934438256720135}. Best is trial 50 with value: 643.2600000000043.\n",
      "[I 2025-05-25 04:10:03,512] Trial 68 finished with value: -50.675000000004275 and parameters: {'gamma': 0.07448469364712311, 'delta': 8, 'adj1': 1.242411890276671, 'adj2': 0.8881866950597772}. Best is trial 50 with value: 643.2600000000043.\n",
      "[I 2025-05-25 04:14:53,269] Trial 69 finished with value: -987.6799999999621 and parameters: {'gamma': 0.020531626541008846, 'delta': 6, 'adj1': 1.1457709417552755, 'adj2': 0.8291267519493528}. Best is trial 50 with value: 643.2600000000043.\n",
      "[I 2025-05-25 04:19:47,652] Trial 70 finished with value: -211.84999999999673 and parameters: {'gamma': 0.07084882581877999, 'delta': 10, 'adj1': 1.6100551151284361, 'adj2': 0.3910037289252019}. Best is trial 50 with value: 643.2600000000043.\n",
      "[I 2025-05-25 04:24:42,504] Trial 71 finished with value: 204.26499999999714 and parameters: {'gamma': 0.08697732432031319, 'delta': 10, 'adj1': 1.6683196545868297, 'adj2': 0.6435378418044152}. Best is trial 50 with value: 643.2600000000043.\n",
      "[I 2025-05-25 04:29:34,729] Trial 72 finished with value: 44.33499999999776 and parameters: {'gamma': 0.09031251119951772, 'delta': 10, 'adj1': 1.5082687968828445, 'adj2': 0.611777245141335}. Best is trial 50 with value: 643.2600000000043.\n",
      "[I 2025-05-25 04:34:29,261] Trial 73 finished with value: -64.80999999999813 and parameters: {'gamma': 0.08133697981374059, 'delta': 9, 'adj1': 1.6310131016119511, 'adj2': 0.7031478747776234}. Best is trial 50 with value: 643.2600000000043.\n",
      "[I 2025-05-25 04:39:27,725] Trial 74 finished with value: -149.19000000001188 and parameters: {'gamma': 0.06261911550999152, 'delta': 10, 'adj1': 1.447044200919896, 'adj2': 0.5751096382256511}. Best is trial 50 with value: 643.2600000000043.\n",
      "[I 2025-05-25 04:44:21,959] Trial 75 finished with value: -38.54499999999689 and parameters: {'gamma': 0.09310078002890766, 'delta': 7, 'adj1': 1.3506592485638336, 'adj2': 0.666777903472382}. Best is trial 50 with value: 643.2600000000043.\n",
      "[I 2025-05-25 04:49:15,847] Trial 76 finished with value: -528.3749999999977 and parameters: {'gamma': 0.08572160869645264, 'delta': 8, 'adj1': 1.7366700225324825, 'adj2': 0.460533842713999}. Best is trial 50 with value: 643.2600000000043.\n",
      "[I 2025-05-25 04:54:09,753] Trial 77 finished with value: -143.26999999999225 and parameters: {'gamma': 0.09748190598625531, 'delta': 10, 'adj1': 0.7862967538104535, 'adj2': 0.7340366760508126}. Best is trial 50 with value: 643.2600000000043.\n",
      "[I 2025-05-25 04:59:05,252] Trial 78 finished with value: -84.28000000001202 and parameters: {'gamma': 0.07284939197387275, 'delta': 8, 'adj1': 1.2745943199638552, 'adj2': 0.5412038306784763}. Best is trial 50 with value: 643.2600000000043.\n",
      "[I 2025-05-25 05:04:02,477] Trial 79 finished with value: -558.854999999995 and parameters: {'gamma': 0.07708597928662025, 'delta': 9, 'adj1': 1.5531891397630992, 'adj2': 0.7790229801633143}. Best is trial 50 with value: 643.2600000000043.\n",
      "[I 2025-05-25 05:08:58,151] Trial 80 finished with value: 111.8399999999956 and parameters: {'gamma': 0.08272778083025545, 'delta': 9, 'adj1': 1.9000912325434327, 'adj2': 0.41860791633567723}. Best is trial 50 with value: 643.2600000000043.\n",
      "[I 2025-05-25 05:13:49,779] Trial 81 finished with value: -136.59000000000106 and parameters: {'gamma': 0.08807512965559725, 'delta': 10, 'adj1': 1.670774948311638, 'adj2': 0.64057820766617}. Best is trial 50 with value: 643.2600000000043.\n",
      "[I 2025-05-25 05:18:46,381] Trial 82 finished with value: -583.21 and parameters: {'gamma': 0.08926080153695963, 'delta': 10, 'adj1': 1.6747751002643634, 'adj2': 0.60293301934953}. Best is trial 50 with value: 643.2600000000043.\n",
      "[I 2025-05-25 05:23:45,167] Trial 83 finished with value: 475.5900000000038 and parameters: {'gamma': 0.08624879935289277, 'delta': 10, 'adj1': 1.5745046252968922, 'adj2': 0.5044660817775624}. Best is trial 50 with value: 643.2600000000043.\n",
      "[I 2025-05-25 05:28:43,377] Trial 84 finished with value: 325.77500000000055 and parameters: {'gamma': 0.08522451074853579, 'delta': 9, 'adj1': 1.577316708759047, 'adj2': 0.5053853917999324}. Best is trial 50 with value: 643.2600000000043.\n",
      "[I 2025-05-25 05:33:40,188] Trial 85 finished with value: -369.174999999992 and parameters: {'gamma': 0.08314352030127663, 'delta': 9, 'adj1': 1.5706038184521787, 'adj2': 0.5103133130825404}. Best is trial 50 with value: 643.2600000000043.\n",
      "[I 2025-05-25 05:38:36,534] Trial 86 finished with value: -543.7599999999998 and parameters: {'gamma': 0.05134306702099462, 'delta': 8, 'adj1': 1.3218222381011118, 'adj2': 0.31540084646523125}. Best is trial 50 with value: 643.2600000000043.\n",
      "[I 2025-05-25 05:43:30,743] Trial 87 finished with value: 269.47499999999945 and parameters: {'gamma': 0.06686101361185506, 'delta': 5, 'adj1': 1.4666754495427925, 'adj2': 0.45487261497507997}. Best is trial 50 with value: 643.2600000000043.\n",
      "[I 2025-05-25 05:48:29,012] Trial 88 finished with value: -385.65500000000293 and parameters: {'gamma': 0.07887735531887943, 'delta': 7, 'adj1': 1.391658229642788, 'adj2': 0.3612734107435523}. Best is trial 50 with value: 643.2600000000043.\n",
      "[I 2025-05-25 05:53:26,390] Trial 89 finished with value: -258.5349999999962 and parameters: {'gamma': 0.09199192534588307, 'delta': 9, 'adj1': 1.513863781613731, 'adj2': 0.22171568072981726}. Best is trial 50 with value: 643.2600000000043.\n",
      "[I 2025-05-25 05:58:19,984] Trial 90 finished with value: 775.4899999999993 and parameters: {'gamma': 0.09567350535157498, 'delta': 8, 'adj1': 1.7415630518447094, 'adj2': 0.05228624970424862}. Best is trial 90 with value: 775.4899999999993.\n",
      "[I 2025-05-25 06:03:10,831] Trial 91 finished with value: -151209.8250000013 and parameters: {'gamma': 0.09443141438949818, 'delta': 8, 'adj1': 0.030455956909999804, 'adj2': 0.0333079765305605}. Best is trial 90 with value: 775.4899999999993.\n",
      "[I 2025-05-25 06:08:07,073] Trial 92 finished with value: 425.2599999999984 and parameters: {'gamma': 0.0999484926948878, 'delta': 8, 'adj1': 1.7415863132166158, 'adj2': 0.11992750952211284}. Best is trial 90 with value: 775.4899999999993.\n",
      "[I 2025-05-25 06:13:03,322] Trial 93 finished with value: 757.7050000000022 and parameters: {'gamma': 0.09795824571820112, 'delta': 9, 'adj1': 1.844258340034349, 'adj2': 0.11277237384118668}. Best is trial 90 with value: 775.4899999999993.\n",
      "[I 2025-05-25 06:17:58,150] Trial 94 finished with value: 385.9849999999933 and parameters: {'gamma': 0.09973790849247499, 'delta': 7, 'adj1': 1.8250547792799074, 'adj2': 0.0938679281481707}. Best is trial 90 with value: 775.4899999999993.\n",
      "[I 2025-05-25 06:22:56,377] Trial 95 finished with value: 365.2899999999945 and parameters: {'gamma': 0.09983947787930612, 'delta': 7, 'adj1': 1.8475322241719914, 'adj2': 0.09951613818502858}. Best is trial 90 with value: 775.4899999999993.\n",
      "[I 2025-05-25 06:27:54,893] Trial 96 finished with value: 571.3800000000028 and parameters: {'gamma': 0.09992230710315506, 'delta': 6, 'adj1': 1.8370429778265134, 'adj2': 0.10668797791460725}. Best is trial 90 with value: 775.4899999999993.\n",
      "[I 2025-05-25 06:32:51,354] Trial 97 finished with value: -761.2100000000028 and parameters: {'gamma': 0.09752555603376263, 'delta': 6, 'adj1': 1.8002317983714358, 'adj2': 0.12308487771132245}. Best is trial 90 with value: 775.4899999999993.\n",
      "[I 2025-05-25 06:37:41,235] Trial 98 finished with value: 999.5099999999975 and parameters: {'gamma': 0.09623412767966626, 'delta': 6, 'adj1': 1.93155856130175, 'adj2': 0.07016533681837103}. Best is trial 98 with value: 999.5099999999975.\n",
      "[I 2025-05-25 06:42:15,439] Trial 99 finished with value: -152.350000000004 and parameters: {'gamma': 0.0962169431981406, 'delta': 6, 'adj1': 1.9854632607978264, 'adj2': 0.06705829844442965}. Best is trial 98 with value: 999.5099999999975.\n"
     ]
    }
   ],
   "execution_count": 4
  },
  {
   "metadata": {
    "ExecuteTime": {
     "end_time": "2025-05-25T04:42:15.622062Z",
     "start_time": "2025-05-25T04:42:15.575395Z"
    }
   },
   "cell_type": "code",
   "source": "study.best_params",
   "id": "9ead9766bae2136e",
   "outputs": [
    {
     "data": {
      "text/plain": [
       "{'gamma': 0.09623412767966626,\n",
       " 'delta': 6,\n",
       " 'adj1': 1.93155856130175,\n",
       " 'adj2': 0.07016533681837103}"
      ]
     },
     "execution_count": 5,
     "metadata": {},
     "output_type": "execute_result"
    }
   ],
   "execution_count": 5
  }
 ],
 "metadata": {
  "kernelspec": {
   "display_name": "Python 3",
   "language": "python",
   "name": "python3"
  },
  "language_info": {
   "codemirror_mode": {
    "name": "ipython",
    "version": 2
   },
   "file_extension": ".py",
   "mimetype": "text/x-python",
   "name": "python",
   "nbconvert_exporter": "python",
   "pygments_lexer": "ipython2",
   "version": "2.7.6"
  }
 },
 "nbformat": 4,
 "nbformat_minor": 5
}
