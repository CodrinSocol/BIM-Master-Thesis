{
 "cells": [
  {
   "cell_type": "code",
   "id": "initial_id",
   "metadata": {
    "collapsed": true,
    "ExecuteTime": {
     "end_time": "2025-06-01T18:40:00.055986Z",
     "start_time": "2025-06-01T18:39:59.334874Z"
    }
   },
   "source": [
    "# Imports\n",
    "import numpy as np\n",
    "from hftbacktest import BacktestAsset, HashMapMarketDepthBacktest\n",
    "from hftbacktest import Recorder\n",
    "from hftbacktest.stats import LinearAssetRecord\n",
    "import pandas as pd\n",
    "\n",
    "# Data Input paths\n",
    "preprocessed_data_path = \"../data/daily_processed\"\n",
    "daily_eod_snapshots = \"../data/snapshots\" # EOD = End Of Day "
   ],
   "outputs": [],
   "execution_count": 1
  },
  {
   "metadata": {
    "ExecuteTime": {
     "end_time": "2025-06-01T18:40:00.075649Z",
     "start_time": "2025-06-01T18:40:00.060190Z"
    }
   },
   "cell_type": "code",
   "source": [
    "day_start = 2\n",
    "day_end = 3\n",
    "data = []\n",
    "\n",
    "for i in range(day_start, day_end):\n",
    "    day = str(i) if i > 9 else \"0\" + str(i)\n",
    "    day_file = f\"../data/daily_processed/deribit_eth_perp_2025-01-{day}.npz\"\n",
    "    \n",
    "    day_latency = f\"../data/latencies/latency_2025-01-{day}_latency.npz\"\n",
    "    data.append(day_file)\n",
    "\n",
    "day_start_str = str(day_start - 1) if day_start > 10 else \"0\" + str(day_start - 1)\n",
    "eod = np.load(f\"../data/snapshots/deribit_eth_perp_2025-01-{day_start_str}_eod.npz\")['data']\n",
    "\n",
    "stats = pd.read_csv(\"../data-generated/depth_stats/daily_stats_25_merged.csv\").to_numpy()\n"
   ],
   "id": "847bd4d0f16ff276",
   "outputs": [],
   "execution_count": 2
  },
  {
   "metadata": {
    "ExecuteTime": {
     "end_time": "2025-06-01T18:40:04.487264Z",
     "start_time": "2025-06-01T18:40:00.251607Z"
    }
   },
   "cell_type": "code",
   "source": [
    "from src.others.backtest_generate_features import build_rf_features\n",
    "\n",
    "\n",
    "# Taken from https://support.deribit.com/hc/en-us/articles/25944746248989-Fees\n",
    "MAKER_FEE = -0.0001\n",
    "TAKER_FEE =  0.0005    \n",
    "\n",
    "gamma = 0.01143319447439636\n",
    "delta = 1\n",
    "adj1 = 0.9314120055506834\n",
    "adj2 = 0.43081606500331926\n",
    "\n",
    "max_position=50\n",
    "asset = (\n",
    "BacktestAsset()\n",
    "    .data(data)\n",
    "    .initial_snapshot(eod)\n",
    "    .linear_asset(1.0)\n",
    "    # .intp_order_latency(latencies, True)\n",
    "    .constant_latency(10000, 10000) # Constant latency model (nanoseconds) values inspired from https://roq-trading.com/docs/blogs/2023-01-12/deribit/\n",
    "    .risk_adverse_queue_model()\n",
    "    # .power_prob_queue_model(2.0)\n",
    "    .no_partial_fill_exchange()\n",
    "    .trading_value_fee_model(MAKER_FEE, TAKER_FEE)\n",
    "    .tick_size(0.01) # Tick size of this asset: minimum price increasement\n",
    "    .lot_size(1) # Lot size of this asset: minimum trading unit\n",
    "    # .roi_lb(0.0) # Sets the lower bound price for the range of interest in the market depth.\n",
    "    # .roi_ub(3000.0) # Sets the upper bound price for the range of interest in the market depth.\n",
    "    .last_trades_capacity(10000)\n",
    ")\n",
    "\n",
    "hbt = HashMapMarketDepthBacktest([asset])\n",
    "\n",
    "n_trading_days = day_end - day_start\n",
    "recorder = Recorder(1, n_trading_days* 1_000_000)\n",
    "\n",
    "features, mid_prices, t = build_rf_features(hbt, 2, stats)\n",
    "hbt.close()\n",
    "\n",
    "np.save(\"../data/features/normalized_01_jan.npy\", features)\n",
    "np.save(\"../data/features/mid_prices_01_jan.npy\", mid_prices)"
   ],
   "id": "4ea0a2fe4c5648a5",
   "outputs": [
    {
     "name": "stdout",
     "output_type": "stream",
     "text": [
      "got here\n"
     ]
    }
   ],
   "execution_count": 3
  },
  {
   "metadata": {
    "ExecuteTime": {
     "end_time": "2025-06-01T18:40:04.602394Z",
     "start_time": "2025-06-01T18:40:04.593526Z"
    }
   },
   "cell_type": "code",
   "source": "stats",
   "id": "61d08bc2d8b7fb2f",
   "outputs": [
    {
     "data": {
      "text/plain": [
       "array([[3.34011515e+03, 1.07219772e+01, 3.00603849e+04, ...,\n",
       "        1.06755936e+01, 1.91794201e+04, 2.46277385e+04],\n",
       "       [3.44102787e+03, 3.44609639e+01, 3.24759358e+04, ...,\n",
       "        3.45532493e+01, 2.03756267e+04, 2.80579426e+04],\n",
       "       [3.51886512e+03, 6.63322083e+01, 4.42608279e+04, ...,\n",
       "        6.62780423e+01, 2.31986311e+04, 2.57416562e+04],\n",
       "       ...,\n",
       "       [3.11849339e+03, 2.18191748e+01, 3.10509825e+04, ...,\n",
       "        2.18603157e+01, 2.45695303e+04, 5.02425575e+04],\n",
       "       [3.22316908e+03, 4.70695717e+01, 3.30069553e+04, ...,\n",
       "        4.70435578e+01, 2.67825707e+04, 5.41798893e+04],\n",
       "       [3.31608227e+03, 5.39999857e+01, 2.62828821e+04, ...,\n",
       "        5.39238616e+01, 2.56036233e+04, 4.11591841e+04]])"
      ]
     },
     "execution_count": 4,
     "metadata": {},
     "output_type": "execute_result"
    }
   ],
   "execution_count": 4
  },
  {
   "metadata": {
    "ExecuteTime": {
     "end_time": "2025-06-01T18:40:04.649657Z",
     "start_time": "2025-06-01T18:40:04.644557Z"
    }
   },
   "cell_type": "code",
   "source": "",
   "id": "f068c9fe3032ab67",
   "outputs": [],
   "execution_count": null
  }
 ],
 "metadata": {
  "kernelspec": {
   "display_name": "Python 3",
   "language": "python",
   "name": "python3"
  },
  "language_info": {
   "codemirror_mode": {
    "name": "ipython",
    "version": 2
   },
   "file_extension": ".py",
   "mimetype": "text/x-python",
   "name": "python",
   "nbconvert_exporter": "python",
   "pygments_lexer": "ipython2",
   "version": "2.7.6"
  }
 },
 "nbformat": 4,
 "nbformat_minor": 5
}
