{
 "cells": [
  {
   "cell_type": "code",
   "id": "initial_id",
   "metadata": {
    "collapsed": true,
    "jupyter": {
     "is_executing": true
    }
   },
   "source": [
    "# Imports\n",
    "import numpy as np\n",
    "from numba import njit\n",
    "\n",
    "from src.pre_processing.clean_data import clean_deribit_data_for_day\n",
    "\n",
    "from hftbacktest import BacktestAsset, HashMapMarketDepthBacktest\n",
    "from hftbacktest.data.utils.snapshot import create_last_snapshot"
   ],
   "outputs": [],
   "execution_count": null
  },
  {
   "metadata": {},
   "cell_type": "code",
   "outputs": [],
   "execution_count": null,
   "source": "data = clean_deribit_data_for_day(\"2025-01-03\")",
   "id": "e1520f865ae0814f"
  },
  {
   "metadata": {},
   "cell_type": "code",
   "outputs": [],
   "execution_count": null,
   "source": [
    "data_path = \"../clean_data/deribit_eth_perp_2025-01-03.npz\"\n",
    "output_path = \"../clean_data/deribit_eth_perp_2025-01-03_snap.npz\"\n",
    "snap = create_last_snapshot(data, tick_size=0.5, lot_size=1, output_snapshot_filename=output_path)\n"
   ],
   "id": "e229719e90ba60ca"
  },
  {
   "metadata": {},
   "cell_type": "code",
   "outputs": [],
   "execution_count": null,
   "source": [
    "asset = (\n",
    "    BacktestAsset()\n",
    "      .data([snap])\n",
    "      .initial_snapshot(output_path)\n",
    "      .inverse_asset(contract_size=10.0)\n",
    "      .tick_size(0.5).lot_size(1)\n",
    "      .constant_latency(1_000_000, 1_000_000)\n",
    "      .risk_adverse_queue_model()\n",
    ")\n",
    "\n",
    "hbt = HashMapMarketDepthBacktest([asset])"
   ],
   "id": "bc31a5e125c23a1a"
  }
 ],
 "metadata": {
  "kernelspec": {
   "display_name": "Python 3",
   "language": "python",
   "name": "python3"
  },
  "language_info": {
   "codemirror_mode": {
    "name": "ipython",
    "version": 2
   },
   "file_extension": ".py",
   "mimetype": "text/x-python",
   "name": "python",
   "nbconvert_exporter": "python",
   "pygments_lexer": "ipython2",
   "version": "2.7.6"
  }
 },
 "nbformat": 4,
 "nbformat_minor": 5
}
