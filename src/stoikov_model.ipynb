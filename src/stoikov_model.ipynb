{
 "cells": [
  {
   "cell_type": "code",
   "id": "initial_id",
   "metadata": {
    "collapsed": true,
    "ExecuteTime": {
     "end_time": "2025-04-21T11:22:42.057836Z",
     "start_time": "2025-04-21T11:22:39.197336Z"
    }
   },
   "source": [
    "# Imports\n",
    "import numpy as np\n",
    "from numba import njit\n",
    "\n",
    "from src.pre_processing.clean_data import clean_deribit_data_for_day\n",
    "\n",
    "from hftbacktest import BacktestAsset, HashMapMarketDepthBacktest\n",
    "from hftbacktest.data.utils.snapshot import create_last_snapshot"
   ],
   "outputs": [],
   "execution_count": 1
  },
  {
   "metadata": {
    "ExecuteTime": {
     "end_time": "2025-04-21T11:24:01.090271Z",
     "start_time": "2025-04-21T11:22:46.369773Z"
    }
   },
   "cell_type": "code",
   "source": "data = clean_deribit_data_for_day(\"2025-01-03\")",
   "id": "e1520f865ae0814f",
   "outputs": [
    {
     "name": "stdout",
     "output_type": "stream",
     "text": [
      "Reading ..\\data\\2025-01-03\\deribit_trades_ETH-PERPETUAL.csv.gz\n",
      "Reading ..\\data\\2025-01-03\\deribit_incremental_book_L2_ETH-PERPETUAL.csv.gz\n",
      "Correcting the latency\n",
      "Correcting the event order\n",
      "Saving to ..\\clean_data\\deribit_eth_perp_2025-01-03.npz\n"
     ]
    }
   ],
   "execution_count": 2
  },
  {
   "metadata": {
    "ExecuteTime": {
     "end_time": "2025-04-21T11:41:54.572036Z",
     "start_time": "2025-04-21T11:41:50.129406Z"
    }
   },
   "cell_type": "code",
   "source": [
    "data_path = \"../clean_data/deribit_eth_perp_2025-01-03.npz\"\n",
    "output_path = \"../clean_data/deribit_eth_perp_2025-01-03_snap.npz\"\n",
    "snap = create_last_snapshot(data_path, tick_size=0.5, lot_size=1, output_snapshot_filename=output_path)\n"
   ],
   "id": "e229719e90ba60ca",
   "outputs": [],
   "execution_count": 10
  },
  {
   "metadata": {
    "ExecuteTime": {
     "end_time": "2025-04-21T11:42:00.370038Z",
     "start_time": "2025-04-21T11:42:00.360489Z"
    }
   },
   "cell_type": "code",
   "source": [
    "asset = (\n",
    "    BacktestAsset()\n",
    "      .data([snap])\n",
    "      .initial_snapshot(output_path)\n",
    "      .inverse_asset(contract_size=10.0)\n",
    "      .tick_size(0.5).lot_size(1)\n",
    "      .constant_latency(1_000_000, 1_000_000)\n",
    "      .risk_adverse_queue_model()\n",
    ")\n",
    "\n",
    "hbt = HashMapMarketDepthBacktest([asset])"
   ],
   "id": "bc31a5e125c23a1a",
   "outputs": [],
   "execution_count": 11
  },
  {
   "metadata": {
    "ExecuteTime": {
     "end_time": "2025-04-21T11:42:01.814440Z",
     "start_time": "2025-04-21T11:42:01.807091Z"
    }
   },
   "cell_type": "code",
   "source": "depth = hbt.depth(0)",
   "id": "56a5c66fd4e1249d",
   "outputs": [],
   "execution_count": 12
  }
 ],
 "metadata": {
  "kernelspec": {
   "display_name": "Python 3",
   "language": "python",
   "name": "python3"
  },
  "language_info": {
   "codemirror_mode": {
    "name": "ipython",
    "version": 2
   },
   "file_extension": ".py",
   "mimetype": "text/x-python",
   "name": "python",
   "nbconvert_exporter": "python",
   "pygments_lexer": "ipython2",
   "version": "2.7.6"
  }
 },
 "nbformat": 4,
 "nbformat_minor": 5
}
