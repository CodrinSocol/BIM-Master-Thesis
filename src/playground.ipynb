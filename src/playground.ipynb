{
 "cells": [
  {
   "cell_type": "code",
   "id": "initial_id",
   "metadata": {
    "collapsed": true,
    "ExecuteTime": {
     "end_time": "2025-04-21T16:23:49.771198Z",
     "start_time": "2025-04-21T16:23:48.511510Z"
    }
   },
   "source": [
    "import numpy as np\n",
    "import pandas as pd\n",
    "from hftbacktest import BacktestAsset, HashMapMarketDepthBacktest\n",
    "from src.playground_docs import print_bbo\n",
    "from numba import njit\n",
    "\n",
    "from numba.typed import List\n",
    "from numba import int64, float64\n",
    "\n",
    "import polars as pl"
   ],
   "outputs": [],
   "execution_count": 13
  },
  {
   "metadata": {
    "ExecuteTime": {
     "end_time": "2025-04-21T16:19:14.790225Z",
     "start_time": "2025-04-21T16:19:06.017208Z"
    }
   },
   "cell_type": "code",
   "source": [
    "jan_2 = np.load(\"../data/daily_processed/deribit_eth_perp_2025-01-02.npz\")['data']\n",
    "\n",
    "asset = (BacktestAsset()\n",
    "        .data([jan_2])\n",
    "        .linear_asset(1.0)\n",
    "        .constant_latency(10_000_000, 10_000_000)\n",
    "        .risk_adverse_queue_model()\n",
    "        .no_partial_fill_exchange()\n",
    "        .trading_value_fee_model(0.0002, 0.0007)\n",
    "        .tick_size(0.1)\n",
    "        .lot_size(0.001)\n",
    ")\n",
    "\n",
    "hbt = HashMapMarketDepthBacktest([asset])\n",
    "\n",
    "@njit\n",
    "def plot_bbo(hbt, local_timestamp, best_bid, best_ask):\n",
    "    while hbt.elapse(1 * 1e9) == 0:\n",
    "        # Records data points\n",
    "        local_timestamp.append(hbt.current_timestamp)\n",
    "\n",
    "        depth = hbt.depth(0)\n",
    "\n",
    "        best_bid.append(depth.best_bid)\n",
    "        best_ask.append(depth.best_ask)\n",
    "    return True\n",
    "\n",
    "local_timestamp = List.empty_list(int64, allocated=10000)\n",
    "best_bid = List.empty_list(float64, allocated=10000)\n",
    "best_ask = List.empty_list(float64, allocated=10000)\n",
    "\n",
    "\n",
    "plot_bbo(hbt, local_timestamp, best_bid, best_ask)\n",
    "\n",
    "hbt.close()\n",
    "\n",
    "\n"
   ],
   "id": "25511d92c6948343",
   "outputs": [
    {
     "data": {
      "text/plain": [
       "0"
      ]
     },
     "execution_count": 2,
     "metadata": {},
     "output_type": "execute_result"
    }
   ],
   "execution_count": 2
  },
  {
   "metadata": {
    "ExecuteTime": {
     "end_time": "2025-04-21T16:30:22.447191Z",
     "start_time": "2025-04-21T16:30:21.880212Z"
    }
   },
   "cell_type": "code",
   "source": [
    "df = pl.DataFrame({'timestamp': local_timestamp, 'best_bid': best_bid, 'best_ask': best_ask})\n",
    "df = df.with_columns(\n",
    "    pl.from_epoch('timestamp', time_unit='ns')\n",
    ")\n",
    "df = df[:5000]\n",
    "plot = df.plot(x=\"timestamp\")\n",
    "\n",
    "# on the same plot, plot the best bid and best ask lines\n",
    "plot.line(x='timestamp', y='best_bid', color='blue')\n",
    "plot.line(x='timestamp', y='best_ask', color='red')\n"
   ],
   "id": "afbb807044d1fa32",
   "outputs": [
    {
     "ename": "TypeError",
     "evalue": "'DataFramePlot' object is not callable",
     "output_type": "error",
     "traceback": [
      "\u001B[1;31m---------------------------------------------------------------------------\u001B[0m",
      "\u001B[1;31mTypeError\u001B[0m                                 Traceback (most recent call last)",
      "Cell \u001B[1;32mIn[19], line 6\u001B[0m\n\u001B[0;32m      2\u001B[0m df \u001B[38;5;241m=\u001B[39m df\u001B[38;5;241m.\u001B[39mwith_columns(\n\u001B[0;32m      3\u001B[0m     pl\u001B[38;5;241m.\u001B[39mfrom_epoch(\u001B[38;5;124m'\u001B[39m\u001B[38;5;124mtimestamp\u001B[39m\u001B[38;5;124m'\u001B[39m, time_unit\u001B[38;5;241m=\u001B[39m\u001B[38;5;124m'\u001B[39m\u001B[38;5;124mns\u001B[39m\u001B[38;5;124m'\u001B[39m)\n\u001B[0;32m      4\u001B[0m )\n\u001B[0;32m      5\u001B[0m df \u001B[38;5;241m=\u001B[39m df[:\u001B[38;5;241m5000\u001B[39m]\n\u001B[1;32m----> 6\u001B[0m plot \u001B[38;5;241m=\u001B[39m \u001B[43mdf\u001B[49m\u001B[38;5;241;43m.\u001B[39;49m\u001B[43mplot\u001B[49m\u001B[43m(\u001B[49m\u001B[43mx\u001B[49m\u001B[38;5;241;43m=\u001B[39;49m\u001B[38;5;124;43m\"\u001B[39;49m\u001B[38;5;124;43mtimestamp\u001B[39;49m\u001B[38;5;124;43m\"\u001B[39;49m\u001B[43m)\u001B[49m\n\u001B[0;32m      8\u001B[0m \u001B[38;5;66;03m# on the same plot, plot the best bid and best ask lines\u001B[39;00m\n\u001B[0;32m      9\u001B[0m plot\u001B[38;5;241m.\u001B[39mline(x\u001B[38;5;241m=\u001B[39m\u001B[38;5;124m'\u001B[39m\u001B[38;5;124mtimestamp\u001B[39m\u001B[38;5;124m'\u001B[39m, y\u001B[38;5;241m=\u001B[39m\u001B[38;5;124m'\u001B[39m\u001B[38;5;124mbest_bid\u001B[39m\u001B[38;5;124m'\u001B[39m, color\u001B[38;5;241m=\u001B[39m\u001B[38;5;124m'\u001B[39m\u001B[38;5;124mblue\u001B[39m\u001B[38;5;124m'\u001B[39m)\n",
      "\u001B[1;31mTypeError\u001B[0m: 'DataFramePlot' object is not callable"
     ]
    }
   ],
   "execution_count": 19
  }
 ],
 "metadata": {
  "kernelspec": {
   "display_name": "Python 3",
   "language": "python",
   "name": "python3"
  },
  "language_info": {
   "codemirror_mode": {
    "name": "ipython",
    "version": 2
   },
   "file_extension": ".py",
   "mimetype": "text/x-python",
   "name": "python",
   "nbconvert_exporter": "python",
   "pygments_lexer": "ipython2",
   "version": "2.7.6"
  }
 },
 "nbformat": 4,
 "nbformat_minor": 5
}
